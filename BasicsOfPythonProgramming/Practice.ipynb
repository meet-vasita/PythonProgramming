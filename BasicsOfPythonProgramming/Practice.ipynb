{
 "cells": [
  {
   "cell_type": "code",
   "execution_count": 1,
   "metadata": {},
   "outputs": [
    {
     "name": "stdout",
     "output_type": "stream",
     "text": [
      "['Hello']\n"
     ]
    }
   ],
   "source": [
    "lst = []\n",
    "lst.append('Hello')\n",
    "print(lst)"
   ]
  },
  {
   "cell_type": "code",
   "execution_count": 2,
   "metadata": {},
   "outputs": [
    {
     "name": "stdout",
     "output_type": "stream",
     "text": [
      "['Hello', 'World']\n"
     ]
    }
   ],
   "source": [
    "lst.insert(1,'World')\n",
    "print(lst)"
   ]
  },
  {
   "cell_type": "code",
   "execution_count": 3,
   "metadata": {},
   "outputs": [
    {
     "name": "stdout",
     "output_type": "stream",
     "text": [
      "[10, 20, 30, 40, 50, 60]\n",
      "[10, 20, 400, 30, 40, 50, 60]\n"
     ]
    }
   ],
   "source": [
    "lst = [10,20,30,40,50]\n",
    "lst.append(60)\n",
    "print(lst)\n",
    "lst.insert(2,400)\n",
    "print(lst)\n"
   ]
  },
  {
   "cell_type": "code",
   "execution_count": 4,
   "metadata": {},
   "outputs": [
    {
     "name": "stdout",
     "output_type": "stream",
     "text": [
      "[10, 20, [30, 40, [50, 60, [70, [80, [[40]]]]], 70], 80]\n"
     ]
    }
   ],
   "source": [
    "lst = lst = [10,20,[30,40,[50,60,[70,[80,[[40]]]]],70],80]\n",
    "\n",
    "print(lst)"
   ]
  },
  {
   "cell_type": "code",
   "execution_count": 5,
   "metadata": {},
   "outputs": [
    {
     "name": "stdout",
     "output_type": "stream",
     "text": [
      "40\n"
     ]
    }
   ],
   "source": [
    "print(lst[2][2][2][1][1][0][0])"
   ]
  },
  {
   "cell_type": "code",
   "execution_count": 6,
   "metadata": {},
   "outputs": [
    {
     "name": "stdout",
     "output_type": "stream",
     "text": [
      "200\n"
     ]
    }
   ],
   "source": [
    "lst = [10,20,(100,200),[300,400,900]]\n",
    "print(lst[2][1])"
   ]
  },
  {
   "cell_type": "code",
   "execution_count": 7,
   "metadata": {},
   "outputs": [
    {
     "name": "stdout",
     "output_type": "stream",
     "text": [
      "(100, 200, 300, 400, [600, 700])\n"
     ]
    }
   ],
   "source": [
    "tup = (100,200,300,400,[600,700])\n",
    "print(tup)"
   ]
  },
  {
   "cell_type": "code",
   "execution_count": 8,
   "metadata": {},
   "outputs": [
    {
     "name": "stdout",
     "output_type": "stream",
     "text": [
      "{'A': 10, 'B': 20, 'C': 30}\n"
     ]
    }
   ],
   "source": [
    "dict = {\n",
    "    'A':10,\n",
    "    'B':20,\n",
    "    'C':30\n",
    "}\n",
    "\n",
    "print(dict)"
   ]
  },
  {
   "cell_type": "code",
   "execution_count": 9,
   "metadata": {},
   "outputs": [
    {
     "data": {
      "text/plain": [
       "{'A': 10, 'B': 20, 'C': 30, 'D': 80}"
      ]
     },
     "execution_count": 9,
     "metadata": {},
     "output_type": "execute_result"
    }
   ],
   "source": [
    "dict.update({'D':80})\n",
    "dict"
   ]
  },
  {
   "cell_type": "code",
   "execution_count": 10,
   "metadata": {},
   "outputs": [
    {
     "data": {
      "text/plain": [
       "{'India': [100, 300, 500],\n",
       " 'USA': [500, 600, 700, 800],\n",
       " 'UK': ['HI', 'World', 'Python']}"
      ]
     },
     "execution_count": 10,
     "metadata": {},
     "output_type": "execute_result"
    }
   ],
   "source": [
    "dict = {'India':[100,300,500],\n",
    "        'USA':[500,600,700,800],\n",
    "        'UK':['HI','World','Python']}\n",
    "dict"
   ]
  },
  {
   "cell_type": "code",
   "execution_count": 11,
   "metadata": {},
   "outputs": [
    {
     "data": {
      "text/plain": [
       "'Python'"
      ]
     },
     "execution_count": 11,
     "metadata": {},
     "output_type": "execute_result"
    }
   ],
   "source": [
    "dict['UK'][2]"
   ]
  },
  {
   "cell_type": "code",
   "execution_count": 12,
   "metadata": {},
   "outputs": [
    {
     "name": "stdout",
     "output_type": "stream",
     "text": [
      "0\n",
      "1\n",
      "2\n",
      "3\n",
      "4\n",
      "5\n",
      "6\n",
      "7\n",
      "8\n",
      "9\n"
     ]
    }
   ],
   "source": [
    "for i in range(0,10):\n",
    "    print(i)\n"
   ]
  },
  {
   "cell_type": "code",
   "execution_count": 13,
   "metadata": {},
   "outputs": [
    {
     "name": "stdout",
     "output_type": "stream",
     "text": [
      "0\n",
      "1\n",
      "2\n",
      "3\n",
      "4\n",
      "5\n"
     ]
    }
   ],
   "source": [
    "for i in range(0,10):\n",
    "    print(i)\n",
    "    if i == 5:\n",
    "        break\n"
   ]
  },
  {
   "cell_type": "code",
   "execution_count": 14,
   "metadata": {},
   "outputs": [
    {
     "name": "stdout",
     "output_type": "stream",
     "text": [
      "0\n",
      "2\n",
      "4\n",
      "6\n",
      "8\n"
     ]
    }
   ],
   "source": [
    "for i in range(0,10):\n",
    "    if i % 2 == 0:\n",
    "        print(i)"
   ]
  },
  {
   "cell_type": "code",
   "execution_count": 15,
   "metadata": {},
   "outputs": [
    {
     "data": {
      "text/plain": [
       "{'India': [1000, 2000, 3000],\n",
       " 'USA': (100, 200, 300),\n",
       " 'Uk': {'India', 'PAK', 'UAE'}}"
      ]
     },
     "execution_count": 15,
     "metadata": {},
     "output_type": "execute_result"
    }
   ],
   "source": [
    "dict = {\n",
    "    'India':[1000,2000,3000],\n",
    "    'USA':(100,200,300),\n",
    "    'Uk':{'India','PAK','UAE'}\n",
    "}\n",
    "dict"
   ]
  },
  {
   "cell_type": "code",
   "execution_count": 16,
   "metadata": {},
   "outputs": [
    {
     "name": "stdout",
     "output_type": "stream",
     "text": [
      "0\n",
      "1\n",
      "2\n",
      "3\n",
      "4\n",
      "6\n",
      "7\n",
      "8\n",
      "9\n"
     ]
    }
   ],
   "source": [
    "for i in range(0,10):\n",
    "    if i == 5:\n",
    "        continue \n",
    "    print(i)"
   ]
  },
  {
   "cell_type": "code",
   "execution_count": 17,
   "metadata": {},
   "outputs": [
    {
     "name": "stdout",
     "output_type": "stream",
     "text": [
      "hello world\n"
     ]
    }
   ],
   "source": [
    "if 1 == 1:\n",
    "    print(\"hello world\")"
   ]
  },
  {
   "cell_type": "code",
   "execution_count": 18,
   "metadata": {},
   "outputs": [
    {
     "name": "stdout",
     "output_type": "stream",
     "text": [
      "The Threshould value is bigger \n"
     ]
    }
   ],
   "source": [
    "num = float(input(\"Enter the number : \"))\n",
    "\n",
    "threshold = 200\n",
    "\n",
    "if num > threshold:\n",
    "    print(\"The Num value is greate\")\n",
    "    \n",
    "else:\n",
    "    print(\"The Threshould value is bigger \")"
   ]
  },
  {
   "cell_type": "code",
   "execution_count": 19,
   "metadata": {},
   "outputs": [
    {
     "name": "stdout",
     "output_type": "stream",
     "text": [
      "Low Grade\n"
     ]
    }
   ],
   "source": [
    "marks = float(input(\"Enter the marks : \"))\n",
    "\n",
    "if marks > 80:\n",
    "    print(\"Bright Student\")\n",
    "elif marks > 70 and marks < 79:\n",
    "    print(\"Good Student\")\n",
    "elif marks > 60 and marks < 69:\n",
    "    print(\"Average Student\")\n",
    "elif marks > 50 and marks < 59:\n",
    "    print(\"Weak Student\")\n",
    "else:\n",
    "    print(\"Low Grade\") \n",
    "\n",
    "\n"
   ]
  },
  {
   "cell_type": "code",
   "execution_count": 20,
   "metadata": {},
   "outputs": [
    {
     "name": "stdout",
     "output_type": "stream",
     "text": [
      "Withdrawl succesful! Current Amount is 4996\n"
     ]
    }
   ],
   "source": [
    "withdraw = int(input(\"Enter the amount\"))\n",
    "balance = 5000\n",
    "\n",
    "if withdraw <= balance:\n",
    "    balance -= withdraw\n",
    "    print(f'Withdrawl succesful! Current Amount is {balance}' )\n",
    "else:\n",
    "    print(\"insuffecient balance\")"
   ]
  },
  {
   "cell_type": "code",
   "execution_count": 21,
   "metadata": {},
   "outputs": [
    {
     "name": "stdout",
     "output_type": "stream",
     "text": [
      "*\n",
      "**\n",
      "***\n",
      "****\n",
      "*****\n",
      "******\n",
      "*******\n",
      "********\n",
      "*********\n"
     ]
    }
   ],
   "source": [
    "for i in range(1,10):\n",
    "    print('*' * i)"
   ]
  },
  {
   "cell_type": "code",
   "execution_count": 22,
   "metadata": {},
   "outputs": [
    {
     "name": "stdout",
     "output_type": "stream",
     "text": [
      "*****\n",
      "****\n",
      "***\n",
      "**\n",
      "*\n"
     ]
    }
   ],
   "source": [
    "for i in range(5,0,-1):\n",
    "    print('*' * i)"
   ]
  },
  {
   "cell_type": "code",
   "execution_count": 23,
   "metadata": {},
   "outputs": [
    {
     "name": "stdout",
     "output_type": "stream",
     "text": [
      "\n",
      "*\n",
      "**\n",
      "***\n",
      "****\n",
      "*****\n",
      "******\n",
      "*******\n",
      "********\n",
      "*********\n",
      "&&&&&&&&&&\n",
      "&&&&&&&&&\n",
      "&&&&&&&&\n",
      "&&&&&&&\n",
      "&&&&&&\n",
      "&&&&&\n",
      "&&&&\n",
      "&&&\n",
      "&&\n",
      "&\n"
     ]
    }
   ],
   "source": [
    "for i in range(0,10):\n",
    "    print('*' * i)\n",
    "\n",
    "for j in range(10,0,-1):\n",
    "    print('&' * j)"
   ]
  },
  {
   "cell_type": "code",
   "execution_count": 24,
   "metadata": {},
   "outputs": [
    {
     "name": "stdout",
     "output_type": "stream",
     "text": [
      "300\n"
     ]
    }
   ],
   "source": [
    "#lamda function\n",
    "add = lambda x,y: x+y\n",
    "print(add(100,200))"
   ]
  },
  {
   "cell_type": "code",
   "execution_count": 25,
   "metadata": {},
   "outputs": [],
   "source": [
    "mul = lambda x,y: x*y"
   ]
  },
  {
   "cell_type": "code",
   "execution_count": 26,
   "metadata": {},
   "outputs": [
    {
     "name": "stdout",
     "output_type": "stream",
     "text": [
      "20.0\n"
     ]
    }
   ],
   "source": [
    "num1= float(input(\"enter a number1\"))\n",
    "num2= float(input(\"enter a  number2\"))\n",
    "\n",
    "num = mul(num1,num2)\n",
    "print(num)"
   ]
  },
  {
   "cell_type": "code",
   "execution_count": 27,
   "metadata": {},
   "outputs": [
    {
     "name": "stdout",
     "output_type": "stream",
     "text": [
      "hii\n"
     ]
    }
   ],
   "source": [
    "class abc:\n",
    "    print('hii')\n",
    "\n",
    "obj = abc()"
   ]
  },
  {
   "cell_type": "code",
   "execution_count": 28,
   "metadata": {},
   "outputs": [],
   "source": [
    "class my_car:\n",
    "    pass"
   ]
  },
  {
   "cell_type": "code",
   "execution_count": 29,
   "metadata": {},
   "outputs": [
    {
     "name": "stdout",
     "output_type": "stream",
     "text": [
      "12345\n",
      "Hello World\n"
     ]
    }
   ],
   "source": [
    "class meet:\n",
    "    \n",
    "    i = 12345 #Attribute\n",
    "\n",
    "    def f(self): #Method\n",
    "        return \"Hello World\"\n",
    "    \n",
    "x = meet()\n",
    "\n",
    "print(x.i)\n",
    " \n",
    "print(x.f())"
   ]
  },
  {
   "cell_type": "code",
   "execution_count": 30,
   "metadata": {},
   "outputs": [],
   "source": [
    "def __init__(self):\n",
    "    self.data = []"
   ]
  },
  {
   "cell_type": "code",
   "execution_count": 31,
   "metadata": {},
   "outputs": [
    {
     "name": "stdout",
     "output_type": "stream",
     "text": [
      "1000\n",
      "2000\n"
     ]
    }
   ],
   "source": [
    "# class abc:\n",
    "#     def __init__(self):\n",
    "#         self.num1 = 1000\n",
    "#         self.num2 = 2000\n",
    "        \n",
    "\n",
    "# m = abc()\n",
    "\n",
    "# m.num1\n",
    "\n",
    "class abc:\n",
    "    def __init__(self):\n",
    "        self.num1 = 1000  # You can ignore the parameters if you're hardcoding values\n",
    "        self.num2 = 2000\n",
    "    \n",
    "    def showdata(self):\n",
    "        print(f'{self.num1}')\n",
    "        print(f'{self.num2}')\n",
    "\n",
    "# Create an object with two arguments (even though they’re not used)\n",
    "x = abc()\n",
    "\n",
    "# Call the method\n",
    "x.showdata()"
   ]
  },
  {
   "cell_type": "code",
   "execution_count": 32,
   "metadata": {},
   "outputs": [
    {
     "name": "stdout",
     "output_type": "stream",
     "text": [
      "The Car Brand is Porsche\n",
      "                The Car Model is 911\n",
      "                The Car Colour is Red\n",
      "                The Car Fuel_Type is Petrol\n",
      "None\n",
      "The Car Brand is BMW\n",
      "                The Car Model is X7\n",
      "                The Car Colour is Black\n",
      "                The Car Fuel_Type is Petrol\n",
      "None\n",
      "The Car Brand is Hyundai\n",
      "                The Car Model is Alcazar\n",
      "                The Car Colour is Red\n",
      "                The Car Fuel_Type is Diesel\n",
      "None\n",
      "The Car Brand is Porsche\n",
      "                The Car Model is Panamera\n",
      "                The Car Colour is Brown\n",
      "                The Car Fuel_Type is Petrol\n",
      "None\n",
      "The Car Brand is Mercedes\n",
      "                The Car Model is C-Class\n",
      "                The Car Colour is Black\n",
      "                The Car Fuel_Type is Petrol\n",
      "None\n"
     ]
    }
   ],
   "source": [
    "class my_car:\n",
    "    def __init__(self,brand,model,colour,fuel_type):\n",
    "        self.brand = brand\n",
    "        self.model = model\n",
    "        self.colour = colour\n",
    "        self.fuel_type = fuel_type\n",
    "\n",
    "    def show_car(self):\n",
    "            print(f'''The Car Brand is {self.brand}\n",
    "                The Car Model is {self.model}\n",
    "                The Car Colour is {self.colour}\n",
    "                The Car Fuel_Type is {self.fuel_type}''')\n",
    "            \n",
    "car1 = my_car('Porsche','911','Red','Petrol')\n",
    "print(car1.show_car())\n",
    "car2 = my_car('BMW','X7','Black','Petrol')\n",
    "print(car2.show_car())\n",
    "car3 = my_car('Hyundai','Alcazar','Red','Diesel')\n",
    "print(car3.show_car())\n",
    "car4 = my_car('Porsche','Panamera','Brown','Petrol')\n",
    "print(car4.show_car())\n",
    "car5 = my_car('Mercedes','C-Class','Black','Petrol')\n",
    "print(car5.show_car())\n",
    "\n",
    "\n"
   ]
  },
  {
   "cell_type": "code",
   "execution_count": null,
   "metadata": {},
   "outputs": [
    {
     "name": "stdout",
     "output_type": "stream",
     "text": [
      "The Current Balance is 9995.0\n"
     ]
    }
   ],
   "source": [
    "import logging\n",
    "logging.basicConfig(level=logging.INFO,\n",
    "                    filemode='w',\n",
    "                    format='%(asctime)s - %(levelname)s - %(message)s',\n",
    "                    filename = 'model.log',force = True)\n",
    "\n",
    "\n",
    "\n",
    "class Banking:\n",
    "    def __init__(self):\n",
    "        self.balance = 10000\n",
    "        self.withdraw = float(input(\"Enter the Amount: \"))\n",
    "\n",
    "    def bal(self):\n",
    "        if self.balance <= self.withdraw:\n",
    "            print(\"Withdraw Amount is Higher\")\n",
    "        else:\n",
    "            self.balance -= self.withdraw\n",
    "\n",
    "    def show_balance(self):\n",
    "        print(f\"The Current Balance is {self.balance}\")\n",
    "\n",
    "# Create object and perform actions \n",
    "wtdr = Banking()\n",
    "wtdr.bal()\n",
    "wtdr.show_balance()\n",
    "\n",
    "logging.info('Log Created')"
   ]
  },
  {
   "cell_type": "code",
   "execution_count": 34,
   "metadata": {},
   "outputs": [
    {
     "name": "stdout",
     "output_type": "stream",
     "text": [
      "<class 'list'>\n"
     ]
    }
   ],
   "source": [
    "import numpy as np\n",
    "\n",
    "np.__version__\n",
    "\n",
    "lst = [10,20,30]\n",
    "\n",
    "print(type(lst))"
   ]
  },
  {
   "cell_type": "code",
   "execution_count": 35,
   "metadata": {},
   "outputs": [
    {
     "name": "stdout",
     "output_type": "stream",
     "text": [
      "<class 'numpy.ndarray'>\n"
     ]
    }
   ],
   "source": [
    "arr = np.array(lst)\n",
    "print(type(arr))"
   ]
  },
  {
   "cell_type": "code",
   "execution_count": 36,
   "metadata": {},
   "outputs": [],
   "source": [
    "lst1 = [[10,20,30,40]]"
   ]
  },
  {
   "cell_type": "code",
   "execution_count": 37,
   "metadata": {},
   "outputs": [
    {
     "name": "stdout",
     "output_type": "stream",
     "text": [
      "<class 'numpy.ndarray'>\n",
      "[[10 20 30 40]]\n"
     ]
    }
   ],
   "source": [
    "arr1 = np.array(lst1)\n",
    "print(type(arr1))\n",
    "print(arr1)"
   ]
  },
  {
   "cell_type": "code",
   "execution_count": 38,
   "metadata": {},
   "outputs": [
    {
     "data": {
      "text/plain": [
       "(1, 4)"
      ]
     },
     "execution_count": 38,
     "metadata": {},
     "output_type": "execute_result"
    }
   ],
   "source": [
    "arr1.shape"
   ]
  },
  {
   "cell_type": "code",
   "execution_count": 39,
   "metadata": {},
   "outputs": [
    {
     "name": "stdout",
     "output_type": "stream",
     "text": [
      "(1, 1, 1, 3, 3)\n"
     ]
    }
   ],
   "source": [
    "darray = [[[[[10,20,40],[30,50,60],[60,40,60]]]]]\n",
    "\n",
    "arr = np.array(darray)\n",
    "print(arr.shape)"
   ]
  },
  {
   "cell_type": "code",
   "execution_count": 40,
   "metadata": {},
   "outputs": [
    {
     "name": "stdout",
     "output_type": "stream",
     "text": [
      "1\n"
     ]
    }
   ],
   "source": [
    "lst = [13,4,5]\n",
    "arr = np.array(lst)\n",
    "\n",
    "print(arr.ndim)"
   ]
  },
  {
   "cell_type": "code",
   "execution_count": 41,
   "metadata": {},
   "outputs": [
    {
     "name": "stdout",
     "output_type": "stream",
     "text": [
      "5\n"
     ]
    }
   ],
   "source": [
    "lst = [[[[[13,4,5],[4,5,6]]]]]\n",
    "arr = np.array(lst)\n",
    "\n",
    "print(arr.ndim)"
   ]
  },
  {
   "cell_type": "code",
   "execution_count": 42,
   "metadata": {},
   "outputs": [
    {
     "data": {
      "text/plain": [
       "array([[0., 0., 0., 0.],\n",
       "       [0., 0., 0., 0.],\n",
       "       [0., 0., 0., 0.]])"
      ]
     },
     "execution_count": 42,
     "metadata": {},
     "output_type": "execute_result"
    }
   ],
   "source": [
    "tup = (3,4)\n",
    "\n",
    "np.zeros(tup)"
   ]
  },
  {
   "cell_type": "code",
   "execution_count": 43,
   "metadata": {},
   "outputs": [
    {
     "name": "stdout",
     "output_type": "stream",
     "text": [
      "[[0.27159943 0.50934016 0.27097298]\n",
      " [0.44415302 0.40337274 0.9646353 ]\n",
      " [0.73134528 0.06241296 0.62735767]]\n"
     ]
    }
   ],
   "source": [
    "import numpy as np\n",
    "\n",
    "matrix = np.random.rand(3, 3)  # 3 rows, 4 columns\n",
    "print(matrix)"
   ]
  },
  {
   "cell_type": "code",
   "execution_count": 44,
   "metadata": {},
   "outputs": [
    {
     "data": {
      "text/plain": [
       "0    1\n",
       "1    2\n",
       "2    3\n",
       "3    4\n",
       "4    5\n",
       "dtype: int64"
      ]
     },
     "execution_count": 44,
     "metadata": {},
     "output_type": "execute_result"
    }
   ],
   "source": [
    "import pandas as pd\n",
    "\n",
    "a = pd.Series([1,2,3,4,5])\n",
    "a"
   ]
  },
  {
   "cell_type": "code",
   "execution_count": 45,
   "metadata": {},
   "outputs": [
    {
     "name": "stdout",
     "output_type": "stream",
     "text": [
      "   IND  PAK  UAE\n",
      "0  100  100  100\n",
      "1  200  200  200\n",
      "2  300  300  300\n"
     ]
    }
   ],
   "source": [
    "c = pd.DataFrame({'IND': [100,200,300],'PAK':[100,200,300],'UAE':[100,200,300]})\n",
    "\n",
    "print(c)"
   ]
  },
  {
   "cell_type": "code",
   "execution_count": 46,
   "metadata": {},
   "outputs": [
    {
     "name": "stdout",
     "output_type": "stream",
     "text": [
      "300\n"
     ]
    }
   ],
   "source": [
    "print(c['IND'][2])"
   ]
  }
 ],
 "metadata": {
  "kernelspec": {
   "display_name": "Python 3",
   "language": "python",
   "name": "python3"
  },
  "language_info": {
   "codemirror_mode": {
    "name": "ipython",
    "version": 3
   },
   "file_extension": ".py",
   "mimetype": "text/x-python",
   "name": "python",
   "nbconvert_exporter": "python",
   "pygments_lexer": "ipython3",
   "version": "3.10.11"
  }
 },
 "nbformat": 4,
 "nbformat_minor": 2
}
