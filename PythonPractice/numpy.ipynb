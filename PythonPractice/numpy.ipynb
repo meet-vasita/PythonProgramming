{
 "cells": [
  {
   "cell_type": "code",
   "execution_count": 2,
   "id": "be9109ec",
   "metadata": {},
   "outputs": [
    {
     "name": "stdout",
     "output_type": "stream",
     "text": [
      "2.1.3\n"
     ]
    }
   ],
   "source": [
    "import numpy as np\n",
    "print(np.__version__)"
   ]
  },
  {
   "cell_type": "code",
   "execution_count": 3,
   "id": "0806f633",
   "metadata": {},
   "outputs": [
    {
     "name": "stdout",
     "output_type": "stream",
     "text": [
      "1D: [1 2 3]\n",
      "2D: [[1 2 3]\n",
      " [4 5 6]]\n"
     ]
    }
   ],
   "source": [
    "#Arrays\n",
    "\n",
    "a = np.array([1,2,3])\n",
    "b = np.array([[1,2,3],\n",
    "              [4,5,6]])\n",
    "\n",
    "print('1D:',a)\n",
    "print('2D:',b)"
   ]
  },
  {
   "cell_type": "code",
   "execution_count": 4,
   "id": "ba40af87",
   "metadata": {},
   "outputs": [
    {
     "name": "stdout",
     "output_type": "stream",
     "text": [
      "Shape: (2, 3)\n",
      "Size: 6\n",
      "Dtpye: int64\n"
     ]
    }
   ],
   "source": [
    "print('Shape:',b.shape)    \n",
    "print('Size:',b.size)\n",
    "print('Dtpye:',b.dtype)"
   ]
  },
  {
   "cell_type": "code",
   "execution_count": 5,
   "id": "20230ed6",
   "metadata": {},
   "outputs": [
    {
     "name": "stdout",
     "output_type": "stream",
     "text": [
      "[[0. 0. 0.]\n",
      " [0. 0. 0.]\n",
      " [0. 0. 0.]]\n",
      "\n",
      "[[1. 1. 1.]\n",
      " [1. 1. 1.]\n",
      " [1. 1. 1.]]\n",
      "\n",
      "[[10 10 10]\n",
      " [10 10 10]\n",
      " [10 10 10]]\n",
      "\n",
      "[[1. 0. 0.]\n",
      " [0. 1. 0.]\n",
      " [0. 0. 1.]]\n",
      "\n",
      "[[0.65549705 0.58666661 0.84036274]\n",
      " [0.45193019 0.03752848 0.5949182 ]\n",
      " [0.01087384 0.88091973 0.6657173 ]]\n"
     ]
    }
   ],
   "source": [
    "zeros = np.zeros((3,3))\n",
    "ones = np.ones((3,3))\n",
    "full = np.full((3,3),10)\n",
    "eye = np.eye(3)\n",
    "randint = np.random.rand(3,3)\n",
    "\n",
    "print(zeros,ones,full,eye,randint,sep='\\n\\n')"
   ]
  },
  {
   "cell_type": "code",
   "execution_count": 6,
   "id": "7fb96dec",
   "metadata": {},
   "outputs": [
    {
     "data": {
      "text/plain": [
       "array([0, 2, 4, 6, 8])"
      ]
     },
     "execution_count": 6,
     "metadata": {},
     "output_type": "execute_result"
    }
   ],
   "source": [
    "arr = np.arange(0,10,2)\n",
    "arr"
   ]
  },
  {
   "cell_type": "code",
   "execution_count": 7,
   "id": "350de99c",
   "metadata": {},
   "outputs": [
    {
     "data": {
      "text/plain": [
       "array([0.  , 0.25, 0.5 , 0.75, 1.  ])"
      ]
     },
     "execution_count": 7,
     "metadata": {},
     "output_type": "execute_result"
    }
   ],
   "source": [
    "lin = np.linspace(0,1,5)\n",
    "lin"
   ]
  },
  {
   "cell_type": "code",
   "execution_count": 8,
   "id": "351930aa",
   "metadata": {},
   "outputs": [
    {
     "name": "stdout",
     "output_type": "stream",
     "text": [
      "[[1 2 3]\n",
      " [4 5 6]\n",
      " [7 8 9]]\n",
      "Value: 3\n",
      "Value: 6\n",
      "Value: 9\n",
      "[1 2 3]\n",
      "[4 5 6]\n",
      "[7 8 9]\n",
      "Accessing the Column:  [2 5 8]\n",
      "Accesing the Subarray: \n",
      " [[5 6]\n",
      " [8 9]]\n"
     ]
    }
   ],
   "source": [
    "#Array Indexing and Slicing\n",
    "arr = np.array([[1,2,3],\n",
    "                [4,5,6],\n",
    "                [7,8,9]])\n",
    "print(arr)\n",
    "print('Value:',arr[0,2])\n",
    "print('Value:',arr[1,2])\n",
    "print('Value:',arr[2,2])\n",
    "\n",
    "print(arr[0])\n",
    "print(arr[1])\n",
    "print(arr[2])\n",
    "\n",
    "print('Accessing the Column: ',arr[:,1]) #Accessing the Column\n",
    "print('Accesing the Subarray: \\n',arr[1:,1:]) #Accessing the subarray"
   ]
  },
  {
   "cell_type": "code",
   "execution_count": 9,
   "id": "1af46972",
   "metadata": {},
   "outputs": [
    {
     "name": "stdout",
     "output_type": "stream",
     "text": [
      "Reshaped: [1 2 3 4 5 6 7 8 9]\n",
      "Flattened: [1 2 3 4 5 6 7 8 9]\n",
      "Transposed: [[1 4 7]\n",
      " [2 5 8]\n",
      " [3 6 9]]\n"
     ]
    }
   ],
   "source": [
    "#Array Manipulation\n",
    "a = np.array([[1,2,3],[4,5,6],[7,8,9]])\n",
    "b = a.reshape(9,)\n",
    "c = a.flatten()\n",
    "d = np.transpose(a)\n",
    "\n",
    "print('Reshaped:',b)\n",
    "print('Flattened:',c)\n",
    "print('Transposed:',d)"
   ]
  },
  {
   "cell_type": "code",
   "execution_count": 10,
   "id": "3d037be0",
   "metadata": {},
   "outputs": [
    {
     "name": "stdout",
     "output_type": "stream",
     "text": [
      "Add: [5 7 9]\n",
      "Multiply: [ 4 10 18]\n",
      "Dot: 32\n",
      "Mean: 2.0\n",
      "Std Dev: 0.816496580927726\n",
      "Sum Axis 0: [5 7 9]\n",
      "Sum Axis 1: [ 6 15]\n"
     ]
    }
   ],
   "source": [
    "#Mathematical Operations\n",
    "a = np.array([1,2,3])\n",
    "b = np.array([4,5,6])\n",
    "\n",
    "print('Add:',a+b)\n",
    "print('Multiply:',a*b)\n",
    "print('Dot:',np.dot(a,b))\n",
    "print('Mean:',np.mean(a))\n",
    "print('Std Dev:',np.std(a))\n",
    "print('Sum Axis 0:',np.sum([a,b],axis=0))\n",
    "print('Sum Axis 1:',np.sum([a,b],axis=1))"
   ]
  },
  {
   "cell_type": "code",
   "execution_count": 11,
   "id": "9d7ed89e",
   "metadata": {},
   "outputs": [
    {
     "name": "stdout",
     "output_type": "stream",
     "text": [
      "Mask: [False False  True  True  True]\n",
      "Filtered: [3 4 5]\n"
     ]
    }
   ],
   "source": [
    "#Boolean Indexing and Masking\n",
    "arr = np.array([1,2,3,4,5])\n",
    "mask = arr >= 3\n",
    "\n",
    "print('Mask:',mask)\n",
    "print('Filtered:',arr[mask])"
   ]
  },
  {
   "cell_type": "code",
   "execution_count": 12,
   "id": "0b553b47",
   "metadata": {},
   "outputs": [
    {
     "name": "stdout",
     "output_type": "stream",
     "text": [
      "[[2 3 4]\n",
      " [3 4 5]\n",
      " [4 5 6]]\n"
     ]
    }
   ],
   "source": [
    "#BroadCasting\n",
    "\n",
    "a = np.array([1,2,3])\n",
    "b = np.array(([1],[2],[3]))\n",
    "\n",
    "print(a + b)"
   ]
  },
  {
   "cell_type": "code",
   "execution_count": 13,
   "id": "6b3cfd3d",
   "metadata": {},
   "outputs": [
    {
     "name": "stdout",
     "output_type": "stream",
     "text": [
      "Original: [99  2  3]\n",
      "View: [99  2  3]\n",
      "Copy: [1 2 3]\n"
     ]
    }
   ],
   "source": [
    "a = np.array([1,2,3])\n",
    "b = a.view()\n",
    "c = a.copy()\n",
    "\n",
    "a[0] = 99\n",
    "print('Original:',a)\n",
    "print('View:',b)\n",
    "print('Copy:',c)"
   ]
  },
  {
   "cell_type": "code",
   "execution_count": 30,
   "id": "427abcdb",
   "metadata": {},
   "outputs": [
    {
     "name": "stdout",
     "output_type": "stream",
     "text": [
      "Max: 4\n",
      "ArgMax: 4\n",
      "Clip: [[1 2 2]\n",
      " [2 2 2]]\n",
      "Unique: [1 2 3 4]\n"
     ]
    }
   ],
   "source": [
    "a = np.array([[1,2,3],\n",
    "              [3,4,4]])\n",
    "print('Max:',np.max(a))\n",
    "print('ArgMax:',np.argmax(a)) #Flattened the array and return the index of the max value\n",
    "print('Clip:',np.clip(a,1,2))\n",
    "print('Unique:',np.unique(a))"
   ]
  },
  {
   "cell_type": "code",
   "execution_count": 33,
   "id": "7e5c66a9",
   "metadata": {},
   "outputs": [
    {
     "name": "stdout",
     "output_type": "stream",
     "text": [
      "Mean 3.0\n",
      "Median: 3.0\n"
     ]
    }
   ],
   "source": [
    "data = np.array([[1,2,3,4,5]])\n",
    "\n",
    "print('Mean',np.mean(data))\n",
    "print('Median:',np.median(data))"
   ]
  },
  {
   "cell_type": "code",
   "execution_count": null,
   "id": "221daa80",
   "metadata": {},
   "outputs": [
    {
     "name": "stdout",
     "output_type": "stream",
     "text": [
      "Sorted: [1 2 3 4 5 6]\n",
      "Indices: [2 1 0 5 3 4]\n",
      "Value: 2 at Index: 1\n",
      "Value: 1 at Index: 2\n",
      "Value: 0 at Index: 3\n",
      "Value: 5 at Index: 4\n",
      "Value: 3 at Index: 5\n",
      "Value: 4 at Index: 6\n"
     ]
    }
   ],
   "source": [
    "#Sorting and Searching\n",
    "a = np.array([3,2,1,5,6,4])\n",
    "\n",
    "sorting_indices = np.argsort(a)\n",
    "print('Sorted:',np.sort(a))\n",
    "print('Indices:',np.argsort(a))\n",
    "\n",
    "\n",
    "for i in sorting_indices:\n",
    "    print(f'Value: {i} at Index: {a[i]}')"
   ]
  },
  {
   "cell_type": "code",
   "execution_count": 77,
   "id": "0fcfdc51",
   "metadata": {},
   "outputs": [
    {
     "name": "stdout",
     "output_type": "stream",
     "text": [
      "Search Sorted: 3\n"
     ]
    }
   ],
   "source": [
    "arr = np.array([20,30,40,45,70,100])\n",
    "print('Search Sorted:',np.searchsorted(arr, 44)) #We want to enter the value 44 the searchsorted returns the index where he'll enter the value"
   ]
  },
  {
   "cell_type": "code",
   "execution_count": 79,
   "id": "3ee5f79e",
   "metadata": {},
   "outputs": [
    {
     "name": "stdout",
     "output_type": "stream",
     "text": [
      "HStack: [1 2 3 4]\n",
      "VStack: [[1 2]\n",
      " [3 4]]\n"
     ]
    }
   ],
   "source": [
    "a = np.array([1,2])\n",
    "b = np.array([3,4])\n",
    "\n",
    "print('HStack:',np.hstack((a,b)))\n",
    "print('VStack:',np.vstack((a,b)))"
   ]
  },
  {
   "cell_type": "code",
   "execution_count": null,
   "id": "d9671b7e",
   "metadata": {},
   "outputs": [
    {
     "name": "stdout",
     "output_type": "stream",
     "text": [
      "Split: [array([[1, 2]]), array([[3, 4]])]\n"
     ]
    }
   ],
   "source": [
    "arr = np.array([[1,2],[3,4]])\n",
    "print('Split:',np.split(arr,2)) #Splits the arrays"
   ]
  },
  {
   "cell_type": "code",
   "execution_count": 88,
   "id": "e78a351a",
   "metadata": {},
   "outputs": [
    {
     "name": "stdout",
     "output_type": "stream",
     "text": [
      "Randint:\n",
      " [[6 1 4]\n",
      " [4 8 4]\n",
      " [6 3 5]]\n",
      "Randn:\n",
      " [-0.29139398 -0.13309028 -0.1730696 ]\n"
     ]
    }
   ],
   "source": [
    "#Random Function\n",
    "np.random.seed(0)\n",
    "print('Randint:\\n',np.random.randint(1,10,(3,3)))\n",
    "print('Randn:\\n',np.random.randn(3))"
   ]
  }
 ],
 "metadata": {
  "kernelspec": {
   "display_name": "Python 3",
   "language": "python",
   "name": "python3"
  },
  "language_info": {
   "codemirror_mode": {
    "name": "ipython",
    "version": 3
   },
   "file_extension": ".py",
   "mimetype": "text/x-python",
   "name": "python",
   "nbconvert_exporter": "python",
   "pygments_lexer": "ipython3",
   "version": "3.10.11"
  }
 },
 "nbformat": 4,
 "nbformat_minor": 5
}
