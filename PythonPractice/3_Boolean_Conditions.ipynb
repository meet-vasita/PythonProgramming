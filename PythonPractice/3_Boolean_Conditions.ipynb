{
 "cells": [
  {
   "cell_type": "markdown",
   "id": "4a25fcf9",
   "metadata": {},
   "source": [
    "# **What is a Boolean?**\n",
    "\n",
    "### A Boolean represents one of two values:\n",
    "### True\n",
    "### False"
   ]
  },
  {
   "cell_type": "code",
   "execution_count": 2,
   "id": "87095408",
   "metadata": {},
   "outputs": [
    {
     "name": "stdout",
     "output_type": "stream",
     "text": [
      "<class 'bool'>\n"
     ]
    }
   ],
   "source": [
    "x = True\n",
    "y = False\n",
    "\n",
    "print(type(x))"
   ]
  },
  {
   "cell_type": "code",
   "execution_count": 4,
   "id": "17222bd5",
   "metadata": {},
   "outputs": [
    {
     "name": "stdout",
     "output_type": "stream",
     "text": [
      "True\n",
      "True\n",
      "False\n",
      "False\n",
      "True\n"
     ]
    }
   ],
   "source": [
    "#Boolean Values from expressions\n",
    "#You often don’t write True or False directly. Instead, they come from comparisons:\n",
    "print(5>3)\n",
    "print(5==5)\n",
    "print(3<1)\n",
    "print(4!=4)\n",
    "print(0!=4)"
   ]
  },
  {
   "cell_type": "markdown",
   "id": "8eb53e4b",
   "metadata": {},
   "source": [
    "| Operator | Description               | Example          | Result |\n",
    "| -------- | ------------------------- | ---------------- | ------ |\n",
    "| `and`    | True if both are True     | `True and False` | False  |\n",
    "| `or`     | True if at least one True | `True or False`  | True   |\n",
    "| `not`    | Reverses the value        | `not True`       | False  |\n"
   ]
  },
  {
   "cell_type": "code",
   "execution_count": 9,
   "id": "8497ad73",
   "metadata": {},
   "outputs": [
    {
     "name": "stdout",
     "output_type": "stream",
     "text": [
      "False\n",
      "True\n",
      "False\n"
     ]
    }
   ],
   "source": [
    "a = True\n",
    "b = False\n",
    "\n",
    "print(a and b)  # False\n",
    "print(a or b)   # True\n",
    "print(not a)    # False"
   ]
  },
  {
   "cell_type": "code",
   "execution_count": 10,
   "id": "54d107a5",
   "metadata": {},
   "outputs": [
    {
     "name": "stdout",
     "output_type": "stream",
     "text": [
      "You can vote.\n"
     ]
    }
   ],
   "source": [
    "#Booleans are mostly used with if, elif, and else:\n",
    "age = 20\n",
    "\n",
    "if age >= 18:\n",
    "    print(\"You can vote.\")\n",
    "else:\n",
    "    print(\"You are too young.\")"
   ]
  },
  {
   "cell_type": "code",
   "execution_count": 16,
   "id": "67bf6e16",
   "metadata": {},
   "outputs": [
    {
     "name": "stdout",
     "output_type": "stream",
     "text": [
      "Positive and even.\n"
     ]
    }
   ],
   "source": [
    "#Example\n",
    "#Check if a number is positive and even:\n",
    "num = 10\n",
    "if num > 0 and num % 2 == 0:\n",
    "    print(\"Positive and even.\")\n"
   ]
  },
  {
   "cell_type": "code",
   "execution_count": 17,
   "id": "0bf18d2c",
   "metadata": {},
   "outputs": [
    {
     "name": "stdout",
     "output_type": "stream",
     "text": [
      "Non-empty string.\n"
     ]
    }
   ],
   "source": [
    "#Check if a string is not empty:\n",
    "text = \"Python\"\n",
    "if text:\n",
    "    print(\"Non-empty string.\")"
   ]
  }
 ],
 "metadata": {
  "kernelspec": {
   "display_name": "Python 3",
   "language": "python",
   "name": "python3"
  },
  "language_info": {
   "codemirror_mode": {
    "name": "ipython",
    "version": 3
   },
   "file_extension": ".py",
   "mimetype": "text/x-python",
   "name": "python",
   "nbconvert_exporter": "python",
   "pygments_lexer": "ipython3",
   "version": "3.10.11"
  }
 },
 "nbformat": 4,
 "nbformat_minor": 5
}
