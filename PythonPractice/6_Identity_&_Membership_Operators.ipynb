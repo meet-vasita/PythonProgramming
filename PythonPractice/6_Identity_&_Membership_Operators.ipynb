{
 "cells": [
  {
   "cell_type": "markdown",
   "id": "459ffbbe",
   "metadata": {},
   "source": [
    "# **Identity & Membership Operators**"
   ]
  },
  {
   "cell_type": "markdown",
   "id": "bf0d0985",
   "metadata": {},
   "source": [
    "✅ Overview\n",
    "\n",
    "Python provides two special types of operators:\n",
    "\n",
    "    Identity Operators – Check whether two variables point to the same object in memory.\n",
    "\n",
    "        is\n",
    "\n",
    "        is not\n",
    "\n",
    "    Membership Operators – Check whether a value exists in a sequence (like string, list, tuple, set, dictionary).\n",
    "\n",
    "        in\n",
    "\n",
    "        not in"
   ]
  },
  {
   "cell_type": "markdown",
   "id": "a6b228af",
   "metadata": {},
   "source": [
    "# **Identity Operators(is, is not)**\n",
    "\n",
    "✅ What they do:\n",
    "\n",
    "They compare memory addresses (object identity), not values.\n",
    "\n",
    "    a is b: True if both point to the same object.\n",
    "\n",
    "    a is not b: True if they point to different objects.\n",
    "\n",
    "🧠 Remember:\n",
    "\n",
    "    is ≠ ==\n",
    "\n",
    "        == checks values\n",
    "\n",
    "        is checks identity (memory location)"
   ]
  },
  {
   "cell_type": "code",
   "execution_count": 6,
   "id": "550d653e",
   "metadata": {},
   "outputs": [
    {
     "name": "stdout",
     "output_type": "stream",
     "text": [
      "True\n",
      "True\n",
      "True\n",
      "False\n",
      "True\n"
     ]
    }
   ],
   "source": [
    "a = [1, 2, 3]\n",
    "b = a\n",
    "c = [1, 2, 3]\n",
    "\n",
    "print(a == b)     # True, values are the same\n",
    "print(a is b)     # True, same object in memory\n",
    "\n",
    "print(a == c)     # True, values are the same\n",
    "print(a is c)     # False, different objects\n",
    "\n",
    "print(a is not c) # True\n"
   ]
  },
  {
   "cell_type": "code",
   "execution_count": 7,
   "id": "5e32489a",
   "metadata": {},
   "outputs": [
    {
     "name": "stdout",
     "output_type": "stream",
     "text": [
      "True\n",
      "True\n",
      "False\n"
     ]
    }
   ],
   "source": [
    "x = 100\n",
    "y = 100\n",
    "print(x is y)     # True, small integers are cached\n",
    "\n",
    "a = \"hello\"\n",
    "b = \"hello\"\n",
    "print(a is b)     # True, strings may be interned (cached)\n",
    "\n",
    "a = \"hello world!\"\n",
    "b = \"hello world!\"\n",
    "print(a is b)     # Might be False (large strings not always interned)\n"
   ]
  },
  {
   "cell_type": "markdown",
   "id": "f40d34e4",
   "metadata": {},
   "source": [
    "🔸 2. Membership Operators (in, not in)\n",
    "✅ What they do:\n",
    "\n",
    "They check presence of an element in a collection (list, tuple, set, dict, string, etc).\n",
    "\n",
    "    x in y: True if x is in y.\n",
    "\n",
    "    x not in y: True if x is not in y."
   ]
  },
  {
   "cell_type": "code",
   "execution_count": 20,
   "id": "85d3c582",
   "metadata": {},
   "outputs": [
    {
     "name": "stdout",
     "output_type": "stream",
     "text": [
      "True\n",
      "True\n",
      "True\n",
      "True\n",
      "True\n",
      "True\n",
      "True\n",
      "False\n"
     ]
    }
   ],
   "source": [
    "# List\n",
    "fruits = ['apple', 'banana', 'cherry']\n",
    "print('apple' in fruits)       # True\n",
    "print('mango' not in fruits)   # True\n",
    "\n",
    "# String\n",
    "msg = \"Python is fun\"\n",
    "print('Python' in msg)         # True\n",
    "print('java' not in msg)       # True\n",
    "\n",
    "# Tuple\n",
    "nums = (1, 2, 3)\n",
    "print(2 in nums)               # True\n",
    "\n",
    "# Set\n",
    "colors = {'red', 'green', 'blue'}\n",
    "print('green' in colors)       # True\n",
    "\n",
    "# Dictionary\n",
    "person = {'name': 'Alice', 'age': 25}\n",
    "print('name' in person)        # True (checks keys)\n",
    "print('Alice' in person)       # False (does NOT check values)"
   ]
  },
  {
   "cell_type": "markdown",
   "id": "caca2636",
   "metadata": {},
   "source": [
    "# **🚫 Common Mistakes to Avoid**"
   ]
  },
  {
   "cell_type": "markdown",
   "id": "c95805c8",
   "metadata": {},
   "source": [
    "| Mistake                                | Why it's wrong                                 | Correct way                  |\n",
    "| -------------------------------------- | ---------------------------------------------- | ---------------------------- |\n",
    "| `a == b` instead of `a is b`           | If you want to check object identity, use `is` | Use `is` for identity        |\n",
    "| `in` for checking value in dict values | `in` on dict only checks **keys**              | Use `value in dict.values()` |\n",
    "| Confusing `is` and `==`                | `is` compares memory; `==` compares value      | Use them appropriately       |\n"
   ]
  },
  {
   "cell_type": "code",
   "execution_count": null,
   "id": "91e715e2",
   "metadata": {},
   "outputs": [
    {
     "name": "stdout",
     "output_type": "stream",
     "text": [
      "True\n",
      "False\n"
     ]
    }
   ],
   "source": [
    "#Example 1: Checking the same Object\n",
    "\n",
    "a = [10]\n",
    "b = a\n",
    "c = [10]\n",
    "\n",
    "print(a is b) #True\n",
    "print(a is c) #False"
   ]
  },
  {
   "cell_type": "code",
   "execution_count": null,
   "id": "7e72ee37",
   "metadata": {},
   "outputs": [
    {
     "name": "stdout",
     "output_type": "stream",
     "text": [
      "True\n",
      "False\n"
     ]
    }
   ],
   "source": [
    "#Example 2: Membership in Nested List\n",
    "\n",
    "x = [[1,2],[3,4]]\n",
    "print([1,2] in x)\n",
    "print(1 in x)"
   ]
  },
  {
   "cell_type": "code",
   "execution_count": 27,
   "id": "9c7594b2",
   "metadata": {},
   "outputs": [
    {
     "name": "stdout",
     "output_type": "stream",
     "text": [
      "True\n",
      "True\n"
     ]
    }
   ],
   "source": [
    "#Example 3: Dictionary Key and Value checks\n",
    "\n",
    "d = {'a':100,'b':200}\n",
    "\n",
    "print('a' in d)\n",
    "print(200 in d.values())"
   ]
  },
  {
   "cell_type": "markdown",
   "id": "065cd6b5",
   "metadata": {},
   "source": [
    "# **Summary Table**"
   ]
  },
  {
   "cell_type": "markdown",
   "id": "f0b91eb9",
   "metadata": {},
   "source": [
    "| Operator | Purpose                     | Example             | Result       |\n",
    "| -------- | --------------------------- | ------------------- | ------------ |\n",
    "| `is`     | Check object identity       | `a is b`            | True / False |\n",
    "| `is not` | Check object non-identity   | `a is not b`        | True / False |\n",
    "| `in`     | Check membership (presence) | `'x' in [x, y]`     | True         |\n",
    "| `not in` | Check non-membership        | `'z' not in [x, y]` | True         |\n"
   ]
  }
 ],
 "metadata": {
  "kernelspec": {
   "display_name": "Python 3",
   "language": "python",
   "name": "python3"
  },
  "language_info": {
   "codemirror_mode": {
    "name": "ipython",
    "version": 3
   },
   "file_extension": ".py",
   "mimetype": "text/x-python",
   "name": "python",
   "nbconvert_exporter": "python",
   "pygments_lexer": "ipython3",
   "version": "3.10.11"
  }
 },
 "nbformat": 4,
 "nbformat_minor": 5
}
