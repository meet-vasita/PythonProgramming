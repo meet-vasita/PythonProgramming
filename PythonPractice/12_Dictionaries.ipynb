{
 "cells": [
  {
   "cell_type": "markdown",
   "metadata": {},
   "source": [
    "# **Dictionaries in Python**"
   ]
  },
  {
   "cell_type": "markdown",
   "metadata": {},
   "source": [
    "#### **What is a Dictionary in Python?**\n",
    "\n",
    "##### Ans. A dictionary is an unordered, immutable collection that stores data in key-value pairs."
   ]
  },
  {
   "cell_type": "code",
   "execution_count": 76,
   "metadata": {},
   "outputs": [
    {
     "name": "stdout",
     "output_type": "stream",
     "text": [
      "{'name': 'Meet', 'age': 24, 'grade': 'A'}\n"
     ]
    }
   ],
   "source": [
    "#Creating a list in python\n",
    "\n",
    "student = {\n",
    "    'name':'Meet',\n",
    "    'age':24,\n",
    "    'grade':'A'\n",
    "}\n",
    "\n",
    "print(student)"
   ]
  },
  {
   "cell_type": "code",
   "execution_count": 77,
   "metadata": {},
   "outputs": [
    {
     "name": "stdout",
     "output_type": "stream",
     "text": [
      "{'name': 'Meet', 'salary': 50000, 'department': 'Engineering'}\n"
     ]
    }
   ],
   "source": [
    "#Creating a dictionary using 'dict()' constructor\n",
    "\n",
    "emp = dict(name='Meet',salary=50000,department='Engineering')\n",
    "print(emp)"
   ]
  },
  {
   "cell_type": "code",
   "execution_count": 78,
   "metadata": {},
   "outputs": [
    {
     "name": "stdout",
     "output_type": "stream",
     "text": [
      "{}\n"
     ]
    }
   ],
   "source": [
    "#empty dictionary\n",
    "\n",
    "empt_dict = {}\n",
    "print(empt_dict)"
   ]
  },
  {
   "cell_type": "code",
   "execution_count": 79,
   "metadata": {},
   "outputs": [
    {
     "name": "stdout",
     "output_type": "stream",
     "text": [
      "Meet\n",
      "20\n",
      "Inforamation Technology\n"
     ]
    }
   ],
   "source": [
    "#Accessing the Dictionary values\n",
    "\n",
    "#Accessing values using the square brackets\n",
    "\n",
    "student = {\n",
    "    'name':'Meet',\n",
    "    'age':20,\n",
    "    'department':'Inforamation Technology'\n",
    "}\n",
    "\n",
    "#Accessing elements using square brackets\n",
    "print(student['name'])\n",
    "print(student['age'])\n",
    "print(student['department'])\n"
   ]
  },
  {
   "cell_type": "code",
   "execution_count": 80,
   "metadata": {},
   "outputs": [
    {
     "name": "stdout",
     "output_type": "stream",
     "text": [
      "20\n",
      "Not Found\n"
     ]
    }
   ],
   "source": [
    "#Using 'get()' method\n",
    "\n",
    "print(student.get(\"age\"))\n",
    "print(student.get(\"gender\",\"Not Found\"))"
   ]
  },
  {
   "cell_type": "code",
   "execution_count": 81,
   "metadata": {},
   "outputs": [
    {
     "name": "stdout",
     "output_type": "stream",
     "text": [
      "{'name': 'Meet', 'age': 20, 'department': 'Inforamation Technology', 'subject': 'SQL'}\n"
     ]
    }
   ],
   "source": [
    "#Adding and updating Dictionary items\n",
    "#Adding a new key-value pair\n",
    "\n",
    "student[\"subject\"] = \"SQL\"\n",
    "print(student)\n",
    "\n"
   ]
  },
  {
   "cell_type": "code",
   "execution_count": 82,
   "metadata": {},
   "outputs": [
    {
     "name": "stdout",
     "output_type": "stream",
     "text": [
      "{'name': 'Meet', 'age': 20, 'department': 'Inforamation Technology', 'subject': 'Python Programming'}\n"
     ]
    }
   ],
   "source": [
    "#Updating an existing value\n",
    "student[\"subject\"] = 'Python Programming'\n",
    "print(student)"
   ]
  },
  {
   "cell_type": "code",
   "execution_count": 83,
   "metadata": {},
   "outputs": [
    {
     "name": "stdout",
     "output_type": "stream",
     "text": [
      "{'name': 'Meet', 'age': 21, 'department': 'Inforamation Technology', 'subject': 'Python Programming', 'city': 'Ulhasnagar'}\n"
     ]
    }
   ],
   "source": [
    "#Using 'update()' method\n",
    "\n",
    "student.update({\"age\":21,\"city\":\"Ulhasnagar\"})\n",
    "print(student)"
   ]
  },
  {
   "cell_type": "code",
   "execution_count": 84,
   "metadata": {},
   "outputs": [
    {
     "name": "stdout",
     "output_type": "stream",
     "text": [
      "{'name': 'Meet', 'age': 21, 'department': 'Inforamation Technology', 'city': 'Ulhasnagar'}\n"
     ]
    }
   ],
   "source": [
    "#Removing the elements from a dictionary\n",
    "\n",
    "del student['subject']\n",
    "print(student)"
   ]
  },
  {
   "cell_type": "code",
   "execution_count": 85,
   "metadata": {},
   "outputs": [
    {
     "name": "stdout",
     "output_type": "stream",
     "text": [
      "{'name': 'Meet', 'age': 21, 'city': 'Ulhasnagar'}\n"
     ]
    }
   ],
   "source": [
    "#using 'pop()' method\n",
    "age = student.pop('department')\n",
    "print(student)"
   ]
  },
  {
   "cell_type": "code",
   "execution_count": 86,
   "metadata": {},
   "outputs": [
    {
     "name": "stdout",
     "output_type": "stream",
     "text": [
      "{'name': 'Meet', 'age': 21}\n"
     ]
    }
   ],
   "source": [
    "#Using 'popitem()' method (Removes the last inserted item)\n",
    "student.popitem()\n",
    "print(student)"
   ]
  },
  {
   "cell_type": "code",
   "execution_count": 87,
   "metadata": {},
   "outputs": [
    {
     "name": "stdout",
     "output_type": "stream",
     "text": [
      "{}\n"
     ]
    }
   ],
   "source": [
    "#Using 'clear()' (Removes all the items)\n",
    "student.clear()\n",
    "print(student)"
   ]
  },
  {
   "cell_type": "code",
   "execution_count": 88,
   "metadata": {},
   "outputs": [
    {
     "name": "stdout",
     "output_type": "stream",
     "text": [
      "dict_keys(['name', 'age', 'department'])\n",
      "dict_values(['Meet', 20, 'Inforamation Technology'])\n",
      "dict_items([('name', 'Meet'), ('age', 20), ('department', 'Inforamation Technology')])\n"
     ]
    }
   ],
   "source": [
    "#Dictionary Methods\n",
    "\n",
    "student = {\n",
    "    'name':'Meet',\n",
    "    'age':20,\n",
    "    'department':'Inforamation Technology'\n",
    "}\n",
    "\n",
    "print(student.keys())  #Returns the key\n",
    "print(student.values()) #Returns the value\n",
    "print(student.items())"
   ]
  },
  {
   "cell_type": "code",
   "execution_count": 89,
   "metadata": {},
   "outputs": [
    {
     "name": "stdout",
     "output_type": "stream",
     "text": [
      "name\n",
      "age\n",
      "department\n"
     ]
    }
   ],
   "source": [
    "#Looping a dictionary\n",
    "\n",
    "for key in student:\n",
    "    print(key)"
   ]
  },
  {
   "cell_type": "code",
   "execution_count": 90,
   "metadata": {},
   "outputs": [
    {
     "name": "stdout",
     "output_type": "stream",
     "text": [
      "Meet\n",
      "20\n",
      "Inforamation Technology\n"
     ]
    }
   ],
   "source": [
    "for value in student.values():\n",
    "    print(value)"
   ]
  },
  {
   "cell_type": "code",
   "execution_count": 91,
   "metadata": {},
   "outputs": [
    {
     "name": "stdout",
     "output_type": "stream",
     "text": [
      "name : Meet\n",
      "age : 20\n",
      "department : Inforamation Technology\n"
     ]
    }
   ],
   "source": [
    "for key, value in student.items():\n",
    "    print(key, \":\", value)"
   ]
  },
  {
   "cell_type": "code",
   "execution_count": 92,
   "metadata": {},
   "outputs": [
    {
     "name": "stdout",
     "output_type": "stream",
     "text": [
      "{'emp1': {'name': 'Meet', 'age': 21, 'Dept': 'IT'}, 'emp2': {'name': 'Satin', 'age': 20, 'Dept': 'Comps'}}\n"
     ]
    }
   ],
   "source": [
    "#Nested Dictionaries\n",
    "\n",
    "emp={\n",
    "    'emp1':{\"name\":\"Meet\",\"age\":21,\"Dept\":\"IT\"},\n",
    "    'emp2':{\"name\":\"Satin\",\"age\":20,\"Dept\":\"Comps\"}\n",
    "}\n",
    "\n",
    "print(emp)"
   ]
  },
  {
   "cell_type": "code",
   "execution_count": 93,
   "metadata": {},
   "outputs": [
    {
     "name": "stdout",
     "output_type": "stream",
     "text": [
      "Meet\n",
      "IT\n"
     ]
    }
   ],
   "source": [
    "print(emp['emp1']['name'])\n",
    "print(emp['emp1']['Dept'])"
   ]
  },
  {
   "cell_type": "code",
   "execution_count": 94,
   "metadata": {},
   "outputs": [
    {
     "name": "stdout",
     "output_type": "stream",
     "text": [
      "{1: 1, 2: 4, 3: 9, 4: 16, 5: 25}\n"
     ]
    }
   ],
   "source": [
    "#Dict Comprehension \n",
    "#Print the squares using Dict Comprehension\n",
    "sq = {x:x**2  for x in range(1,6)}\n",
    "print(sq)"
   ]
  },
  {
   "cell_type": "code",
   "execution_count": 95,
   "metadata": {},
   "outputs": [
    {
     "data": {
      "text/plain": [
       "{2: 2, 4: 4, 6: 6, 8: 8, 10: 10}"
      ]
     },
     "execution_count": 95,
     "metadata": {},
     "output_type": "execute_result"
    }
   ],
   "source": [
    "#Filter in dictionary   \n",
    "evens = {x:x for x in range(1,11) if x % 2 == 0}\n",
    "evens"
   ]
  },
  {
   "cell_type": "code",
   "execution_count": 96,
   "metadata": {},
   "outputs": [
    {
     "name": "stdout",
     "output_type": "stream",
     "text": [
      "{'a': 1, 'b': 2, 'c': 3, 'd': 4}\n"
     ]
    }
   ],
   "source": [
    "#Merging the dictionaries\n",
    "\n",
    "dict1 = {\"a\":1,\"b\":2}\n",
    "dict2 = {\"c\":3,\"d\":4}\n",
    "\n",
    "dict1.update(dict2)\n",
    "print(dict1)"
   ]
  },
  {
   "cell_type": "code",
   "execution_count": 97,
   "metadata": {},
   "outputs": [
    {
     "name": "stdout",
     "output_type": "stream",
     "text": [
      "{'a': 1, 'b': 2, 'c': 3, 'd': 4}\n"
     ]
    }
   ],
   "source": [
    "#Another method using '|'\n",
    "\n",
    "merged = dict1 | dict2\n",
    "print(merged)"
   ]
  }
 ],
 "metadata": {
  "kernelspec": {
   "display_name": "Python 3",
   "language": "python",
   "name": "python3"
  },
  "language_info": {
   "codemirror_mode": {
    "name": "ipython",
    "version": 3
   },
   "file_extension": ".py",
   "mimetype": "text/x-python",
   "name": "python",
   "nbconvert_exporter": "python",
   "pygments_lexer": "ipython3",
   "version": "3.10.11"
  }
 },
 "nbformat": 4,
 "nbformat_minor": 2
}
