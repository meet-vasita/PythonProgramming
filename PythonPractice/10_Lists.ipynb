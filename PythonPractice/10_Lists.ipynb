{
 "cells": [
  {
   "cell_type": "markdown",
   "metadata": {},
   "source": [
    "# **Lists in Python**"
   ]
  },
  {
   "cell_type": "markdown",
   "metadata": {},
   "source": [
    "#### **1. What is a List in Python?**\n",
    "\n",
    "A list is a collection of items that are ordered, mutable (changeable), and allow duplicate values. Lists can hold items of different data types, like strings, integers, floats, even other lists!"
   ]
  },
  {
   "cell_type": "code",
   "execution_count": 2,
   "metadata": {},
   "outputs": [
    {
     "name": "stdout",
     "output_type": "stream",
     "text": [
      "['apple', 'banana', 'cherry']\n",
      "[1, 2, 3, 4, 5]\n",
      "[1, 'apple', True, 3.14]\n"
     ]
    }
   ],
   "source": [
    "#Examples:\n",
    "fruits = ['apple','banana','cherry']\n",
    "numbers = [1,2,3,4,5]\n",
    "mixed = [1,'apple',True,3.14]\n",
    "\n",
    "print(fruits)\n",
    "print(numbers)\n",
    "print(mixed)"
   ]
  },
  {
   "cell_type": "code",
   "execution_count": 3,
   "metadata": {},
   "outputs": [
    {
     "name": "stdout",
     "output_type": "stream",
     "text": [
      "[]\n",
      "[10, 20, 30, 40]\n"
     ]
    }
   ],
   "source": [
    "#Creating Lists\n",
    "\n",
    "empty_list = []\n",
    "my_list = [10,20,30,40]\n",
    "\n",
    "print(empty_list)\n",
    "print(my_list)"
   ]
  },
  {
   "cell_type": "code",
   "execution_count": 4,
   "metadata": {},
   "outputs": [
    {
     "name": "stdout",
     "output_type": "stream",
     "text": [
      "[1, 2, 3]\n"
     ]
    }
   ],
   "source": [
    "#list() constructor\n",
    "list_from_tuple = list((1,2,3))\n",
    "print(list_from_tuple)"
   ]
  },
  {
   "cell_type": "code",
   "execution_count": null,
   "metadata": {},
   "outputs": [
    {
     "name": "stdout",
     "output_type": "stream",
     "text": [
      "[1, 10.2, 'Meet', True]\n"
     ]
    }
   ],
   "source": [
    "#Creating a list in python\n",
    "my_list = [1,10.2,'Meet',True]\n",
    "print(my_list)"
   ]
  },
  {
   "cell_type": "code",
   "execution_count": 116,
   "metadata": {},
   "outputs": [
    {
     "name": "stdout",
     "output_type": "stream",
     "text": [
      "30\n",
      "50\n"
     ]
    }
   ],
   "source": [
    "#Accessing Elements in the list\n",
    "\n",
    "num = [10,20,30,40,50]\n",
    "\n",
    "print(num[2])\n",
    "print(num[-1])"
   ]
  },
  {
   "cell_type": "code",
   "execution_count": 117,
   "metadata": {},
   "outputs": [
    {
     "name": "stdout",
     "output_type": "stream",
     "text": [
      "[20, 30, 40]\n",
      "[10, 20, 30]\n",
      "[10, 30, 50]\n"
     ]
    }
   ],
   "source": [
    "#Using Slicing\n",
    "\n",
    "print(num[1:4])\n",
    "print(num[:3])\n",
    "print(num[::2])  "
   ]
  },
  {
   "cell_type": "code",
   "execution_count": 118,
   "metadata": {},
   "outputs": [
    {
     "data": {
      "text/plain": [
       "['Apple', 'Blueberry', 'Mango', 'Orange']"
      ]
     },
     "execution_count": 118,
     "metadata": {},
     "output_type": "execute_result"
    }
   ],
   "source": [
    "#Modifying the list\n",
    "\n",
    "fruits = ['Apple','Banana','Mango','Orange']\n",
    "fruits[1] = 'Blueberry'\n",
    "fruits"
   ]
  },
  {
   "cell_type": "code",
   "execution_count": 119,
   "metadata": {},
   "outputs": [
    {
     "data": {
      "text/plain": [
       "['Apple', 'Blueberry', 'Mango', 'Orange', 'Strawberry']"
      ]
     },
     "execution_count": 119,
     "metadata": {},
     "output_type": "execute_result"
    }
   ],
   "source": [
    "#Adding elements to a list\n",
    "#Using 'append()' adds the element at the end\n",
    "\n",
    "fruits.append(\"Strawberry\")\n",
    "fruits"
   ]
  },
  {
   "cell_type": "code",
   "execution_count": 120,
   "metadata": {},
   "outputs": [
    {
     "data": {
      "text/plain": [
       "['Apple', 'Blueberry', 'Grapes', 'Mango', 'Orange', 'Strawberry']"
      ]
     },
     "execution_count": 120,
     "metadata": {},
     "output_type": "execute_result"
    }
   ],
   "source": [
    "#using 'insert()' adds at a specific index\n",
    "\n",
    "fruits.insert(2,'Grapes')\n",
    "fruits"
   ]
  },
  {
   "cell_type": "code",
   "execution_count": 121,
   "metadata": {},
   "outputs": [
    {
     "data": {
      "text/plain": [
       "['Apple',\n",
       " 'Blueberry',\n",
       " 'Grapes',\n",
       " 'Mango',\n",
       " 'Orange',\n",
       " 'Strawberry',\n",
       " 'Papaya',\n",
       " 'Kiwi']"
      ]
     },
     "execution_count": 121,
     "metadata": {},
     "output_type": "execute_result"
    }
   ],
   "source": [
    "#Using 'extend()' to merge two lists\n",
    "more_fruits = ['Papaya','Kiwi']\n",
    "fruits.extend(more_fruits)\n",
    "fruits"
   ]
  },
  {
   "cell_type": "code",
   "execution_count": 122,
   "metadata": {},
   "outputs": [
    {
     "data": {
      "text/plain": [
       "['Apple', 'Blueberry', 'Grapes', 'Mango', 'Orange', 'Strawberry', 'Kiwi']"
      ]
     },
     "execution_count": 122,
     "metadata": {},
     "output_type": "execute_result"
    }
   ],
   "source": [
    "#Removing Elemements from a list\n",
    "#Using 'remove' removes the first occurence\n",
    "#if there's a duplicate value it removes the first occurence of the duplicate value \n",
    "\n",
    "fruits.remove(\"Papaya\")\n",
    "fruits"
   ]
  },
  {
   "cell_type": "code",
   "execution_count": 123,
   "metadata": {},
   "outputs": [
    {
     "data": {
      "text/plain": [
       "['Apple', 'Blueberry', 'Grapes', 'Mango', 'Orange', 'Strawberry']"
      ]
     },
     "execution_count": 123,
     "metadata": {},
     "output_type": "execute_result"
    }
   ],
   "source": [
    "#using 'pop()' removes element by index\n",
    "fruits\n",
    "fruits.pop()\n",
    "fruits"
   ]
  },
  {
   "cell_type": "code",
   "execution_count": 124,
   "metadata": {},
   "outputs": [
    {
     "name": "stdout",
     "output_type": "stream",
     "text": [
      "[10, 20, [30, 40, [50, 60, [70, [80, [[40]]]]], 70], 80]\n"
     ]
    }
   ],
   "source": [
    "lst = lst = [10,20,[30,40,[50,60,[70,[80,[[40]]]]],70],80]\n",
    "\n",
    "print(lst)"
   ]
  },
  {
   "cell_type": "code",
   "execution_count": 125,
   "metadata": {},
   "outputs": [
    {
     "name": "stdout",
     "output_type": "stream",
     "text": [
      "40\n"
     ]
    }
   ],
   "source": [
    "print(lst[2][2][2][1][1][0][0])"
   ]
  },
  {
   "cell_type": "code",
   "execution_count": 126,
   "metadata": {},
   "outputs": [
    {
     "data": {
      "text/plain": [
       "[1, 2, 3, 4]"
      ]
     },
     "execution_count": 126,
     "metadata": {},
     "output_type": "execute_result"
    }
   ],
   "source": [
    "#Modfying a list\n",
    "\n",
    "num = [1,2,3]\n",
    "\n",
    "num.append(4) #adds at the end\n",
    "num"
   ]
  },
  {
   "cell_type": "code",
   "execution_count": 127,
   "metadata": {},
   "outputs": [
    {
     "data": {
      "text/plain": [
       "[1, 10, 2, 3, 4]"
      ]
     },
     "execution_count": 127,
     "metadata": {},
     "output_type": "execute_result"
    }
   ],
   "source": [
    "num.insert(1,10)\n",
    "num"
   ]
  },
  {
   "cell_type": "code",
   "execution_count": 128,
   "metadata": {},
   "outputs": [
    {
     "data": {
      "text/plain": [
       "[1, 10, 2, 3, 4, 5, 6]"
      ]
     },
     "execution_count": 128,
     "metadata": {},
     "output_type": "execute_result"
    }
   ],
   "source": [
    "num.extend([5,6])\n",
    "num"
   ]
  },
  {
   "cell_type": "code",
   "execution_count": 129,
   "metadata": {},
   "outputs": [
    {
     "data": {
      "text/plain": [
       "[10, 20, 40, 50]"
      ]
     },
     "execution_count": 129,
     "metadata": {},
     "output_type": "execute_result"
    }
   ],
   "source": [
    "#Removing Elements\n",
    "\n",
    "numbers = [10,20,30,40,50]\n",
    "\n",
    "numbers.remove(30) #Remove the first occurence of 30\n",
    "numbers"
   ]
  },
  {
   "cell_type": "code",
   "execution_count": 130,
   "metadata": {},
   "outputs": [
    {
     "data": {
      "text/plain": [
       "[10, 20, 40]"
      ]
     },
     "execution_count": 130,
     "metadata": {},
     "output_type": "execute_result"
    }
   ],
   "source": [
    "numbers.pop() #Remove and returns the last item\n",
    "numbers"
   ]
  },
  {
   "cell_type": "code",
   "execution_count": 131,
   "metadata": {},
   "outputs": [
    {
     "data": {
      "text/plain": [
       "[10, 40]"
      ]
     },
     "execution_count": 131,
     "metadata": {},
     "output_type": "execute_result"
    }
   ],
   "source": [
    "del numbers[1]\n",
    "numbers"
   ]
  },
  {
   "cell_type": "code",
   "execution_count": 132,
   "metadata": {},
   "outputs": [
    {
     "name": "stdout",
     "output_type": "stream",
     "text": [
      "Apple\n",
      "Blueberry\n",
      "Grapes\n",
      "Mango\n",
      "Orange\n",
      "Strawberry\n"
     ]
    }
   ],
   "source": [
    "#Looping through a list\n",
    "for i in fruits:\n",
    "    print(i)"
   ]
  },
  {
   "cell_type": "code",
   "execution_count": 133,
   "metadata": {},
   "outputs": [
    {
     "data": {
      "text/plain": [
       "[1, 4, 9, 16, 25]"
      ]
     },
     "execution_count": 133,
     "metadata": {},
     "output_type": "execute_result"
    }
   ],
   "source": [
    "#List Comphrension\n",
    "\n",
    "num = [1,2,3,4,5]\n",
    "squared_numbers = [x**2 for x in num]\n",
    "squared_numbers"
   ]
  },
  {
   "cell_type": "code",
   "execution_count": 134,
   "metadata": {},
   "outputs": [
    {
     "data": {
      "text/plain": [
       "[1, 2, 3, 5, 8]"
      ]
     },
     "execution_count": 134,
     "metadata": {},
     "output_type": "execute_result"
    }
   ],
   "source": [
    "#Sorting and Reversing a list\n",
    "\n",
    "numbers = [5,1,8,3,2]\n",
    "\n",
    "numbers.sort()\n",
    "numbers"
   ]
  },
  {
   "cell_type": "code",
   "execution_count": 135,
   "metadata": {},
   "outputs": [
    {
     "data": {
      "text/plain": [
       "[8, 5, 3, 2, 1]"
      ]
     },
     "execution_count": 135,
     "metadata": {},
     "output_type": "execute_result"
    }
   ],
   "source": [
    "numbers.sort(reverse=True) #Sort in descending order\n",
    "numbers"
   ]
  },
  {
   "cell_type": "code",
   "execution_count": 136,
   "metadata": {},
   "outputs": [
    {
     "data": {
      "text/plain": [
       "[1, 2, 3, 5, 8]"
      ]
     },
     "execution_count": 136,
     "metadata": {},
     "output_type": "execute_result"
    }
   ],
   "source": [
    "numbers.reverse()\n",
    "numbers"
   ]
  },
  {
   "cell_type": "code",
   "execution_count": 139,
   "metadata": {},
   "outputs": [
    {
     "name": "stdout",
     "output_type": "stream",
     "text": [
      "99\n"
     ]
    }
   ],
   "source": [
    "#Finding the maximum, minimum, sum from the list\n",
    "\n",
    "num = [10,20,40,50,99,4,3,7]\n",
    "print(max(num))"
   ]
  },
  {
   "cell_type": "code",
   "execution_count": 140,
   "metadata": {},
   "outputs": [
    {
     "name": "stdout",
     "output_type": "stream",
     "text": [
      "1\n"
     ]
    }
   ],
   "source": [
    "print(min(numbers))"
   ]
  },
  {
   "cell_type": "code",
   "execution_count": 141,
   "metadata": {},
   "outputs": [
    {
     "name": "stdout",
     "output_type": "stream",
     "text": [
      "233\n"
     ]
    }
   ],
   "source": [
    "print(sum(num))"
   ]
  },
  {
   "cell_type": "code",
   "execution_count": 142,
   "metadata": {},
   "outputs": [
    {
     "data": {
      "text/plain": [
       "['Apple', 'Blueberry', 'Grapes', 'Mango', 'Orange', 'Strawberry']"
      ]
     },
     "execution_count": 142,
     "metadata": {},
     "output_type": "execute_result"
    }
   ],
   "source": [
    "fruits"
   ]
  },
  {
   "cell_type": "code",
   "execution_count": null,
   "metadata": {},
   "outputs": [
    {
     "name": "stdout",
     "output_type": "stream",
     "text": [
      "Not Available\n"
     ]
    }
   ],
   "source": [
    "#checking if an item exists in a list\n",
    "\n",
    "if 'Apple' in fruits:\n",
    "    print(\"Yes Apple is available\")\n",
    "else:\n",
    "    print(\"Not Available\")"
   ]
  },
  {
   "cell_type": "code",
   "execution_count": null,
   "metadata": {},
   "outputs": [
    {
     "name": "stdout",
     "output_type": "stream",
     "text": [
      "[1, 2, 3]\n"
     ]
    }
   ],
   "source": [
    "#Copying a list\n",
    "\n",
    "original = [1,2,3]\n",
    "copy_list = original.copy()\n",
    "print(copy_list)"
   ]
  },
  {
   "cell_type": "code",
   "execution_count": 148,
   "metadata": {},
   "outputs": [
    {
     "data": {
      "text/plain": [
       "[1, 2, 3, 4]"
      ]
     },
     "execution_count": 148,
     "metadata": {},
     "output_type": "execute_result"
    }
   ],
   "source": [
    "copy_list.append(4)\n",
    "copy_list"
   ]
  },
  {
   "cell_type": "code",
   "execution_count": 6,
   "metadata": {},
   "outputs": [
    {
     "name": "stdout",
     "output_type": "stream",
     "text": [
      "[1, 4, 9, 16, 25]\n"
     ]
    }
   ],
   "source": [
    "#List Comprehension\n",
    "\n",
    "squares = [x*x for x in range(1,6)]\n",
    "print(squares)"
   ]
  },
  {
   "cell_type": "markdown",
   "metadata": {},
   "source": [
    "# List built in functions\n",
    "\n",
    "| Function       | Description                                       |\n",
    "| -------------- | ------------------------------------------------- |\n",
    "| `append(x)`    | Add element at end                                |\n",
    "| `extend(list)` | Add elements of another list                      |\n",
    "| `insert(i, x)` | Insert at position `i`                            |\n",
    "| `remove(x)`    | Remove first occurrence of `x`                    |\n",
    "| `pop([i])`     | Remove and return item at index (last by default) |\n",
    "| `clear()`      | Remove all elements                               |\n",
    "| `index(x)`     | Return index of first occurrence of `x`           |\n",
    "| `count(x)`     | Count occurrences of `x`                          |\n",
    "| `sort()`       | Sort list (ascending by default)                  |\n",
    "| `reverse()`    | Reverse the list                                  |\n",
    "| `copy()`       | Create a shallow copy                             |\n",
    "\n"
   ]
  },
  {
   "cell_type": "markdown",
   "metadata": {},
   "source": [
    "❗ Common Mistakes to Avoid\n",
    "\n",
    "| Mistake                             | Explanation                                                                     |\n",
    "| ----------------------------------- | ------------------------------------------------------------------------------- |\n",
    "| ❌ IndexError                        | Accessing an index that doesn’t exist                                           |\n",
    "| ❌ Modifying list while iterating    | This can cause skipped or repeated elements                                     |\n",
    "| ❌ Using `list1 = list2` for copying | It creates a reference, not a copy! Use `list2.copy()` or `list(list1)` instead |\n",
    "| ❌ Forgetting list is mutable        | Changes affect the original if passed to a function                             |\n"
   ]
  },
  {
   "cell_type": "code",
   "execution_count": 8,
   "metadata": {},
   "outputs": [
    {
     "name": "stdout",
     "output_type": "stream",
     "text": [
      "15\n"
     ]
    }
   ],
   "source": [
    "#Example 1:Sum of all elements\n",
    "nums = [1,2,3,4,5]\n",
    "total = sum(nums)\n",
    "print(total)"
   ]
  },
  {
   "cell_type": "code",
   "execution_count": 9,
   "metadata": {},
   "outputs": [
    {
     "name": "stdout",
     "output_type": "stream",
     "text": [
      "9\n"
     ]
    }
   ],
   "source": [
    "#Find the largest number\n",
    "nums = [3,9,2,5,8]\n",
    "print(max(nums))"
   ]
  },
  {
   "cell_type": "code",
   "execution_count": 10,
   "metadata": {},
   "outputs": [
    {
     "name": "stdout",
     "output_type": "stream",
     "text": [
      "[10, 8, 5, 4, 2, 1]\n"
     ]
    }
   ],
   "source": [
    "#Reverse a list\n",
    "my_list = [1,2,4,5,8,10]\n",
    "print(my_list[::-1])"
   ]
  },
  {
   "cell_type": "code",
   "execution_count": 12,
   "metadata": {},
   "outputs": [
    {
     "name": "stdout",
     "output_type": "stream",
     "text": [
      "[2, 4, 6, 8, 10]\n"
     ]
    }
   ],
   "source": [
    "#Filter even numbers\n",
    "num = [1,2,3,4,5,6,7,8,9,10]\n",
    "evens = [x for x in num if x % 2 == 0]\n",
    "print(evens)"
   ]
  },
  {
   "cell_type": "code",
   "execution_count": 21,
   "metadata": {},
   "outputs": [
    {
     "name": "stdout",
     "output_type": "stream",
     "text": [
      "[1, 2, 3, 4, 5, 6]\n"
     ]
    }
   ],
   "source": [
    "nested_list = [[1,2],[3,4],[5,6]]\n",
    "flattened = [item for sublist in nested_list for item in sublist]\n",
    "print(flattened)"
   ]
  },
  {
   "cell_type": "code",
   "execution_count": 19,
   "metadata": {},
   "outputs": [
    {
     "name": "stdout",
     "output_type": "stream",
     "text": [
      "[1, 2, 3, 4, 5, 6]\n"
     ]
    }
   ],
   "source": [
    "nested_list = [[1,2],[3,4],[5,6]]\n",
    "flattened = []\n",
    "\n",
    "for sublist in nested_list:\n",
    "    for item in sublist:\n",
    "        flattened.append(item)\n",
    "    \n",
    "print(flattened)"
   ]
  },
  {
   "cell_type": "markdown",
   "metadata": {},
   "source": [
    "# **List Comprehension**"
   ]
  },
  {
   "cell_type": "code",
   "execution_count": 23,
   "metadata": {},
   "outputs": [
    {
     "name": "stdout",
     "output_type": "stream",
     "text": [
      "[1, 2, 3, 4, 5, 6, 7, 8, 9, 10]\n"
     ]
    }
   ],
   "source": [
    "#Basic Syntax\n",
    "# new_list = [expression for item in iterable]\n",
    "# Creating the list from a range\n",
    "\n",
    "num = [x for x in range(1,11)]\n",
    "print(num)"
   ]
  },
  {
   "cell_type": "code",
   "execution_count": 24,
   "metadata": {},
   "outputs": [
    {
     "name": "stdout",
     "output_type": "stream",
     "text": [
      "[2, 4, 6, 8, 10]\n"
     ]
    }
   ],
   "source": [
    "#Filter with a condition\n",
    "\n",
    "num = [x for x in range(1,11) if x % 2 == 0]\n",
    "print(num)"
   ]
  },
  {
   "cell_type": "code",
   "execution_count": 27,
   "metadata": {},
   "outputs": [
    {
     "name": "stdout",
     "output_type": "stream",
     "text": [
      "['HELLO', 'WORLD']\n"
     ]
    }
   ],
   "source": [
    "#Apply a function to each item\n",
    "\n",
    "words = ['hello','world']\n",
    "capitalized = [word.upper() for word in words]\n",
    "print(capitalized)"
   ]
  },
  {
   "cell_type": "code",
   "execution_count": 31,
   "metadata": {},
   "outputs": [
    {
     "name": "stdout",
     "output_type": "stream",
     "text": [
      "[4, 16]\n"
     ]
    }
   ],
   "source": [
    "#Filter and Modify\n",
    "nums = [1,2,3,4,5]\n",
    "square_of_even = [x**2 for x in nums if x % 2 == 0]\n",
    "print(square_of_even)"
   ]
  },
  {
   "cell_type": "code",
   "execution_count": 32,
   "metadata": {},
   "outputs": [
    {
     "name": "stdout",
     "output_type": "stream",
     "text": [
      "[(1, 3), (1, 4), (2, 3), (2, 4)]\n"
     ]
    }
   ],
   "source": [
    "pairs = [(x,y) for x in [1,2] for y in [3,4]]\n",
    "print(pairs)"
   ]
  },
  {
   "cell_type": "code",
   "execution_count": null,
   "metadata": {},
   "outputs": [
    {
     "name": "stdout",
     "output_type": "stream",
     "text": [
      "[1, 2, 3, 4, 5, 6]\n"
     ]
    }
   ],
   "source": [
    "#Flatten a 2D list\n",
    "nested = [[1,2],[3,4],[5,6]]\n",
    "flattened = [item for sublist in nested for item in sublist]\n",
    "print(flattened)"
   ]
  },
  {
   "cell_type": "code",
   "execution_count": 44,
   "metadata": {},
   "outputs": [
    {
     "name": "stdout",
     "output_type": "stream",
     "text": [
      "Printing The Sublist:  [1, 2]\n",
      "         Printing the items from the sublist: 1\n",
      "         Printing the items from the sublist: 2\n",
      "Printing The Sublist:  [3, 4]\n",
      "         Printing the items from the sublist: 3\n",
      "         Printing the items from the sublist: 4\n",
      "Printing The Sublist:  [5, 6]\n",
      "         Printing the items from the sublist: 5\n",
      "         Printing the items from the sublist: 6\n",
      "The Final Flattened Array:  [1, 2, 3, 4, 5, 6]\n"
     ]
    }
   ],
   "source": [
    "nested_list = [[1,2],[3,4],[5,6]]\n",
    "flattened = []\n",
    "\n",
    "for sublist in nested_list:\n",
    "    print('Printing The Sublist: ',sublist)\n",
    "    for item in sublist:\n",
    "        print('         Printing the items from the sublist:',item)\n",
    "        flattened.append(item)\n",
    "\n",
    "print('The Final Flattened Array: ',flattened)"
   ]
  },
  {
   "cell_type": "code",
   "execution_count": 45,
   "metadata": {},
   "outputs": [
    {
     "name": "stdout",
     "output_type": "stream",
     "text": [
      "['odd', 'even', 'odd', 'even', 'odd', 'even', 'odd', 'even', 'odd']\n"
     ]
    }
   ],
   "source": [
    "#Conditional Expression\n",
    "\n",
    "labels = ['even' if x % 2 == 0 else 'odd' for x in range(1,10)]\n",
    "print(labels)"
   ]
  },
  {
   "cell_type": "code",
   "execution_count": 47,
   "metadata": {},
   "outputs": [
    {
     "name": "stdout",
     "output_type": "stream",
     "text": [
      "btfl\n"
     ]
    }
   ],
   "source": [
    "#Removeing Vowels from a string\n",
    "\n",
    "text = 'beautiful'\n",
    "no_vowels = [char for char in text if char not in 'aeiou']\n",
    "print(''.join(no_vowels))"
   ]
  },
  {
   "cell_type": "code",
   "execution_count": 52,
   "metadata": {},
   "outputs": [
    {
     "name": "stdout",
     "output_type": "stream",
     "text": [
      "[3, 5, 6, 9, 10, 12, 15, 18, 20, 21, 24, 25, 27, 30, 33, 35, 36, 39, 40, 42, 45, 48, 50, 51, 54, 55, 57, 60, 63, 65, 66, 69, 70, 72, 75, 78, 80, 81, 84, 85, 87, 90, 93, 95, 96, 99, 100]\n"
     ]
    }
   ],
   "source": [
    "#Get all numbers divisible by 3 or 5 from 1,100\n",
    "\n",
    "result = [x for x in range(1,101) if x % 3 == 0 or x % 5 == 0]\n",
    "print(result)"
   ]
  },
  {
   "cell_type": "code",
   "execution_count": 53,
   "metadata": {},
   "outputs": [
    {
     "name": "stdout",
     "output_type": "stream",
     "text": [
      "[5, 6, 5]\n"
     ]
    }
   ],
   "source": [
    "words = ['apple','banana','mango']\n",
    "lengths = [len(word) for word in words]\n",
    "print(lengths)"
   ]
  },
  {
   "cell_type": "markdown",
   "metadata": {},
   "source": [
    "# Summary\n",
    "\n",
    "| Task        | List Comprehension                            |\n",
    "| ----------- | --------------------------------------------- |\n",
    "| Basic list  | `[x for x in range(10)]`                      |\n",
    "| Filtering   | `[x for x in nums if x > 0]`                  |\n",
    "| Mapping     | `[x**2 for x in nums]`                        |\n",
    "| If-Else     | `[\"even\" if x%2==0 else \"odd\" for x in nums]` |\n",
    "| Nested Loop | `[(x,y) for x in a for y in b]`               |\n"
   ]
  },
  {
   "cell_type": "code",
   "execution_count": 3,
   "metadata": {},
   "outputs": [
    {
     "name": "stdout",
     "output_type": "stream",
     "text": [
      "85\n"
     ]
    }
   ],
   "source": [
    "#Finding the largest element in the list\n",
    "\n",
    "lst = [1,54,66,85,4,10,69]\n",
    "largest = lst[0]\n",
    "\n",
    "for i in range(len(lst)):\n",
    "    if lst[i] > largest:\n",
    "        largest = lst[i]\n",
    "        \n",
    "print(largest)"
   ]
  },
  {
   "cell_type": "code",
   "execution_count": 4,
   "metadata": {},
   "outputs": [
    {
     "name": "stdout",
     "output_type": "stream",
     "text": [
      "The First Largest Value is : 69\n",
      "The Second Largest Value is : 61\n"
     ]
    }
   ],
   "source": [
    "#Finding the second largest in the list\n",
    "\n",
    "l = [5,4,6,39,54,69,45,33,61]\n",
    "\n",
    "largest = l[0]\n",
    "sec_largest = l[0]\n",
    "\n",
    "for i in l:\n",
    "    if i > largest:\n",
    "        sec_largest = largest\n",
    "        largest = i\n",
    "    elif i > sec_largest:\n",
    "        sec_largest = i\n",
    "\n",
    "print(f'The First Largest Value is : {largest}')\n",
    "print(f'The Second Largest Value is : {sec_largest}')\n"
   ]
  },
  {
   "cell_type": "code",
   "execution_count": 10,
   "metadata": {},
   "outputs": [
    {
     "name": "stdout",
     "output_type": "stream",
     "text": [
      "Your List isn't sorted\n"
     ]
    }
   ],
   "source": [
    "l = [4,2,3,4]\n",
    "\n",
    "for i in range(len(l)-1):\n",
    "    if l[i] < l[i + 1]:\n",
    "        continue\n",
    "    else:\n",
    "        print('Your List isn\\'t sorted')\n",
    "        break\n",
    "\n",
    "else:\n",
    "    print('Your List is sorted')"
   ]
  }
 ],
 "metadata": {
  "kernelspec": {
   "display_name": "Python 3",
   "language": "python",
   "name": "python3"
  },
  "language_info": {
   "codemirror_mode": {
    "name": "ipython",
    "version": 3
   },
   "file_extension": ".py",
   "mimetype": "text/x-python",
   "name": "python",
   "nbconvert_exporter": "python",
   "pygments_lexer": "ipython3",
   "version": "3.10.11"
  }
 },
 "nbformat": 4,
 "nbformat_minor": 2
}
