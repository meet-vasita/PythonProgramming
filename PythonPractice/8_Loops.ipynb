{
 "cells": [
  {
   "cell_type": "markdown",
   "metadata": {},
   "source": [
    "# **Loops in Python**"
   ]
  },
  {
   "cell_type": "markdown",
   "metadata": {},
   "source": [
    "🔁 What Are Loops in Python?\n",
    "\n",
    "Loops are used to repeat a block of code multiple times.\n",
    "There are 2 types of loops in Python:\n",
    "\n",
    "    for loop – used when you know how many times to iterate.\n",
    "\n",
    "    while loop – used when you want to loop until a condition is false."
   ]
  },
  {
   "cell_type": "code",
   "execution_count": 112,
   "metadata": {},
   "outputs": [
    {
     "name": "stdout",
     "output_type": "stream",
     "text": [
      "apple\n",
      "banana\n",
      "mango\n",
      "kiwi\n",
      "papaya\n",
      "orange\n",
      "grapes\n"
     ]
    }
   ],
   "source": [
    "# for Loop - syntax & examples\n",
    "\n",
    "#1. Looping through a list\n",
    "\n",
    "fruits = ['apple','banana','mango','kiwi','papaya','orange','grapes']\n",
    "\n",
    "for fruit in fruits:\n",
    "    print(fruit)\n"
   ]
  },
  {
   "cell_type": "code",
   "execution_count": 113,
   "metadata": {},
   "outputs": [
    {
     "name": "stdout",
     "output_type": "stream",
     "text": [
      "0\n",
      "1\n",
      "2\n",
      "3\n",
      "4\n"
     ]
    }
   ],
   "source": [
    "#2. Looping through a range()\n",
    "\n",
    "for i in range(5):\n",
    "    print(i)"
   ]
  },
  {
   "cell_type": "code",
   "execution_count": 114,
   "metadata": {},
   "outputs": [
    {
     "name": "stdout",
     "output_type": "stream",
     "text": [
      "0\n",
      "2\n",
      "4\n",
      "6\n",
      "8\n"
     ]
    }
   ],
   "source": [
    "#3. Example with range(start,stop,step)\n",
    "\n",
    "for i in range(0,10,2):\n",
    "    print(i)"
   ]
  },
  {
   "cell_type": "code",
   "execution_count": 115,
   "metadata": {},
   "outputs": [
    {
     "name": "stdout",
     "output_type": "stream",
     "text": [
      "5\n",
      "4\n",
      "3\n",
      "2\n",
      "1\n"
     ]
    }
   ],
   "source": [
    "# while loop - syntax & examples\n",
    "#1. Countdown\n",
    "\n",
    "count = 5\n",
    "\n",
    "while count > 0:\n",
    "    print(count)\n",
    "    count -= 1\n"
   ]
  },
  {
   "cell_type": "code",
   "execution_count": 116,
   "metadata": {},
   "outputs": [
    {
     "name": "stdout",
     "output_type": "stream",
     "text": [
      "0\n",
      "1\n",
      "2\n",
      "3\n",
      "4\n"
     ]
    }
   ],
   "source": [
    "#break, continue, and else with Loops\n",
    "for i in range(10):\n",
    "    if i == 5:\n",
    "        break\n",
    "    print(i)"
   ]
  },
  {
   "cell_type": "code",
   "execution_count": 117,
   "metadata": {},
   "outputs": [
    {
     "name": "stdout",
     "output_type": "stream",
     "text": [
      "0\n",
      "1\n",
      "3\n",
      "4\n"
     ]
    }
   ],
   "source": [
    "for i in range(5):\n",
    "    if i == 2:\n",
    "        continue\n",
    "    print(i)"
   ]
  },
  {
   "cell_type": "code",
   "execution_count": 118,
   "metadata": {},
   "outputs": [
    {
     "name": "stdout",
     "output_type": "stream",
     "text": [
      "0\n",
      "1\n",
      "2\n",
      "Loop completed\n"
     ]
    }
   ],
   "source": [
    "for i in range(3):\n",
    "    print(i)\n",
    "else:\n",
    "    print(\"Loop completed\")"
   ]
  },
  {
   "cell_type": "code",
   "execution_count": 5,
   "metadata": {},
   "outputs": [
    {
     "name": "stdout",
     "output_type": "stream",
     "text": [
      "1 2 3 4 5 6 7 8 9 10 \n",
      "2 4 6 8 10 12 14 16 18 20 \n",
      "3 6 9 12 15 18 21 24 27 30 \n",
      "4 8 12 16 20 24 28 32 36 40 \n",
      "5 10 15 20 25 30 35 40 45 50 \n",
      "6 12 18 24 30 36 42 48 54 60 \n",
      "7 14 21 28 35 42 49 56 63 70 \n",
      "8 16 24 32 40 48 56 64 72 80 \n",
      "9 18 27 36 45 54 63 72 81 90 \n",
      "10 20 30 40 50 60 70 80 90 100 \n"
     ]
    }
   ],
   "source": [
    "#Nested Loops\n",
    "\n",
    "for i in range(1,11):\n",
    "    for j in range(1,11):\n",
    "        print(i * j,end=' ')\n",
    "    print()"
   ]
  },
  {
   "cell_type": "code",
   "execution_count": null,
   "metadata": {},
   "outputs": [
    {
     "name": "stdout",
     "output_type": "stream",
     "text": [
      "* \n",
      "* * \n",
      "* * * \n",
      "* * * * \n"
     ]
    }
   ],
   "source": [
    "for i in range(1, 5): \n",
    "    for j in range(i):\n",
    "        print('*', end=' ')\n",
    "    print()\n"
   ]
  },
  {
   "cell_type": "markdown",
   "metadata": {},
   "source": [
    "# **❗ Common Mistakes to Avoid**"
   ]
  },
  {
   "cell_type": "markdown",
   "metadata": {},
   "source": [
    "| Mistake                                    | Example                                              | Why it's a problem                    |\n",
    "| ------------------------------------------ | ---------------------------------------------------- | ------------------------------------- |\n",
    "| Forgetting to update `while` loop variable | `while x < 5:` (but `x` is never changed)            | Causes an infinite loop               |\n",
    "| Wrong range usage                          | `range(1,5)` expected to include 5                   | It goes from 1 to 4; end is exclusive |\n",
    "| Improper indentation                       | `for i in range(5): print(i)` vs. `print(i)` outside | Can lead to logic or syntax errors    |\n",
    "| Nested loop logic confusion                | Mixing up loop counters or breaking wrong loop       | Leads to unexpected results           |\n"
   ]
  },
  {
   "cell_type": "markdown",
   "metadata": {},
   "source": [
    "🔁 What Are Nested Loops?\n",
    "\n",
    "A nested loop means placing one loop inside another loop.\n",
    "\n",
    "Think of it like:\n",
    "\n",
    "    Outer loop: Repeats a task multiple times\n",
    "\n",
    "    Inner loop: Completes a subtask every time the outer loop runs once"
   ]
  },
  {
   "cell_type": "markdown",
   "metadata": {},
   "source": [
    "🧠 Real-Life Analogy\n",
    "\n",
    "Imagine you're in a school with 3 classes, and each class has 5 students.\n",
    "\n",
    "To take attendance:\n",
    "\n",
    "    For each class (outer loop)\n",
    "\n",
    "        For each student in that class (inner loop)\n",
    "\n",
    "            Take attendance\n",
    "\n",
    "This is how nested loops work."
   ]
  },
  {
   "cell_type": "code",
   "execution_count": null,
   "metadata": {},
   "outputs": [
    {
     "name": "stdout",
     "output_type": "stream",
     "text": [
      "i=1, j=1\n",
      "i=1, j=2\n",
      "i=1, j=3\n",
      "i=2, j=1\n",
      "i=2, j=2\n",
      "i=2, j=3\n",
      "i=3, j=1\n",
      "i=3, j=2\n",
      "i=3, j=3\n"
     ]
    }
   ],
   "source": [
    "#Example :\n",
    "\n",
    "for i in range(1,4):\n",
    "    for j in range(1,4):\n",
    "        print(f'i={i}, j={j}')"
   ]
  },
  {
   "cell_type": "markdown",
   "metadata": {},
   "source": [
    "Explanation:\n",
    "\n",
    "    When i = 1, the inner loop runs: j = 1, 2, 3\n",
    "\n",
    "    Then i = 2, again inner loop runs: j = 1, 2, 3\n",
    "\n",
    "    Then i = 3, same again\n",
    "\n",
    "So total iterations = 3 outer × 3 inner = 9 times."
   ]
  },
  {
   "cell_type": "code",
   "execution_count": 11,
   "metadata": {},
   "outputs": [
    {
     "name": "stdout",
     "output_type": "stream",
     "text": [
      "0 1 2 3 4 5 \n",
      "0 1 2 3 4 5 \n",
      "0 1 2 3 4 5 \n",
      "0 1 2 3 4 5 \n",
      "0 1 2 3 4 5 \n",
      "0 1 2 3 4 5 \n"
     ]
    }
   ],
   "source": [
    "for row in range(6):\n",
    "    for col in range(6):\n",
    "        print(col,end=' ')\n",
    "    print()"
   ]
  },
  {
   "cell_type": "code",
   "execution_count": 135,
   "metadata": {},
   "outputs": [
    {
     "name": "stdout",
     "output_type": "stream",
     "text": [
      "0 \n",
      "0 1 \n",
      "0 1 2 \n",
      "0 1 2 3 \n",
      "0 1 2 3 4 \n"
     ]
    }
   ],
   "source": [
    "for i in range(1,6):\n",
    "    for j in range(i):\n",
    "        print(j,end=' ')\n",
    "    print()"
   ]
  },
  {
   "cell_type": "code",
   "execution_count": 124,
   "metadata": {},
   "outputs": [
    {
     "name": "stdout",
     "output_type": "stream",
     "text": [
      "1 1\n",
      "1 2\n",
      "1 3\n",
      "2 1\n",
      "2 2\n",
      "2 3\n",
      "3 1\n",
      "3 2\n",
      "3 3\n"
     ]
    }
   ],
   "source": [
    "for i in range(1, 4):        \n",
    "    for j in range(1, 4):     \n",
    "        print(i, j)"
   ]
  },
  {
   "cell_type": "markdown",
   "metadata": {},
   "source": [
    "✅ Using Assignment Operators with Loops\n",
    "\n",
    "You commonly use assignment operators inside loops to:\n",
    "\n",
    "    Update counters\n",
    "\n",
    "    Accumulate sums\n",
    "\n",
    "    Multiply running totals\n",
    "\n",
    "    Track minimum/maximum values"
   ]
  },
  {
   "cell_type": "code",
   "execution_count": 125,
   "metadata": {},
   "outputs": [
    {
     "name": "stdout",
     "output_type": "stream",
     "text": [
      "1\n",
      "3\n",
      "6\n",
      "10\n",
      "15\n"
     ]
    }
   ],
   "source": [
    "#Example 1: Sum of Numbers from 1 to 5\n",
    "\n",
    "total = 0\n",
    "for i in range(1,6):\n",
    "    total += i\n",
    "    print(total)"
   ]
  },
  {
   "cell_type": "markdown",
   "metadata": {},
   "source": [
    "| Loop | `i` | `total += i` | `total` now |\n",
    "| ---- | --- | ------------ | ----------- |\n",
    "| 1    | 1   | 0 + 1        | 1           |\n",
    "| 2    | 2   | 1 + 2        | 3           |\n",
    "| 3    | 3   | 3 + 3        | 6           |\n",
    "| 4    | 4   | 6 + 4        | 10          |\n",
    "| 5    | 5   | 10 + 5       | 15          |\n",
    "\n",
    "Add the value of i into total and store the result back into total.\n",
    "\n",
    "🟢 Final Output: Total: 15"
   ]
  },
  {
   "cell_type": "code",
   "execution_count": 126,
   "metadata": {},
   "outputs": [
    {
     "name": "stdout",
     "output_type": "stream",
     "text": [
      "Factorial of 1 = 1\n",
      "Factorial of 2 = 2\n",
      "Factorial of 3 = 6\n",
      "Factorial of 4 = 24\n",
      "Factorial of 5 = 120\n"
     ]
    }
   ],
   "source": [
    "#Factorial\n",
    "result = 1\n",
    "for i in range(1,6):\n",
    "    result *= i\n",
    "    print('Factorial of',i,'=',result)"
   ]
  },
  {
   "cell_type": "code",
   "execution_count": 12,
   "metadata": {},
   "outputs": [
    {
     "name": "stdout",
     "output_type": "stream",
     "text": [
      "5\n",
      "4\n",
      "3\n",
      "2\n",
      "1\n"
     ]
    }
   ],
   "source": [
    "#Example using -= in a while loop\n",
    "\n",
    "count = 5\n",
    "while count > 0:\n",
    "    print(count)\n",
    "    count -= 1"
   ]
  },
  {
   "cell_type": "markdown",
   "metadata": {},
   "source": [
    "🔁 Nested Loop with Assignment Operator Example\n",
    "🎯 Task: Count how many times the inner loop runs"
   ]
  },
  {
   "cell_type": "code",
   "execution_count": 128,
   "metadata": {},
   "outputs": [
    {
     "name": "stdout",
     "output_type": "stream",
     "text": [
      "Total Iterations: 1\n",
      "Total Iterations: 2\n",
      "Total Iterations: 3\n",
      "Total Iterations: 4\n",
      "Total Iterations: 5\n",
      "Total Iterations: 6\n",
      "Total Iterations: 7\n",
      "Total Iterations: 8\n",
      "Total Iterations: 9\n",
      "Total Iterations: 10\n",
      "Total Iterations: 11\n",
      "Total Iterations: 12\n"
     ]
    }
   ],
   "source": [
    "counter = 0\n",
    "for i in range(3):\n",
    "    for j in range(4):\n",
    "        count += 1\n",
    "        print('Total Iterations:',count)"
   ]
  },
  {
   "cell_type": "markdown",
   "metadata": {},
   "source": [
    "✅ Explanation:\n",
    "\n",
    "    Outer loop runs 3 times\n",
    "\n",
    "    Inner loop runs 4 times for each outer loop\n",
    "\n",
    "    Total: 3 × 4 = 12\n",
    "\n",
    "🟢 Final Output: Total iterations: 12"
   ]
  },
  {
   "cell_type": "markdown",
   "metadata": {},
   "source": [
    "⚠️ Common Mistakes to Avoid\n",
    "| Mistake                                | Why it's a problem                      |\n",
    "| -------------------------------------- | --------------------------------------- |\n",
    "| Using `=` instead of `+=`              | Overwrites value instead of updating it |\n",
    "| Forgetting to initialize variable      | Leads to `NameError`                    |\n",
    "| Using wrong operator (`*=`, `+=` etc.) | Gives unexpected result                 |\n",
    "| Misplacing the update line             | Can cause infinite loops                |\n",
    "\n"
   ]
  },
  {
   "cell_type": "markdown",
   "metadata": {},
   "source": [
    "# **✅ Pro Tip : Always initialize your variable before the loop when using assignment operators.**\n",
    "Example:"
   ]
  },
  {
   "cell_type": "code",
   "execution_count": 131,
   "metadata": {},
   "outputs": [
    {
     "name": "stdout",
     "output_type": "stream",
     "text": [
      "0\n",
      "1\n",
      "3\n",
      "6\n",
      "10\n",
      "15\n",
      "21\n",
      "28\n",
      "36\n",
      "45\n"
     ]
    }
   ],
   "source": [
    "total = 0  # initialize outside the loop\n",
    "for i in range(10):\n",
    "    total += i\n",
    "    print(total)"
   ]
  },
  {
   "cell_type": "code",
   "execution_count": null,
   "metadata": {},
   "outputs": [
    {
     "name": "stdout",
     "output_type": "stream",
     "text": [
      "1 2 3 4 5 6 7 8 9 10 \n",
      "1 2 3 4 5 6 7 8 9 10 \n",
      "1 2 3 4 5 6 7 8 9 10 \n"
     ]
    }
   ],
   "source": [
    "for i in range(3): # the Outer loop repeats the inner loop 3 times\n",
    "    for j in range(1,11): #print 1 to 10\n",
    "        print(j,end=' ')\n",
    "    print()"
   ]
  },
  {
   "cell_type": "code",
   "execution_count": null,
   "metadata": {},
   "outputs": [
    {
     "name": "stdout",
     "output_type": "stream",
     "text": [
      "Your Entered Rows: 5\n",
      "Your Entered Columns: 6\n",
      "Your Entered Symbol: *\n",
      "* * * * * * \n",
      "* * * * * * \n",
      "* * * * * * \n",
      "* * * * * * \n",
      "* * * * * * \n"
     ]
    }
   ],
   "source": [
    "rows = int(input(\"Enter the Number of rows: \"))\n",
    "colums = int(input(\"Enter the number of Columns: \"))\n",
    "symbol = input('Enter the symbol to use:')\n",
    "\n",
    "print('Your Entered Rows:',rows) \n",
    "print('Your Entered Columns:',colums)\n",
    "print('Your Entered Symbol:',symbol)\n",
    "\n",
    "for i in range(rows):\n",
    "    for j in range(colums):\n",
    "        print(symbol,end=' ')\n",
    "    print()"
   ]
  },
  {
   "cell_type": "code",
   "execution_count": 163,
   "metadata": {},
   "outputs": [
    {
     "name": "stdout",
     "output_type": "stream",
     "text": [
      "* \n",
      "* * \n",
      "* * * \n",
      "* * * * \n",
      "* * * * * \n"
     ]
    }
   ],
   "source": [
    "for i in range(1,6):\n",
    "    for j in range(1,i+1):\n",
    "        print('*',end=' ')\n",
    "    print()"
   ]
  },
  {
   "cell_type": "code",
   "execution_count": 190,
   "metadata": {},
   "outputs": [
    {
     "name": "stdout",
     "output_type": "stream",
     "text": [
      "\n",
      "Outer loop: i = 1\n",
      "    Inner loop: j = 1\n",
      "\n",
      "Outer loop: i = 2\n",
      "    Inner loop: j = 1\n",
      "    Inner loop: j = 2\n",
      "\n",
      "Outer loop: i = 3\n",
      "    Inner loop: j = 1\n",
      "    Inner loop: j = 2\n",
      "    Inner loop: j = 3\n",
      "\n",
      "Outer loop: i = 4\n",
      "    Inner loop: j = 1\n",
      "    Inner loop: j = 2\n",
      "    Inner loop: j = 3\n",
      "    Inner loop: j = 4\n",
      "\n",
      "Outer loop: i = 5\n",
      "    Inner loop: j = 1\n",
      "    Inner loop: j = 2\n",
      "    Inner loop: j = 3\n",
      "    Inner loop: j = 4\n",
      "    Inner loop: j = 5\n"
     ]
    }
   ],
   "source": [
    "for i in range(1,6):     # Outer loop\n",
    "    print(f\"\\nOuter loop: i = {i}\")\n",
    "    for j in range(1,i+1):   # Inner loop\n",
    "        print(f\"    Inner loop: j = {j}\")\n"
   ]
  },
  {
   "cell_type": "code",
   "execution_count": 184,
   "metadata": {},
   "outputs": [
    {
     "name": "stdout",
     "output_type": "stream",
     "text": [
      "1 \n",
      "1 2 \n",
      "1 2 3 \n",
      "1 2 3 4 \n",
      "1 2 3 4 5 \n"
     ]
    }
   ],
   "source": [
    "for i in range(1,6):\n",
    "    for j in range(1,i+1):\n",
    "        print(j,end=' ')\n",
    "    print()"
   ]
  },
  {
   "cell_type": "markdown",
   "metadata": {},
   "source": [
    "| Outer Loop `i` | Inner Loop `j in range(1, i+1)` | Printed Output |\n",
    "| -------------- | ------------------------------- | -------------- |\n",
    "| `i = 1`        | `1`                             | `1`            |\n",
    "| `i = 2`        | `1 2`                           | `1 2`          |\n",
    "| `i = 3`        | `1 2 3`                         | `1 2 3`        |\n",
    "| `i = 4`        | `1 2 3 4`                       | `1 2 3 4`      |\n",
    "| `i = 5`        | `1 2 3 4 5`                     | `1 2 3 4 5`    |\n"
   ]
  },
  {
   "cell_type": "code",
   "execution_count": 5,
   "metadata": {},
   "outputs": [
    {
     "name": "stdout",
     "output_type": "stream",
     "text": [
      "6\n",
      "5\n",
      "4\n",
      "3\n",
      "2\n",
      "1\n",
      "0\n"
     ]
    }
   ],
   "source": [
    "#Extracting the digits\n",
    "\n",
    "num = 123456\n",
    "\n",
    "while num > 0:\n",
    "    digits = num % 10\n",
    "    print(digits)\n",
    "    num = num // 10\n",
    "\n",
    "print(num)"
   ]
  },
  {
   "cell_type": "code",
   "execution_count": null,
   "metadata": {},
   "outputs": [
    {
     "name": "stdout",
     "output_type": "stream",
     "text": [
      "654321\n"
     ]
    }
   ],
   "source": [
    "#reversing the digits\n",
    "'''\n",
    "for eg 567 -> 765\n",
    "5 * 10 + 6 = 56\n",
    "56 * 10 + 7 = 567\n",
    "\n",
    "for eg 576 -> 675\n",
    "6 * 10 + 7 = 67\n",
    "67 * 10 + 5 = 675\n",
    "'''\n",
    "num = 123456\n",
    "\n",
    "rev = 0\n",
    "while num > 0:\n",
    "    rev = rev * 10 + num % 10\n",
    "    num = num // 10\n",
    "\n",
    "print(rev)"
   ]
  },
  {
   "cell_type": "code",
   "execution_count": 3,
   "metadata": {},
   "outputs": [
    {
     "name": "stdout",
     "output_type": "stream",
     "text": [
      "Number of Vowels: 7\n"
     ]
    }
   ],
   "source": [
    "#Count Vowels in a String\n",
    "\n",
    "text = 'Hello, how are you?'\n",
    "vowels = 'aeiouAEIOU'\n",
    "\n",
    "count = 0\n",
    "\n",
    "for char in text:\n",
    "    if char in vowels:\n",
    "        count += 1\n",
    "    \n",
    "print('Number of Vowels:',count)"
   ]
  },
  {
   "cell_type": "code",
   "execution_count": null,
   "metadata": {},
   "outputs": [
    {
     "name": "stdout",
     "output_type": "stream",
     "text": [
      "quick\n",
      "brown\n",
      "jumps\n",
      "over\n",
      "lazy\n"
     ]
    }
   ],
   "source": [
    "#Print only words with more than 3 characters\n",
    "\n",
    "sentence = 'The quick brown fox jumps over the lazy dog'\n",
    "\n",
    "words = sentence.split() #Returns the sentences in the List\n",
    "\n",
    "for word in words:\n",
    "    if len(word) > 3:\n",
    "        print(word)"
   ]
  },
  {
   "cell_type": "code",
   "execution_count": null,
   "metadata": {},
   "outputs": [
    {
     "name": "stdout",
     "output_type": "stream",
     "text": [
      "stnahpelE\n",
      "era\n",
      "tnagele\n",
      "serutaerc\n"
     ]
    }
   ],
   "source": [
    "#Reverse all words that contain the letter 'e'\n",
    "sentence = 'Elephants are elegant creatures'\n",
    "\n",
    "words = sentence.split()\n",
    "\n",
    "for word in words:\n",
    "    if 'e' in word.lower():\n",
    "        print(word[::-1])"
   ]
  },
  {
   "cell_type": "code",
   "execution_count": 8,
   "metadata": {},
   "outputs": [
    {
     "name": "stdout",
     "output_type": "stream",
     "text": [
      "Palindrome found: madam\n",
      "Palindrome found: racecar\n",
      "Palindrome found: level\n"
     ]
    }
   ],
   "source": [
    "#Palindrome in a list of words\n",
    "\n",
    "words = ['madam','racecar','hello','world','level']\n",
    "\n",
    "for word in words:\n",
    "    if word == word[::-1]:\n",
    "        print(f'Palindrome found: {word}')"
   ]
  },
  {
   "cell_type": "code",
   "execution_count": 9,
   "metadata": {},
   "outputs": [
    {
     "name": "stdout",
     "output_type": "stream",
     "text": [
      "Pr*gr*mm*ng *s f*n!\n"
     ]
    }
   ],
   "source": [
    "#Replace vowels in a string with '*'\n",
    "\n",
    "text = 'Programming is fun!'\n",
    "vowel = 'aeiouAEIOU'\n",
    "result = ''\n",
    "\n",
    "for char in text:\n",
    "    if char in vowel:\n",
    "        result += '*'\n",
    "    else:\n",
    "        result += char\n",
    "\n",
    "print(result)"
   ]
  },
  {
   "cell_type": "code",
   "execution_count": null,
   "metadata": {},
   "outputs": [
    {
     "name": "stdout",
     "output_type": "stream",
     "text": [
      "Python Is Amazing\n"
     ]
    }
   ],
   "source": [
    "# Capitalize first letter of each word\n",
    "sentence = \"python is amazing\"\n",
    "\n",
    "print(sentence.title())"
   ]
  },
  {
   "cell_type": "code",
   "execution_count": 25,
   "metadata": {},
   "outputs": [
    {
     "name": "stdout",
     "output_type": "stream",
     "text": [
      "{'H': 1, 'e': 3, 'l': 3, 'o': 5, ',': 1, 'W': 1, 'c': 1, 'm': 3, 't': 2, 'P': 2, 'y': 1, 'h': 1, 'n': 2, 'r': 2, 'g': 2, 'a': 1, 'i': 1}\n"
     ]
    }
   ],
   "source": [
    "# Count how many times each character appears (ignoring spaces)\n",
    "\n",
    "text = 'Hello, Welcome to Python Programming'\n",
    "\n",
    "char_count = {}\n",
    "\n",
    "for char in text:\n",
    "    if char != ' ':\n",
    "        if char in char_count:\n",
    "            char_count[char] += 1\n",
    "        else:\n",
    "            char_count[char] = 1\n",
    "    \n",
    "print(char_count)"
   ]
  }
 ],
 "metadata": {
  "kernelspec": {
   "display_name": "Python 3",
   "language": "python",
   "name": "python3"
  },
  "language_info": {
   "codemirror_mode": {
    "name": "ipython",
    "version": 3
   },
   "file_extension": ".py",
   "mimetype": "text/x-python",
   "name": "python",
   "nbconvert_exporter": "python",
   "pygments_lexer": "ipython3",
   "version": "3.10.11"
  }
 },
 "nbformat": 4,
 "nbformat_minor": 2
}
