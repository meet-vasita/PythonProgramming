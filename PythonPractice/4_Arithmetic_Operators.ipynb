{
 "cells": [
  {
   "cell_type": "markdown",
   "id": "9401ddc9",
   "metadata": {},
   "source": [
    "# **1. Arithmetic Operators in Python**\n",
    "### These are used to perform basic math operations.\n",
    "\n",
    "| Operator | Description         | Example (`a = 10, b = 3`) | Result |\n",
    "| -------- | ------------------- | ------------------------- | ------ |\n",
    "| `+`      | Addition            | `a + b`                   | `13`   |\n",
    "| `-`      | Subtraction         | `a - b`                   | `7`    |\n",
    "| `*`      | Multiplication      | `a * b`                   | `30`   |\n",
    "| `/`      | Division (float)    | `a / b`                   | `3.33` |\n",
    "| `//`     | Floor Division      | `a // b`                  | `3`    |\n",
    "| `%`      | Modulus (Remainder) | `a % b`                   | `1`    |\n",
    "| `**`     | Exponent (Power)    | `a ** b`                  | `1000` |\n",
    "\n"
   ]
  },
  {
   "cell_type": "code",
   "execution_count": null,
   "id": "9a539a70",
   "metadata": {},
   "outputs": [
    {
     "name": "stdout",
     "output_type": "stream",
     "text": [
      "13\n",
      "7\n",
      "30\n",
      "3.3333333333333335\n",
      "3\n",
      "1\n",
      "1000\n"
     ]
    }
   ],
   "source": [
    "a = 10\n",
    "b = 3\n",
    "\n",
    "print(a + b)    # 13\n",
    "print(a - b)    # 7\n",
    "print(a * b)    # 30\n",
    "print(a / b)    # 3.333...\n",
    "print(a // b)   # 3 (floor division)\n",
    "print(a % b)    # 1 (remainder)\n",
    "print(a ** b)   # 1000 (10 to the power of 3)"
   ]
  },
  {
   "cell_type": "markdown",
   "id": "91ed85b5",
   "metadata": {},
   "source": [
    "### Forgetting order of operations (PEMDAS): Use parentheses to clarify expressions."
   ]
  },
  {
   "cell_type": "markdown",
   "id": "b5798e0a",
   "metadata": {},
   "source": [
    "# **2. Assignment Operators**\n",
    "\n",
    "### These are used to assign values to variables. You can combine assignment with arithmetic."
   ]
  },
  {
   "cell_type": "markdown",
   "id": "6813a166",
   "metadata": {},
   "source": [
    "| Operator | Meaning                 | Equivalent To          |\n",
    "| -------- | ----------------------- | ---------------------- |\n",
    "| `=`      | Assign                  | `a = 5`                |\n",
    "| `+=`     | Add and assign          | `a += 2` → `a = a + 2` |\n",
    "| `-=`     | Subtract and assign     | `a -= 2`               |\n",
    "| `*=`     | Multiply and assign     | `a *= 2`               |\n",
    "| `/=`     | Divide and assign       | `a /= 2`               |\n",
    "| `//=`    | Floor divide and assign | `a //= 2`              |\n",
    "| `%=`     | Modulus and assign      | `a %= 2`               |\n",
    "| `**=`    | Exponent and assign     | `a **= 2`              |\n"
   ]
  },
  {
   "cell_type": "code",
   "execution_count": 5,
   "id": "de3dd29e",
   "metadata": {},
   "outputs": [
    {
     "name": "stdout",
     "output_type": "stream",
     "text": [
      "0.0\n"
     ]
    }
   ],
   "source": [
    "x = 5\n",
    "x += 3     # x becomes 8\n",
    "x *= 2     # x becomes 16\n",
    "x -= 4     # x becomes 12\n",
    "x /= 3     # x becomes 4.0 (note: now it's a float)\n",
    "x //= 2    # x becomes 2.0 (still float)\n",
    "x %= 2     # x becomes 0.0\n",
    "\n",
    "print(x)"
   ]
  },
  {
   "cell_type": "code",
   "execution_count": 7,
   "id": "8072ff76",
   "metadata": {},
   "outputs": [
    {
     "name": "stdout",
     "output_type": "stream",
     "text": [
      "Area: 50\n"
     ]
    }
   ],
   "source": [
    "# Calculate the area of rectangle\n",
    "\n",
    "length = 10\n",
    "width = 5\n",
    "area = length * width\n",
    "print('Area:',area)"
   ]
  },
  {
   "cell_type": "code",
   "execution_count": 8,
   "id": "31743f27",
   "metadata": {},
   "outputs": [
    {
     "name": "stdout",
     "output_type": "stream",
     "text": [
      "Odd\n"
     ]
    }
   ],
   "source": [
    "number = 7\n",
    "if number % 2 == 0:\n",
    "    print('Even')\n",
    "else:\n",
    "    print('Odd')"
   ]
  },
  {
   "cell_type": "code",
   "execution_count": 13,
   "id": "f0942d7d",
   "metadata": {},
   "outputs": [
    {
     "name": "stdout",
     "output_type": "stream",
     "text": [
      "8\n",
      "5\n",
      "3 5\n"
     ]
    }
   ],
   "source": [
    "#Swapping two numbers using arithmetic operations\n",
    "\n",
    "a = 5\n",
    "b = 3\n",
    "\n",
    "a = a + b\n",
    "print(a)\n",
    "\n",
    "b = a - b\n",
    "print(b)\n",
    "\n",
    "a = a - b\n",
    "print(a,b)"
   ]
  },
  {
   "cell_type": "code",
   "execution_count": null,
   "id": "26f22aba",
   "metadata": {},
   "outputs": [],
   "source": []
  }
 ],
 "metadata": {
  "kernelspec": {
   "display_name": "Python 3",
   "language": "python",
   "name": "python3"
  },
  "language_info": {
   "codemirror_mode": {
    "name": "ipython",
    "version": 3
   },
   "file_extension": ".py",
   "mimetype": "text/x-python",
   "name": "python",
   "nbconvert_exporter": "python",
   "pygments_lexer": "ipython3",
   "version": "3.10.11"
  }
 },
 "nbformat": 4,
 "nbformat_minor": 5
}
