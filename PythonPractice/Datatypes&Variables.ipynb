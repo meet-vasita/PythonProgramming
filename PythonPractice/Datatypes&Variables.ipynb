{
 "cells": [
  {
   "cell_type": "markdown",
   "metadata": {},
   "source": [
    "# **Datatypes & Variables**"
   ]
  },
  {
   "cell_type": "code",
   "execution_count": 3,
   "metadata": {},
   "outputs": [
    {
     "name": "stdout",
     "output_type": "stream",
     "text": [
      "Meet Vasita\n",
      "20\n",
      "5.11\n",
      "True\n"
     ]
    }
   ],
   "source": [
    "name = \"Meet Vasita\"\n",
    "age = 20\n",
    "height = 5.11\n",
    "isStudent = True\n",
    "\n",
    "print(name)\n",
    "print(age)\n",
    "print(height)\n",
    "print(isStudent)"
   ]
  },
  {
   "cell_type": "code",
   "execution_count": 4,
   "metadata": {},
   "outputs": [
    {
     "name": "stdout",
     "output_type": "stream",
     "text": [
      "<class 'str'>\n",
      "<class 'int'>\n",
      "<class 'float'>\n",
      "<class 'bool'>\n"
     ]
    }
   ],
   "source": [
    "print(type(name))\n",
    "print(type(age))\n",
    "print(type(height))\n",
    "print(type(isStudent))"
   ]
  },
  {
   "cell_type": "markdown",
   "metadata": {},
   "source": [
    "![Datatypes](datatypes.png)"
   ]
  },
  {
   "cell_type": "code",
   "execution_count": 7,
   "metadata": {},
   "outputs": [
    {
     "name": "stdout",
     "output_type": "stream",
     "text": [
      "My Name is Meet Vasita, Iam 20 Years Old, 5.11 Feet Tall and Employment Status as a student is True\n"
     ]
    }
   ],
   "source": [
    "print(f\"My Name is {name}, Iam {age} Years Old, {height} Feet Tall and Employment Status as a student is {isStudent}\")"
   ]
  },
  {
   "cell_type": "code",
   "execution_count": 8,
   "metadata": {},
   "outputs": [
    {
     "name": "stdout",
     "output_type": "stream",
     "text": [
      "<class 'int'>\n",
      "<class 'float'>\n",
      "<class 'str'>\n",
      "<class 'bool'>\n"
     ]
    }
   ],
   "source": [
    "#Type Checking\n",
    "\n",
    "x = 10\n",
    "y = 10.25\n",
    "z = \"Hello\"\n",
    "w = False\n",
    "\n",
    "print(type(x))\n",
    "print(type(y))\n",
    "print(type(z))\n",
    "print(type(w))"
   ]
  },
  {
   "cell_type": "code",
   "execution_count": 12,
   "metadata": {},
   "outputs": [
    {
     "name": "stdout",
     "output_type": "stream",
     "text": [
      "The Sum of 10 + 30 = 40\n",
      "The Sum of 10 - 30 = -20\n",
      "The Sum of 10 * 30 = 300\n",
      "The Sum of 10 / 30 = 3.0\n"
     ]
    }
   ],
   "source": [
    "#Simple Calculator\n",
    "\n",
    "a = 10\n",
    "b = 30\n",
    "\n",
    "sum = a + b\n",
    "sub = a - b\n",
    "product = a * b\n",
    "div = b/a\n",
    "\n",
    "\n",
    "print(f\"The Sum of {a} + {b} =\",sum)\n",
    "print(f\"The Sum of {a} - {b} =\",sub)\n",
    "print(f\"The Sum of {a} * {b} =\",product)\n",
    "print(f\"The Sum of {a} / {b} =\",div)"
   ]
  },
  {
   "cell_type": "code",
   "execution_count": 13,
   "metadata": {},
   "outputs": [
    {
     "name": "stdout",
     "output_type": "stream",
     "text": [
      "My Name is Meet, My age is 20 Years Old and My Hobby is Spotting Airplanes\n"
     ]
    }
   ],
   "source": [
    "name = \"Meet\"\n",
    "age = 20\n",
    "hobby = \"Spotting Airplanes\"\n",
    "\n",
    "print(f\"My Name is {name}, My age is {20} Years Old and My Hobby is {hobby}\")"
   ]
  },
  {
   "cell_type": "code",
   "execution_count": 15,
   "metadata": {},
   "outputs": [
    {
     "name": "stdout",
     "output_type": "stream",
     "text": [
      "A =  30\n",
      "B =  10\n"
     ]
    }
   ],
   "source": [
    "#Swapping Two Numbers\n",
    "\n",
    "a = 10\n",
    "b = 30\n",
    "\n",
    "a,b = b, a\n",
    "print(\"A = \",a)\n",
    "print(\"B = \",b)\n"
   ]
  }
 ],
 "metadata": {
  "kernelspec": {
   "display_name": "Python 3",
   "language": "python",
   "name": "python3"
  },
  "language_info": {
   "codemirror_mode": {
    "name": "ipython",
    "version": 3
   },
   "file_extension": ".py",
   "mimetype": "text/x-python",
   "name": "python",
   "nbconvert_exporter": "python",
   "pygments_lexer": "ipython3",
   "version": "3.10.11"
  }
 },
 "nbformat": 4,
 "nbformat_minor": 2
}
