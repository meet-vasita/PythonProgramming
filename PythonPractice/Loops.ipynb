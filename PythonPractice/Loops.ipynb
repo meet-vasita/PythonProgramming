{
 "cells": [
  {
   "cell_type": "markdown",
   "metadata": {},
   "source": [
    "# **Loops in Python**"
   ]
  },
  {
   "cell_type": "code",
   "execution_count": 21,
   "metadata": {},
   "outputs": [
    {
     "name": "stdout",
     "output_type": "stream",
     "text": [
      "0\n",
      "1\n",
      "2\n",
      "3\n",
      "4\n",
      "\n",
      "-5\n",
      "-4\n",
      "-3\n",
      "-2\n",
      "-1\n",
      "\n",
      "-1\n",
      "-2\n",
      "-3\n",
      "-4\n",
      "-5\n"
     ]
    }
   ],
   "source": [
    "#For Loop\n",
    "\n",
    "# uses 'range()' Function \n",
    "\n",
    "'''\n",
    "isme hum range set kar rhe hai 5 ki \n",
    "jab loop chalega initial value 0 hogi\n",
    "1st print karega 0 and then the loop continues upto the defined range\n",
    "\n",
    "programming concepts mei numbering hamesha 0 se start hoti hai\n",
    "\n",
    "in the code maine range define ki hai 5 \n",
    "pehele loop 0 print karega\n",
    "phir 1    \n",
    "phir 2\n",
    "phir 3\n",
    "phir 4\n",
    "'''\n",
    "\n",
    "\n",
    "for i in range(5):\n",
    "    print(i)\n",
    "\n",
    "print()\n",
    "\n",
    "for i in range(-5,0):\n",
    "    print(i)\n",
    "\n",
    "print()\n",
    "\n",
    "'''\n",
    "range(start, stop, step) kaise kaam karta hai:\n",
    "\n",
    "    Start: Yeh starting value hoti hai jo range se start hoti hai. Is case mein yeh -1 hai.\n",
    "\n",
    "    Stop: Yeh end value hoti hai, lekin yeh exclusive hoti hai (matlab yeh value loop mein nahi aayegi). Is case mein yeh -6 hai, to loop -6 tak nahi chalega, balki -6 se pehle ruk jayega.\n",
    "\n",
    "    Step: Yeh value ka increment ya decrement define karta hai. Is case mein step -1 hai, matlab value har baar 1 se decrease hoti hai.\n",
    "\n",
    "Loop kaise kaam karta hai:\n",
    "\n",
    "    Initial Value: Loop -1 se start hota hai (jo ki start value hai).\n",
    "\n",
    "    Condition Check: Loop ye check karta hai ki -1 -6 se bada hai ya nahi (kyunki step -1 hai, loop tab tak chalega jab tak value stop value se badi ho).\n",
    "\n",
    "    Print aur Decrement: Har baar loop current value print karega aur fir i ko -1 se kam karega (step ke wajah se). Yeh process tab tak chalega jab tak i -6 tak nahi pohonchta.\n",
    "\n",
    "    Loop Stop: Jab i -6 ho jata hai, loop ruk jata hai, kyunki stop value (-6) exclusive hoti hai.\n",
    "\n",
    "Step-by-Step Iteration:\n",
    "\n",
    "    Pehli iteration: i = -1. Yeh print hota hai, aur fir i ko 1 kam karke -2 bana dete hain.\n",
    "\n",
    "    Dusri iteration: i = -2. Yeh print hota hai, aur fir i ko 1 kam karke -3 bana dete hain.\n",
    "\n",
    "    Teesri iteration: i = -3. Yeh print hota hai, aur fir i ko 1 kam karke -4 bana dete hain.\n",
    "\n",
    "    Chouthi iteration: i = -4. Yeh print hota hai, aur fir i ko 1 kam karke -5 bana dete hain.\n",
    "\n",
    "    Paanchvi iteration: i = -5. Yeh print hota hai, aur fir i ko 1 kam karke -6 bana dete hain.\n",
    "\n",
    "    Ab i = -6, aur kyunki -6 stop value hai jo exclusive hai, loop ruk jayega.\n",
    "'''\n",
    "\n",
    "for i in range(-1,-6,-1):\n",
    "    print(i)\n",
    "\n"
   ]
  },
  {
   "cell_type": "code",
   "execution_count": 22,
   "metadata": {},
   "outputs": [
    {
     "name": "stdout",
     "output_type": "stream",
     "text": [
      "apple\n",
      "banana\n",
      "orange\n"
     ]
    }
   ],
   "source": [
    "#Iterating Over a list\n",
    "\n",
    "fruits = ['apple','banana','orange']\n",
    "for fruit in fruits:\n",
    "    print(fruit)"
   ]
  },
  {
   "cell_type": "code",
   "execution_count": 23,
   "metadata": {},
   "outputs": [
    {
     "name": "stdout",
     "output_type": "stream",
     "text": [
      "5\n",
      "4\n",
      "3\n",
      "2\n",
      "1\n"
     ]
    }
   ],
   "source": [
    "#While Loop\n",
    "\n",
    "'''\n",
    "count ki initial value 5 hai.\n",
    "Jab tak count 0 se bada hai, loop chalega.\n",
    "Har iteration mein count ki value print hogi aur phir count -= 1 ke through count ki value 1 kam ho jayegi.\n",
    "Jab count 0 ho jayega, loop ruk jayega.\n",
    "'''\n",
    "\n",
    "count = 5\n",
    "while(count > 0):\n",
    "    print(count)\n",
    "    count -=1"
   ]
  },
  {
   "cell_type": "code",
   "execution_count": 24,
   "metadata": {},
   "outputs": [
    {
     "name": "stdout",
     "output_type": "stream",
     "text": [
      "1\n",
      "2\n",
      "3\n",
      "4\n"
     ]
    }
   ],
   "source": [
    "'''\n",
    "Understanding the while loop:\n",
    "Count rahega 1\n",
    "while condition check karega count ka value is less than 5 if true then \n",
    "Wo us loop ke block mei jayega count print karega 1 and then count ki value\n",
    "increment karke kardega 2 phir same process upto 5 \n",
    "jaise hi loop 5 pe ayega ruk jayega \n",
    "'''\n",
    "\n",
    "\n",
    "count = 1     \n",
    "while count < 5:\n",
    "    print(count)\n",
    "    count += 1\n"
   ]
  },
  {
   "cell_type": "code",
   "execution_count": null,
   "metadata": {},
   "outputs": [
    {
     "name": "stdout",
     "output_type": "stream",
     "text": [
      "0\n",
      "1\n",
      "2\n",
      "3\n",
      "4\n"
     ]
    }
   ],
   "source": [
    "#break statement\n",
    "#break statement stops the loop immediately\n",
    "\n",
    "for i in range(10):\n",
    "    if i == 5:\n",
    "        break\n",
    "    print(i)"
   ]
  },
  {
   "cell_type": "code",
   "execution_count": null,
   "metadata": {},
   "outputs": [
    {
     "name": "stdout",
     "output_type": "stream",
     "text": [
      "0\n",
      "1\n",
      "3\n",
      "4\n"
     ]
    }
   ],
   "source": [
    "#Continue Statement\n",
    "#Skips the 2 and return the numbers after that\n",
    "\n",
    "for i in range(5):\n",
    "    if i == 2:\n",
    "        continue\n",
    "    print(i)"
   ]
  },
  {
   "cell_type": "code",
   "execution_count": null,
   "metadata": {},
   "outputs": [
    {
     "name": "stdout",
     "output_type": "stream",
     "text": [
      "0\n",
      "1\n",
      "2\n",
      "3\n",
      "4\n"
     ]
    }
   ],
   "source": [
    "#pass statement does nothing\n",
    "\n",
    "for i in range(5):\n",
    "    if i == 3:\n",
    "        pass\n",
    "    print(i)"
   ]
  },
  {
   "cell_type": "code",
   "execution_count": null,
   "metadata": {},
   "outputs": [
    {
     "name": "stdout",
     "output_type": "stream",
     "text": [
      "2 x 1 = 2\n",
      "2 x 2 = 4\n",
      "2 x 3 = 6\n",
      "2 x 4 = 8\n",
      "2 x 5 = 10\n",
      "2 x 6 = 12\n",
      "2 x 7 = 14\n",
      "2 x 8 = 16\n",
      "2 x 9 = 18\n",
      "2 x 10 = 20\n"
     ]
    }
   ],
   "source": [
    "#nested Loops\n",
    "#Printing the tables\n",
    "\n",
    "table = 2\n",
    "for i in range(1,11):\n",
    "    print(f\"{table} x {i} = {table * i}\")"
   ]
  },
  {
   "cell_type": "code",
   "execution_count": 14,
   "metadata": {},
   "outputs": [
    {
     "name": "stdout",
     "output_type": "stream",
     "text": [
      "2 is a prime number\n"
     ]
    }
   ],
   "source": [
    "#Finding the prime numbers \n",
    "'''\n",
    "So the prime numbers are those that are natural numbers that are divisible by 1\n",
    "and the number it self\n",
    "'''\n",
    "\n",
    "num = int(input(\"Enter the Number : \"))\n",
    "is_Prime = True\n",
    "\n",
    "for i in range(2, num):\n",
    "    if num % i == 0:\n",
    "        is_Prime = False\n",
    "        break\n",
    "\n",
    "if is_Prime:\n",
    "    print(f\"{num} is a prime number\")\n",
    "else:\n",
    "    print(f\"{num} is not an prime number\")"
   ]
  },
  {
   "cell_type": "code",
   "execution_count": 5,
   "metadata": {},
   "outputs": [
    {
     "name": "stdout",
     "output_type": "stream",
     "text": [
      "1 2 3 4 5 6 7 8 9 10 "
     ]
    }
   ],
   "source": [
    "#Printing the numbers from 1 to 10\n",
    "\n",
    "for i in range(1,11):\n",
    "    print(i,end = ' ')"
   ]
  },
  {
   "cell_type": "code",
   "execution_count": 10,
   "metadata": {},
   "outputs": [
    {
     "name": "stdout",
     "output_type": "stream",
     "text": [
      "2 4 6 8 10 12 14 16 18 20 "
     ]
    }
   ],
   "source": [
    "#Print Even Numbers from 1 to 20\n",
    "for i in range(1,21):\n",
    "    if i % 2 == 0:\n",
    "        print(i, end= ' ')"
   ]
  },
  {
   "cell_type": "code",
   "execution_count": 11,
   "metadata": {},
   "outputs": [
    {
     "name": "stdout",
     "output_type": "stream",
     "text": [
      "10 12 14 16 18 20 22 24 26 28 30 32 34 36 38 40 42 44 46 48 50 "
     ]
    }
   ],
   "source": [
    "#another method\n",
    "\n",
    "start = int(input(\"Enter the starting number : \"))\n",
    "end = int(input(\"Enter the ending number : \"))\n",
    "\n",
    "for i in range(start, end + 1):\n",
    "    if i % 2 == 0:\n",
    "        print(i,end=' ')"
   ]
  },
  {
   "cell_type": "code",
   "execution_count": null,
   "metadata": {},
   "outputs": [
    {
     "name": "stdout",
     "output_type": "stream",
     "text": [
      "1\n",
      "3\n",
      "6\n",
      "10\n",
      "15\n"
     ]
    }
   ],
   "source": [
    "#Sum of natural numbers\n",
    "\n",
    "'''\n",
    "Yeh Program me ham total value 0 set kar rhe hai\n",
    "loop chalega 1 to 6 which prints 1 to 5\n",
    "ham apply kar rhe hai formula total += i which is total = total + i\n",
    "\n",
    "the loop iteration evolving the value for eg, every iteration i = 1, i = 2, i = 3,.....\n",
    "\n",
    "how the formula is working :\n",
    "starting with 0\n",
    "total = total + i \n",
    "which is 0 = 0 + 1, returns 1\n",
    "\n",
    "abhi total ka value update hoke store hoga 1\n",
    "1 = 1 + 2 = 2, returns 3,\n",
    "abhi total ka value update hoke store hoga 3\n",
    "3 = 3 + 3 = 6, returns 6\n",
    "abhi total ka value update hoke store hoga 6\n",
    "6 = 6 + 4 = 10\n",
    "abhi total ka value update hoke store hoga 10\n",
    "10 = 10 + 5 = 15\n",
    "\n",
    "we'll get the answer : 15\n",
    "'''\n",
    "number = 5\n",
    "sum = 0\n",
    "for i in range(1,number+1):\n",
    "    sum = sum + i\n",
    "    print(sum)\n",
    "\n",
    "\n"
   ]
  },
  {
   "cell_type": "code",
   "execution_count": null,
   "metadata": {},
   "outputs": [
    {
     "name": "stdout",
     "output_type": "stream",
     "text": [
      "5 * 1 = 5\n",
      "5 * 2 = 10\n",
      "5 * 3 = 15\n",
      "5 * 4 = 20\n",
      "5 * 5 = 25\n",
      "5 * 6 = 30\n",
      "5 * 7 = 35\n",
      "5 * 8 = 40\n",
      "5 * 9 = 45\n",
      "5 * 10 = 50\n"
     ]
    }
   ],
   "source": [
    "#Multiplication of the table\n",
    "num = 5\n",
    "for i in range(1,11):\n",
    "    print(f\"{num} x {i} = {num * i}\")"
   ]
  },
  {
   "cell_type": "code",
   "execution_count": 26,
   "metadata": {},
   "outputs": [
    {
     "name": "stdout",
     "output_type": "stream",
     "text": [
      "Factorial of 5 is 120\n"
     ]
    }
   ],
   "source": [
    "num = 5\n",
    "factorial = 1\n",
    "for i in range(1,num+1):\n",
    "    factorial *= i\n",
    "\n",
    "print(\"Factorial of\", num,\"is\", factorial )"
   ]
  },
  {
   "cell_type": "code",
   "execution_count": null,
   "metadata": {},
   "outputs": [
    {
     "name": "stdout",
     "output_type": "stream",
     "text": [
      "0 1 1 2 3 5 8 13 21 34 "
     ]
    }
   ],
   "source": [
    "#Fibonacci Series\n",
    "a = 0\n",
    "b = 1\n",
    "\n",
    "for i in range(10):\n",
    "    print(a,end=' ')\n",
    "    a,b = b, a + b"
   ]
  },
  {
   "cell_type": "code",
   "execution_count": 4,
   "metadata": {},
   "outputs": [
    {
     "name": "stdout",
     "output_type": "stream",
     "text": [
      "largest value is 90\n"
     ]
    }
   ],
   "source": [
    "#finding the largest number in list\n",
    "\n",
    "lst = [10,23,45,7,4,63,90]\n",
    "largest = lst[0]\n",
    "\n",
    "for num in lst:\n",
    "    if num > largest:\n",
    "        largest = num\n",
    "\n",
    "print(f\"largest value is {largest}\")\n",
    "    "
   ]
  },
  {
   "cell_type": "code",
   "execution_count": 1,
   "metadata": {},
   "outputs": [
    {
     "name": "stdout",
     "output_type": "stream",
     "text": [
      "1\n",
      "2\n",
      "3\n",
      "4\n",
      "5\n"
     ]
    }
   ],
   "source": [
    "i = 1\n",
    "while i < 6:\n",
    "    print(i)\n",
    "    i += 1"
   ]
  },
  {
   "cell_type": "code",
   "execution_count": null,
   "metadata": {},
   "outputs": [
    {
     "ename": "IndexError",
     "evalue": "list index out of range",
     "output_type": "error",
     "traceback": [
      "\u001b[0;31m---------------------------------------------------------------------------\u001b[0m",
      "\u001b[0;31mIndexError\u001b[0m                                Traceback (most recent call last)",
      "Cell \u001b[0;32mIn[25], line 10\u001b[0m\n\u001b[1;32m      7\u001b[0m y \u001b[38;5;241m=\u001b[39m \u001b[38;5;241m-\u001b[39m\u001b[38;5;241m99\u001b[39m          \u001b[38;5;66;03m# Step 2: Initialize runner-up score with a small value\u001b[39;00m\n\u001b[1;32m      9\u001b[0m \u001b[38;5;28;01mfor\u001b[39;00m i \u001b[38;5;129;01min\u001b[39;00m \u001b[38;5;28mrange\u001b[39m(\u001b[38;5;241m0\u001b[39m, n):   \u001b[38;5;66;03m# Step 3: Iterate through each score\u001b[39;00m\n\u001b[0;32m---> 10\u001b[0m     \u001b[38;5;28;01mif\u001b[39;00m \u001b[43marr\u001b[49m\u001b[43m[\u001b[49m\u001b[43mi\u001b[49m\u001b[43m]\u001b[49m \u001b[38;5;241m<\u001b[39m x \u001b[38;5;129;01mand\u001b[39;00m arr[i] \u001b[38;5;241m>\u001b[39m y:  \u001b[38;5;66;03m# Step 4: Check if it's less than max, but more than current y\u001b[39;00m\n\u001b[1;32m     11\u001b[0m         y \u001b[38;5;241m=\u001b[39m arr[i]  \u001b[38;5;66;03m# Step 5: Update y if it's a better candidate for runner-up\u001b[39;00m\n\u001b[1;32m     13\u001b[0m \u001b[38;5;28mprint\u001b[39m(y)  \u001b[38;5;66;03m# Final output\u001b[39;00m\n",
      "\u001b[0;31mIndexError\u001b[0m: list index out of range"
     ]
    }
   ],
   "source": []
  },
  {
   "cell_type": "code",
   "execution_count": null,
   "metadata": {},
   "outputs": [],
   "source": []
  },
  {
   "cell_type": "code",
   "execution_count": null,
   "metadata": {},
   "outputs": [],
   "source": []
  },
  {
   "cell_type": "code",
   "execution_count": null,
   "metadata": {},
   "outputs": [],
   "source": []
  }
 ],
 "metadata": {
  "kernelspec": {
   "display_name": "Python 3",
   "language": "python",
   "name": "python3"
  },
  "language_info": {
   "codemirror_mode": {
    "name": "ipython",
    "version": 3
   },
   "file_extension": ".py",
   "mimetype": "text/x-python",
   "name": "python",
   "nbconvert_exporter": "python",
   "pygments_lexer": "ipython3",
   "version": "3.10.11"
  }
 },
 "nbformat": 4,
 "nbformat_minor": 2
}
