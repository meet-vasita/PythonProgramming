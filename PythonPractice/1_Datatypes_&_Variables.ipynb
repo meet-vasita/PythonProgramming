{
 "cells": [
  {
   "cell_type": "markdown",
   "metadata": {},
   "source": [
    "# **Datatypes & Variables**"
   ]
  },
  {
   "cell_type": "markdown",
   "metadata": {},
   "source": [
    "# **What is Variable?**\n",
    "\n",
    "**A variable is a name used to store data in memory so you can use it later in your program.**"
   ]
  },
  {
   "cell_type": "code",
   "execution_count": 1,
   "metadata": {},
   "outputs": [
    {
     "name": "stdout",
     "output_type": "stream",
     "text": [
      "Meet\n",
      "21\n",
      "5.11\n",
      "True\n"
     ]
    }
   ],
   "source": [
    "name = 'Meet'\n",
    "age = 21\n",
    "height = 5.11\n",
    "is_student = True\n",
    "#Each of these stores a different type of data in a variable.\n",
    "\n",
    "print(name)\n",
    "print(age)\n",
    "print(height)\n",
    "print(is_student)"
   ]
  },
  {
   "cell_type": "markdown",
   "metadata": {},
   "source": [
    "# **Rules for Naming Variables**\n",
    "### ✅ Allowed:\n",
    "### Use letters, digits, and underscores\n",
    "### Start with a letter or underscore\n",
    "### Case-sensitive (name, Name, and NAME are different)"
   ]
  },
  {
   "cell_type": "markdown",
   "metadata": {},
   "source": [
    "### ❌ Not Allowed:\n",
    "### Cannot start with a number: 1name = \"Alice\" ❌\n",
    "### No special characters like @, $, %\n",
    "### Cannot use reserved Python keywords (e.g., for, if, class)"
   ]
  },
  {
   "cell_type": "code",
   "execution_count": 3,
   "metadata": {},
   "outputs": [
    {
     "name": "stdout",
     "output_type": "stream",
     "text": [
      "Meet\n",
      "21\n",
      "100\n"
     ]
    }
   ],
   "source": [
    "#Valid Examples\n",
    "student_name = 'Meet'\n",
    "_age = 21\n",
    "total2 = 100\n",
    "\n",
    "print(student_name)\n",
    "print(_age)\n",
    "print(total2)"
   ]
  },
  {
   "cell_type": "markdown",
   "metadata": {},
   "source": [
    "# **🔹 Assigning Values to Variables**"
   ]
  },
  {
   "cell_type": "code",
   "execution_count": 4,
   "metadata": {},
   "outputs": [
    {
     "name": "stdout",
     "output_type": "stream",
     "text": [
      "10\n",
      "Hello\n",
      "3.14\n"
     ]
    }
   ],
   "source": [
    "#Basic Assignment:\n",
    "\n",
    "x = 10\n",
    "y = 'Hello'\n",
    "z = 3.14\n",
    "\n",
    "print(x)\n",
    "print(y)\n",
    "print(z)"
   ]
  },
  {
   "cell_type": "code",
   "execution_count": 5,
   "metadata": {},
   "outputs": [
    {
     "name": "stdout",
     "output_type": "stream",
     "text": [
      "100\n",
      "100\n",
      "100\n"
     ]
    }
   ],
   "source": [
    "#Assigning Same Value to Multiple Variables:\n",
    "\n",
    "a = b = c = 100\n",
    "print(a)\n",
    "print(b)\n",
    "print(c)"
   ]
  },
  {
   "cell_type": "code",
   "execution_count": 6,
   "metadata": {},
   "outputs": [
    {
     "name": "stdout",
     "output_type": "stream",
     "text": [
      "1\n",
      "2\n",
      "3\n"
     ]
    }
   ],
   "source": [
    "#Assigning Different Value in One Line:\n",
    "\n",
    "x,y,z = 1,2,3\n",
    "print(x)\n",
    "print(y)\n",
    "print(z)"
   ]
  },
  {
   "cell_type": "markdown",
   "metadata": {},
   "source": [
    "# **Variable Types (Basic Overview)**\n",
    "\n",
    "## variables can hold:\n",
    "### int → integers: x = 10\n",
    "### float → decimals: y = 3.14\n",
    "### str → text: name = \"Meet\"\n",
    "### bool → booleans: is_valid = True"
   ]
  },
  {
   "cell_type": "markdown",
   "metadata": {},
   "source": [
    "# Reassigning Variables\n",
    "## You can change the value of a variable later:"
   ]
  },
  {
   "cell_type": "code",
   "execution_count": 7,
   "metadata": {},
   "outputs": [
    {
     "name": "stdout",
     "output_type": "stream",
     "text": [
      "90\n",
      "100\n"
     ]
    }
   ],
   "source": [
    "score = 90 #first score is 90\n",
    "print(score)\n",
    "\n",
    "score = 100 #now score is 100\n",
    "print(score)"
   ]
  },
  {
   "cell_type": "code",
   "execution_count": 8,
   "metadata": {},
   "outputs": [
    {
     "name": "stdout",
     "output_type": "stream",
     "text": [
      "10\n",
      "ten\n"
     ]
    }
   ],
   "source": [
    "#You can change the type \n",
    "\n",
    "x = 10\n",
    "print(x)\n",
    "\n",
    "x = 'ten'\n",
    "print(x)"
   ]
  },
  {
   "cell_type": "markdown",
   "metadata": {},
   "source": [
    "# **Using print() and type()**"
   ]
  },
  {
   "cell_type": "code",
   "execution_count": 9,
   "metadata": {},
   "outputs": [
    {
     "name": "stdout",
     "output_type": "stream",
     "text": [
      "Meet\n"
     ]
    }
   ],
   "source": [
    "name = 'Meet'\n",
    "print(name)"
   ]
  },
  {
   "cell_type": "markdown",
   "metadata": {},
   "source": [
    "# type() - Check Variable Type"
   ]
  },
  {
   "cell_type": "code",
   "execution_count": 10,
   "metadata": {},
   "outputs": [
    {
     "name": "stdout",
     "output_type": "stream",
     "text": [
      "<class 'int'>\n"
     ]
    }
   ],
   "source": [
    "x = 5\n",
    "print(type(x))"
   ]
  },
  {
   "cell_type": "code",
   "execution_count": 11,
   "metadata": {},
   "outputs": [
    {
     "name": "stdout",
     "output_type": "stream",
     "text": [
      "5\n",
      "<class 'str'>\n",
      "10\n",
      "<class 'int'>\n"
     ]
    }
   ],
   "source": [
    "x = 5\n",
    "x_str = str(x)\n",
    "print(x_str)\n",
    "print(type(x_str))\n",
    "\n",
    "y = '10'\n",
    "y_int = int(y)\n",
    "print(y_int)\n",
    "print(type(y_int))"
   ]
  },
  {
   "cell_type": "markdown",
   "metadata": {},
   "source": [
    "# **⚠️ Always make sure conversion is possible:**"
   ]
  },
  {
   "cell_type": "code",
   "execution_count": 12,
   "metadata": {},
   "outputs": [
    {
     "ename": "ValueError",
     "evalue": "invalid literal for int() with base 10: 'Hello'",
     "output_type": "error",
     "traceback": [
      "\u001b[0;31m---------------------------------------------------------------------------\u001b[0m",
      "\u001b[0;31mValueError\u001b[0m                                Traceback (most recent call last)",
      "Cell \u001b[0;32mIn[12], line 2\u001b[0m\n\u001b[1;32m      1\u001b[0m \u001b[38;5;28mint\u001b[39m(\u001b[38;5;124m'\u001b[39m\u001b[38;5;124m10\u001b[39m\u001b[38;5;124m'\u001b[39m) \u001b[38;5;66;03m#Works\u001b[39;00m\n\u001b[0;32m----> 2\u001b[0m \u001b[38;5;28;43mint\u001b[39;49m\u001b[43m(\u001b[49m\u001b[38;5;124;43m'\u001b[39;49m\u001b[38;5;124;43mHello\u001b[39;49m\u001b[38;5;124;43m'\u001b[39;49m\u001b[43m)\u001b[49m \u001b[38;5;66;03m#Error\u001b[39;00m\n",
      "\u001b[0;31mValueError\u001b[0m: invalid literal for int() with base 10: 'Hello'"
     ]
    }
   ],
   "source": [
    "int('10') #Works\n",
    "int('Hello') #Error"
   ]
  },
  {
   "cell_type": "markdown",
   "metadata": {},
   "source": [
    "# **Constants in Python(By Convention)**\n",
    "\n",
    "### Python doesn't have true constants, but you can use uppercase names to mean \"don’t change this\":"
   ]
  },
  {
   "cell_type": "code",
   "execution_count": null,
   "metadata": {},
   "outputs": [
    {
     "name": "stdout",
     "output_type": "stream",
     "text": [
      "3.14159\n",
      "100\n"
     ]
    }
   ],
   "source": [
    "PI = 3.14159\n",
    "MAX_USERS = 100\n",
    "\n",
    "print(PI)\n",
    "print(MAX_USERS)"
   ]
  },
  {
   "cell_type": "markdown",
   "metadata": {},
   "source": [
    "| Mistake                           | What Happens          | Fix                              |\n",
    "| --------------------------------- | --------------------- | -------------------------------- |\n",
    "| `2x = 10`                         | SyntaxError           | `x2 = 10`                        |\n",
    "| `x = \"10\" + 5`                    | TypeError             | `x = int(\"10\") + 5`              |\n",
    "| Using a variable before assigning | NameError             | Always define variable first     |\n",
    "| Confusing `=` with `==`           | Wrong result or error | `=` for assign, `==` for compare |\n"
   ]
  },
  {
   "cell_type": "code",
   "execution_count": null,
   "metadata": {},
   "outputs": [
    {
     "name": "stdout",
     "output_type": "stream",
     "text": [
      "15\n"
     ]
    }
   ],
   "source": [
    "x = int('10') + 5\n",
    "print(x)"
   ]
  },
  {
   "cell_type": "markdown",
   "metadata": {},
   "source": [
    "# Practice Examples"
   ]
  },
  {
   "cell_type": "code",
   "execution_count": null,
   "metadata": {},
   "outputs": [
    {
     "name": "stdout",
     "output_type": "stream",
     "text": [
      "Meet is 21 years old\n"
     ]
    }
   ],
   "source": [
    "name = 'Meet'\n",
    "age = 21\n",
    "print(name, 'is', age, 'years old')"
   ]
  },
  {
   "cell_type": "code",
   "execution_count": null,
   "metadata": {},
   "outputs": [
    {
     "name": "stdout",
     "output_type": "stream",
     "text": [
      "Final Price : 80\n"
     ]
    }
   ],
   "source": [
    "#Price and Discount \n",
    "price = 100\n",
    "discount = 20\n",
    "price_after_discount = price - discount\n",
    "print('Final Price :',price_after_discount)"
   ]
  },
  {
   "cell_type": "code",
   "execution_count": null,
   "metadata": {},
   "outputs": [
    {
     "name": "stdout",
     "output_type": "stream",
     "text": [
      "a: 10 b: 4\n"
     ]
    }
   ],
   "source": [
    "#Swap Two Numbers \n",
    "a,b = 4,10\n",
    "a,b = b,a\n",
    "print('a:',a,'b:',b)"
   ]
  },
  {
   "cell_type": "code",
   "execution_count": 13,
   "metadata": {},
   "outputs": [
    {
     "name": "stdout",
     "output_type": "stream",
     "text": [
      "Name: Meet Vasita\n",
      "Age: 21\n"
     ]
    }
   ],
   "source": [
    "#Problems:\n",
    "# Assign your name to a variable and print it.\n",
    "# Assign your age to another variable and print it.\n",
    "\n",
    "name = 'Meet Vasita'\n",
    "age = 21\n",
    "\n",
    "print('Name:',name)\n",
    "print('Age:',age)"
   ]
  },
  {
   "cell_type": "code",
   "execution_count": 14,
   "metadata": {},
   "outputs": [
    {
     "name": "stdout",
     "output_type": "stream",
     "text": [
      "10\n",
      "20\n",
      "30\n"
     ]
    }
   ],
   "source": [
    "# Assign values 10, 20, and 30 to variables a, b, and c in one line.\n",
    "# Print all three.\n",
    "\n",
    "a,b,c = 10,20,30\n",
    "\n",
    "print(a)\n",
    "print(b)\n",
    "print(c)"
   ]
  },
  {
   "cell_type": "code",
   "execution_count": null,
   "metadata": {},
   "outputs": [
    {
     "name": "stdout",
     "output_type": "stream",
     "text": [
      "Before Swapping\n",
      "x: 5\n",
      "y: 10\n",
      "After Swapping\n",
      "x: 10\n",
      "y: 5\n"
     ]
    }
   ],
   "source": [
    "# Swap the values of variables x and y.\n",
    "\n",
    "x = 5\n",
    "y = 10\n",
    "print('Before Swapping')\n",
    "print('x:',x)\n",
    "print('y:',y)\n",
    "\n",
    "x,y = y,x\n",
    "print('After Swapping')\n",
    "print('x:',x)\n",
    "print('y:',y)"
   ]
  },
  {
   "cell_type": "code",
   "execution_count": 17,
   "metadata": {},
   "outputs": [
    {
     "name": "stdout",
     "output_type": "stream",
     "text": [
      "<class 'str'>\n",
      "<class 'int'>\n",
      "<class 'float'>\n"
     ]
    }
   ],
   "source": [
    "#Create a variable for your name, age and height.\n",
    "#Print the type of each variable using type()\n",
    "\n",
    "name = 'Meet'\n",
    "age = 21\n",
    "height = 5.11\n",
    "\n",
    "print(type(name))\n",
    "print(type(age))\n",
    "print(type(height))\n"
   ]
  },
  {
   "cell_type": "code",
   "execution_count": 18,
   "metadata": {},
   "outputs": [
    {
     "name": "stdout",
     "output_type": "stream",
     "text": [
      "Total Marks :  145\n",
      "Average Marks: 72.5\n"
     ]
    }
   ],
   "source": [
    "# Create two variables for marks in two subjects.\n",
    "# Calculate and print total and average.\n",
    "\n",
    "English = 60\n",
    "Maths = 85\n",
    "total = English + Maths\n",
    "average = total / 2\n",
    "\n",
    "print('Total Marks : ',total)\n",
    "print('Average Marks:',average)"
   ]
  },
  {
   "cell_type": "code",
   "execution_count": 19,
   "metadata": {},
   "outputs": [
    {
     "name": "stdout",
     "output_type": "stream",
     "text": [
      "The Area of Rectangle is: 50\n"
     ]
    }
   ],
   "source": [
    "#Area of Rectangle \n",
    "#Given width = 5, height = 10\n",
    "\n",
    "width = 5\n",
    "height = 10\n",
    "area_of_rectangle = width * height\n",
    "print('The Area of Rectangle is:',area_of_rectangle)"
   ]
  },
  {
   "cell_type": "code",
   "execution_count": 21,
   "metadata": {},
   "outputs": [
    {
     "name": "stdout",
     "output_type": "stream",
     "text": [
      "Total after converting the String value to Integer value is: 150\n"
     ]
    }
   ],
   "source": [
    "# Assign a string number like \"100\" to a variable.\n",
    "# Convert it to an integer and add 50 to it.\n",
    "\n",
    "number = '100'\n",
    "total = int(number) + 50\n",
    "print('Total after converting the String value to Integer value is:',total)"
   ]
  },
  {
   "cell_type": "code",
   "execution_count": 23,
   "metadata": {},
   "outputs": [
    {
     "name": "stdout",
     "output_type": "stream",
     "text": [
      "Final Price After Discount:  900.0\n"
     ]
    }
   ],
   "source": [
    "price = 1000\n",
    "discount_percent = 10\n",
    "\n",
    "discount_amount = (discount_percent/100) * price\n",
    "final_price = price - discount_amount\n",
    "print('Final Price After Discount: ',final_price)"
   ]
  }
 ],
 "metadata": {
  "kernelspec": {
   "display_name": "Python 3",
   "language": "python",
   "name": "python3"
  },
  "language_info": {
   "codemirror_mode": {
    "name": "ipython",
    "version": 3
   },
   "file_extension": ".py",
   "mimetype": "text/x-python",
   "name": "python",
   "nbconvert_exporter": "python",
   "pygments_lexer": "ipython3",
   "version": "3.10.11"
  }
 },
 "nbformat": 4,
 "nbformat_minor": 2
}
