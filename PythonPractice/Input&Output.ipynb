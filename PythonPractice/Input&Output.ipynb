{
 "cells": [
  {
   "cell_type": "markdown",
   "metadata": {},
   "source": [
    "# **Taking Input from user and Providing Output**"
   ]
  },
  {
   "cell_type": "code",
   "execution_count": 2,
   "metadata": {},
   "outputs": [
    {
     "name": "stdout",
     "output_type": "stream",
     "text": [
      "Hello Meet!\n"
     ]
    }
   ],
   "source": [
    "# Taking the input from the user\n",
    "\n",
    "name = input(\"Enter Your Name : \")\n",
    "print(\"Hello \" + name + \"!\")"
   ]
  },
  {
   "cell_type": "code",
   "execution_count": 8,
   "metadata": {},
   "outputs": [
    {
     "name": "stdout",
     "output_type": "stream",
     "text": [
      "Hello Meet!\n",
      "Next Year, You will be 21 Years Old\n"
     ]
    }
   ],
   "source": [
    "#Converting the input type\n",
    "#By default, input() returns a string. If you need a number, convert it using int() or float()\n",
    "\n",
    "age = int(input(\"Enter Your Age : \"))\n",
    "print(\"Hello \" + name + \"!\")\n",
    "print(\"Next Year, You will be\",age + 1,\"Years Old\")\n"
   ]
  },
  {
   "cell_type": "code",
   "execution_count": 9,
   "metadata": {},
   "outputs": [
    {
     "name": "stdout",
     "output_type": "stream",
     "text": [
      "Welcome To Python Programming Meet\n"
     ]
    }
   ],
   "source": [
    "#Printing The Output\n",
    "print(\"Welcome To Python Programming\", name)"
   ]
  },
  {
   "cell_type": "code",
   "execution_count": 10,
   "metadata": {},
   "outputs": [
    {
     "name": "stdout",
     "output_type": "stream",
     "text": [
      "Your name is Meet and Your Age is 20 year old\n"
     ]
    }
   ],
   "source": [
    "#Using f-Strings\n",
    "print(f\"Your name is {name} and Your Age is {age} year old\")"
   ]
  },
  {
   "cell_type": "code",
   "execution_count": 11,
   "metadata": {},
   "outputs": [
    {
     "name": "stdout",
     "output_type": "stream",
     "text": [
      "Hello Meet, Your Favorite Colour is Black\n"
     ]
    }
   ],
   "source": [
    "#Greeting the user\n",
    "n = input(\"Enter the Name : \")\n",
    "col = input(\"Enter Your Favorite Colour : \")\n",
    "print(f\"Hello {n}, Your Favorite Colour is {col}\")"
   ]
  },
  {
   "cell_type": "code",
   "execution_count": 13,
   "metadata": {},
   "outputs": [
    {
     "name": "stdout",
     "output_type": "stream",
     "text": [
      "The Sum of the 45 + 34 = 79\n"
     ]
    }
   ],
   "source": [
    "num1 = int(input(\"Enter the number 1 : \"))\n",
    "num2 = int(input(\"Enter the number 2 : \"))\n",
    "print(f\"The Sum of the {num1} + {num2} =\",num1+num2)"
   ]
  },
  {
   "cell_type": "code",
   "execution_count": 14,
   "metadata": {},
   "outputs": [
    {
     "name": "stdout",
     "output_type": "stream",
     "text": [
      "Hello Meet, Your age is 21\n"
     ]
    }
   ],
   "source": [
    "e_name = input(\"Enter Your name : \")\n",
    "b_year = int(input(\"Enter Your Birth Year : \"))\n",
    "current_year = 2025 - b_year\n",
    "print(f\"Hello {e_name}, Your age is {current_year}\")"
   ]
  }
 ],
 "metadata": {
  "kernelspec": {
   "display_name": "Python 3",
   "language": "python",
   "name": "python3"
  },
  "language_info": {
   "codemirror_mode": {
    "name": "ipython",
    "version": 3
   },
   "file_extension": ".py",
   "mimetype": "text/x-python",
   "name": "python",
   "nbconvert_exporter": "python",
   "pygments_lexer": "ipython3",
   "version": "3.10.11"
  }
 },
 "nbformat": 4,
 "nbformat_minor": 2
}
