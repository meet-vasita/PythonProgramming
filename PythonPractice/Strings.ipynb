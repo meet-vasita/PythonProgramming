{
 "cells": [
  {
   "cell_type": "markdown",
   "metadata": {},
   "source": [
    "# **Strings in Python**"
   ]
  },
  {
   "cell_type": "code",
   "execution_count": 1,
   "metadata": {},
   "outputs": [
    {
     "name": "stdout",
     "output_type": "stream",
     "text": [
      "Meet\n",
      "Meet\n",
      "This is a multiline string\n",
      "this is a multiline string\n",
      "this is a multiline string\n"
     ]
    }
   ],
   "source": [
    "#Example of Strings\n",
    "\n",
    "single_qoute = 'Meet'\n",
    "double_qoute = 'Meet'\n",
    "triple_quote = '''This is a multiline string\n",
    "this is a multiline string\n",
    "this is a multiline string'''\n",
    "\n",
    "print(single_qoute)\n",
    "print(double_qoute)\n",
    "print(triple_quote)"
   ]
  },
  {
   "cell_type": "code",
   "execution_count": 2,
   "metadata": {},
   "outputs": [
    {
     "name": "stdout",
     "output_type": "stream",
     "text": [
      "P\n",
      "n\n",
      "o\n"
     ]
    }
   ],
   "source": [
    "#String Indexing & Slicing\n",
    "\n",
    "text = 'Python'\n",
    "\n",
    "print(text[0])\n",
    "print(text[-1])\n",
    "print(text[4])"
   ]
  },
  {
   "cell_type": "code",
   "execution_count": 18,
   "metadata": {},
   "outputs": [
    {
     "name": "stdout",
     "output_type": "stream",
     "text": [
      "Python\n",
      "Python\n",
      "Programming\n",
      "Programming\n",
      "Pto rgamn\n"
     ]
    }
   ],
   "source": [
    "#Slicing: Extracting the parts of the string \n",
    "\n",
    "new_text = \"Python Programming\"\n",
    "\n",
    "print(new_text[0:6])\n",
    "print(new_text[:6])\n",
    "print(new_text[7:])\n",
    "print(new_text[-11:])  #'Programming' (-11 to -1) or (-11 to -2)\n",
    "print(new_text[::2])   #'Pto rgamn' (every second char)"
   ]
  },
  {
   "cell_type": "code",
   "execution_count": 30,
   "metadata": {},
   "outputs": [
    {
     "name": "stdout",
     "output_type": "stream",
     "text": [
      "HELLO WORLD\n",
      "hello world\n",
      "Hello World\n",
      "Hello world\n",
      "hello world\n",
      "hi world\n",
      "2\n",
      "True\n",
      "True\n"
     ]
    }
   ],
   "source": [
    "#String Methods\n",
    "another_new_text = \"hello world\"\n",
    "\n",
    "print(another_new_text.upper()) \n",
    "print(another_new_text.lower())\n",
    "print(another_new_text.title()) #Capitalize the starting character \n",
    "print(another_new_text.capitalize()) #Only Capitalize the starting word of the word\n",
    "print(another_new_text.strip()) #Remove the extra spaces\n",
    "print(another_new_text.replace(\"hello\",\"hi\"))\n",
    "print(another_new_text.count('o')) #Count the occurences of 'o'\n",
    "print(another_new_text.startswith(\"he\"))\n",
    "print(another_new_text.endswith(\"ld\"))\n",
    "\n"
   ]
  },
  {
   "cell_type": "code",
   "execution_count": null,
   "metadata": {},
   "outputs": [
    {
     "name": "stdout",
     "output_type": "stream",
     "text": [
      "Hello World\n",
      "HelloHelloHello\n"
     ]
    }
   ],
   "source": [
    "#String Concatenation & Repetition\n",
    "\n",
    "a = 'Hello'\n",
    "b = 'World'\n",
    "\n",
    "print(f\"{a} {b}\")\n",
    "print(a * 3)"
   ]
  },
  {
   "cell_type": "code",
   "execution_count": 33,
   "metadata": {},
   "outputs": [
    {
     "name": "stdout",
     "output_type": "stream",
     "text": [
      "My name is Meet and Iam 20 years old.\n"
     ]
    }
   ],
   "source": [
    "#String Formatting \n",
    "\n",
    "name = 'Meet'\n",
    "age = '20'\n",
    "print(f\"My name is {name} and Iam {age} years old.\")"
   ]
  },
  {
   "cell_type": "code",
   "execution_count": 34,
   "metadata": {},
   "outputs": [
    {
     "name": "stdout",
     "output_type": "stream",
     "text": [
      "My Name is Meet and Iam 20 Years Old.\n"
     ]
    }
   ],
   "source": [
    "print(\"My Name is {} and Iam {} Years Old.\".format(name,age))"
   ]
  },
  {
   "cell_type": "code",
   "execution_count": 37,
   "metadata": {},
   "outputs": [
    {
     "name": "stdout",
     "output_type": "stream",
     "text": [
      "True\n",
      "True\n",
      "False\n"
     ]
    }
   ],
   "source": [
    "#Checking Substring\n",
    "\n",
    "text = \"Python Programming\"\n",
    "print(\"Python\" in text)\n",
    "print(\"Java\" not in text)\n",
    "print(\"Java\" in text)"
   ]
  },
  {
   "cell_type": "code",
   "execution_count": 38,
   "metadata": {},
   "outputs": [
    {
     "name": "stdout",
     "output_type": "stream",
     "text": [
      "nohtyP\n"
     ]
    }
   ],
   "source": [
    "#Reversing The String\n",
    "text = \"Python\"\n",
    "print(text[::-1])"
   ]
  },
  {
   "cell_type": "code",
   "execution_count": 42,
   "metadata": {},
   "outputs": [
    {
     "name": "stdout",
     "output_type": "stream",
     "text": [
      "['apple', 'banana', 'orange']\n",
      "apple banana orange\n"
     ]
    }
   ],
   "source": [
    "#Splitting and Joining Strings\n",
    "text = \"apple,banana,orange\"\n",
    "words = text.split(\",\") #Prints the list\n",
    "\n",
    "print(words)\n",
    "\n",
    "sentence = \" \".join(words) #Write it as a sentence\n",
    "print(sentence)"
   ]
  },
  {
   "cell_type": "code",
   "execution_count": 43,
   "metadata": {},
   "outputs": [
    {
     "name": "stdout",
     "output_type": "stream",
     "text": [
      "['Meet', 'Vinod', 'Vasita']\n"
     ]
    }
   ],
   "source": [
    "text = \"Meet,Vinod,Vasita\"\n",
    "name = text.split(\",\")\n",
    "print(name)"
   ]
  },
  {
   "cell_type": "code",
   "execution_count": 46,
   "metadata": {},
   "outputs": [
    {
     "name": "stdout",
     "output_type": "stream",
     "text": [
      "Meet Vinod Vasita\n"
     ]
    }
   ],
   "source": [
    "sentence = \" \".join(name)\n",
    "print(sentence)"
   ]
  },
  {
   "cell_type": "code",
   "execution_count": 53,
   "metadata": {},
   "outputs": [
    {
     "name": "stdout",
     "output_type": "stream",
     "text": [
      "Hello\n",
      "World\n",
      "Tab\tSpace\n",
      "He Said : \"Python is Great\"\n",
      "It's a beautiful day\n"
     ]
    }
   ],
   "source": [
    "#Escape Characters\n",
    "\n",
    "print(\"Hello\\nWorld\") #Prints on new line\n",
    "print(\"Tab\\tSpace\")\n",
    "print(\"He Said : \\\"Python is Great\\\"\")  #Prints the string in the double quotes\n",
    "print('It\\'s a beautiful day')"
   ]
  },
  {
   "cell_type": "code",
   "execution_count": null,
   "metadata": {},
   "outputs": [
    {
     "name": "stdout",
     "output_type": "stream",
     "text": [
      "True\n",
      "True\n",
      "True\n"
     ]
    }
   ],
   "source": [
    "#Checking if string is alphabetic, numeric, or alphanumeric\n",
    "\n",
    "s1 = \"Python123\"\n",
    "s2 = \"Python\"\n",
    "s3 = \"12345\"\n",
    "\n",
    "print(s1.isalnum())   #True (alphanumeric)\n",
    "print(s2.isalpha())   #True (alphabetic)\n",
    "print(s3.isnumeric()) #True (numeric)"
   ]
  }
 ],
 "metadata": {
  "kernelspec": {
   "display_name": "Python 3",
   "language": "python",
   "name": "python3"
  },
  "language_info": {
   "codemirror_mode": {
    "name": "ipython",
    "version": 3
   },
   "file_extension": ".py",
   "mimetype": "text/x-python",
   "name": "python",
   "nbconvert_exporter": "python",
   "pygments_lexer": "ipython3",
   "version": "3.10.11"
  }
 },
 "nbformat": 4,
 "nbformat_minor": 2
}
