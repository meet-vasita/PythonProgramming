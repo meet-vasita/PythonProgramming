{
 "cells": [
  {
   "cell_type": "markdown",
   "id": "f0bf5166",
   "metadata": {},
   "source": [
    "# What is len() in Python?\n",
    "\n",
    "The built-in len() function returns the number of items (length) in an iterable or collection like:\n",
    "\n",
    "    Strings\n",
    "\n",
    "    Lists\n",
    "\n",
    "    Tuples\n",
    "\n",
    "    Dictionaries\n",
    "\n",
    "    Sets\n",
    "\n",
    "    Ranges\n",
    "\n",
    "    Other iterables"
   ]
  },
  {
   "cell_type": "markdown",
   "id": "1962e4a9",
   "metadata": {},
   "source": [
    "# ✅ When Do You Need to Use len()?\n",
    "\n",
    "You use len() whenever you need to know how many items are in a collection. Some common use cases:\n",
    "\n",
    "    Count characters in a string\n",
    "\n",
    "    Get the number of elements in a list/tuple/set\n",
    "\n",
    "    Check if a container is empty\n",
    "\n",
    "    Loop through elements based on length\n",
    "\n",
    "    Input validation\n",
    "\n",
    "    Conditional logic (e.g., if list is too long or too short)"
   ]
  },
  {
   "cell_type": "code",
   "execution_count": 1,
   "id": "ccc26419",
   "metadata": {},
   "outputs": [
    {
     "name": "stdout",
     "output_type": "stream",
     "text": [
      "6\n"
     ]
    }
   ],
   "source": [
    "text = 'python'\n",
    "print(len(text))"
   ]
  },
  {
   "cell_type": "code",
   "execution_count": 2,
   "id": "f9f21eea",
   "metadata": {},
   "outputs": [
    {
     "name": "stdout",
     "output_type": "stream",
     "text": [
      "Password is too short\n"
     ]
    }
   ],
   "source": [
    "password = 'abc1234'\n",
    "\n",
    "if len(password) < 8:\n",
    "    print('Password is too short')\n",
    "else:\n",
    "    print('Strong Password')"
   ]
  },
  {
   "cell_type": "code",
   "execution_count": 3,
   "id": "243f276d",
   "metadata": {},
   "outputs": [
    {
     "name": "stdout",
     "output_type": "stream",
     "text": [
      "3\n"
     ]
    }
   ],
   "source": [
    "#Len with lists\n",
    "\n",
    "fruits = ['apple','banana','cherry']\n",
    "print(len(fruits))"
   ]
  },
  {
   "cell_type": "code",
   "execution_count": 6,
   "id": "e618bfd2",
   "metadata": {},
   "outputs": [
    {
     "name": "stdout",
     "output_type": "stream",
     "text": [
      "Fruit 1: apple\n",
      "Fruit 2: banana\n",
      "Fruit 3: cherry\n"
     ]
    }
   ],
   "source": [
    "for i in range(len(fruits)):\n",
    "    print(f'Fruit {i+1}: {fruits[i]}')"
   ]
  },
  {
   "cell_type": "code",
   "execution_count": 7,
   "id": "83a76901",
   "metadata": {},
   "outputs": [
    {
     "name": "stdout",
     "output_type": "stream",
     "text": [
      "3\n"
     ]
    }
   ],
   "source": [
    "#Len With tuples\n",
    "\n",
    "dimensions = (20,40,60)\n",
    "print(len(dimensions))"
   ]
  },
  {
   "cell_type": "code",
   "execution_count": 10,
   "id": "92d2e8e3",
   "metadata": {},
   "outputs": [
    {
     "name": "stdout",
     "output_type": "stream",
     "text": [
      "3\n"
     ]
    }
   ],
   "source": [
    "#len with dictionaries\n",
    "student = {'name':'Meet',\n",
    "           'age':21,\n",
    "           'grade':'A'\n",
    "}\n",
    "\n",
    "print(len(student))"
   ]
  },
  {
   "cell_type": "code",
   "execution_count": 11,
   "id": "7363c214",
   "metadata": {},
   "outputs": [
    {
     "name": "stdout",
     "output_type": "stream",
     "text": [
      "5\n"
     ]
    }
   ],
   "source": [
    "#len with sets\n",
    "nums = {1,2,3,5,6}\n",
    "print(len(nums))"
   ]
  },
  {
   "cell_type": "code",
   "execution_count": 13,
   "id": "45fc92c6",
   "metadata": {},
   "outputs": [
    {
     "name": "stdout",
     "output_type": "stream",
     "text": [
      "3\n",
      "2\n"
     ]
    }
   ],
   "source": [
    "#len with nested lists\n",
    "\n",
    "matrix = [[1,2],[3,4],[5,6]]\n",
    "print(len(matrix))\n",
    "print(len(matrix[0]))"
   ]
  },
  {
   "cell_type": "code",
   "execution_count": 18,
   "id": "337a1768",
   "metadata": {},
   "outputs": [
    {
     "name": "stdout",
     "output_type": "stream",
     "text": [
      "13\n",
      "3\n"
     ]
    }
   ],
   "source": [
    "#Count numbers of words in a sentence\n",
    "sentence = 'Python is fun'\n",
    "print(len(sentence))\n",
    "words = sentence.split()\n",
    "print(len(words))"
   ]
  },
  {
   "cell_type": "code",
   "execution_count": 20,
   "id": "b06f9bc3",
   "metadata": {},
   "outputs": [
    {
     "name": "stdout",
     "output_type": "stream",
     "text": [
      "The List is Empty\n"
     ]
    }
   ],
   "source": [
    "#check if a list is empty\n",
    "\n",
    "my_list = []\n",
    "if len(my_list)==0:\n",
    "    print('The List is Empty')"
   ]
  },
  {
   "cell_type": "code",
   "execution_count": 21,
   "id": "b8d6e027",
   "metadata": {},
   "outputs": [
    {
     "name": "stdout",
     "output_type": "stream",
     "text": [
      "List A is Longer\n"
     ]
    }
   ],
   "source": [
    "#compare lengths of two lists\n",
    "a = [1,2,3]\n",
    "b = [4,5]\n",
    "\n",
    "if len(a) > len(b):\n",
    "    print('List A is Longer')"
   ]
  }
 ],
 "metadata": {
  "kernelspec": {
   "display_name": "Python 3",
   "language": "python",
   "name": "python3"
  },
  "language_info": {
   "codemirror_mode": {
    "name": "ipython",
    "version": 3
   },
   "file_extension": ".py",
   "mimetype": "text/x-python",
   "name": "python",
   "nbconvert_exporter": "python",
   "pygments_lexer": "ipython3",
   "version": "3.10.11"
  }
 },
 "nbformat": 4,
 "nbformat_minor": 5
}
