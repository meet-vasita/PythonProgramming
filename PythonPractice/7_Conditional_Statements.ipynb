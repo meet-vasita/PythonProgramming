{
 "cells": [
  {
   "cell_type": "markdown",
   "metadata": {},
   "source": [
    "# **Conditional Statements in Python**"
   ]
  },
  {
   "cell_type": "markdown",
   "metadata": {},
   "source": [
    "### **What Are Conditional Statements?**\n",
    "\n",
    "#### Conditional statements allow a program to make decisions based on certain conditions."
   ]
  },
  {
   "cell_type": "code",
   "execution_count": 2,
   "metadata": {},
   "outputs": [
    {
     "name": "stdout",
     "output_type": "stream",
     "text": [
      "The Number is Positive\n"
     ]
    }
   ],
   "source": [
    "#if Statement:\n",
    "    # code block (runs if condition is True)\n",
    "\n",
    "num = 10\n",
    "if(num > 0):\n",
    "    print(\"The Number is Positive\")"
   ]
  },
  {
   "cell_type": "code",
   "execution_count": 3,
   "metadata": {},
   "outputs": [
    {
     "name": "stdout",
     "output_type": "stream",
     "text": [
      "Even Number\n"
     ]
    }
   ],
   "source": [
    "#if-else Statement\n",
    "#Used when you have two possible outcomes: one for True and one for False.\n",
    "\n",
    "num = 6\n",
    "if num % 2 == 0: # if the num is divisible by 2 and returns the remainder 0 it's even number\n",
    "    print(\"Even Number\")\n",
    "else:\n",
    "    print(\"Odd Number\")\n"
   ]
  },
  {
   "cell_type": "code",
   "execution_count": 4,
   "metadata": {},
   "outputs": [
    {
     "name": "stdout",
     "output_type": "stream",
     "text": [
      "Your Entered Age is 45\n",
      "You are a Adult\n"
     ]
    }
   ],
   "source": [
    "# if-elif-else statement\n",
    "#Used when you have multiple conditions to check\n",
    "\n",
    "age = int(input(\"Enter Your Age : \"))\n",
    "print(f\"Your Entered Age is {age}\")\n",
    "\n",
    "if age <= 13:\n",
    "    print(\"You are a Child\")\n",
    "elif age <= 20:\n",
    "    print(\"You are a Teenager\")\n",
    "elif age <= 60:\n",
    "    print(\"You are a Adult\")\n",
    "else:\n",
    "    print(\"You are a Senior Citizen\")"
   ]
  },
  {
   "cell_type": "code",
   "execution_count": 5,
   "metadata": {},
   "outputs": [
    {
     "name": "stdout",
     "output_type": "stream",
     "text": [
      "Positive Number\n",
      "Even Number\n"
     ]
    }
   ],
   "source": [
    "#Nested If Statments\n",
    "\n",
    "num = int(input(\"Enter the number : \"))\n",
    "if num > 0:\n",
    "    print(\"Positive Number\")\n",
    "    if num % 2 == 0:\n",
    "        print(\"Even Number\")\n",
    "    else:\n",
    "        print(\"Odd Number\")"
   ]
  },
  {
   "cell_type": "code",
   "execution_count": 6,
   "metadata": {},
   "outputs": [
    {
     "name": "stdout",
     "output_type": "stream",
     "text": [
      "Positive\n"
     ]
    }
   ],
   "source": [
    "#Ternary operator (Used when you need a quick one-line condition)\n",
    "num = 5\n",
    "result = \"Positive\" if num > 0 else \"Negative\"\n",
    "print(result)"
   ]
  },
  {
   "cell_type": "code",
   "execution_count": 7,
   "metadata": {},
   "outputs": [
    {
     "name": "stdout",
     "output_type": "stream",
     "text": [
      "Child\n"
     ]
    }
   ],
   "source": [
    "age = 17\n",
    "agecal = \"Adult\" if age >= 18 else \"Child\"\n",
    "print(agecal)"
   ]
  },
  {
   "cell_type": "code",
   "execution_count": 8,
   "metadata": {},
   "outputs": [
    {
     "name": "stdout",
     "output_type": "stream",
     "text": [
      "Your Entered number is 21\n",
      "21 is Positive\n"
     ]
    }
   ],
   "source": [
    "#Challenge\n",
    "num = int(input(\"Enter the age : \"))\n",
    "print(f\"Your Entered number is {num}\")\n",
    "\n",
    "if num > 0:\n",
    "    print(f\"{num} is Positive\")\n",
    "elif num < 0:\n",
    "    print(f\"{num} is Negative\")\n",
    "elif num == 0:\n",
    "    print(\"The num is Zero\")\n",
    "else:\n",
    "    print(\"Enter the correct Number\")"
   ]
  },
  {
   "cell_type": "code",
   "execution_count": 9,
   "metadata": {},
   "outputs": [
    {
     "name": "stdout",
     "output_type": "stream",
     "text": [
      "Your Age is 21\n",
      "You Can Vote\n"
     ]
    }
   ],
   "source": [
    "#Voting Eligiblity Checker\n",
    "\n",
    "age = int(input(\"Enter the age : \"))\n",
    "print(f\"Your Age is {age}\")\n",
    "\n",
    "if age >= 18:\n",
    "    print(\"You Can Vote\")\n",
    "else:\n",
    "    print(\"You Cannot Vote\")"
   ]
  },
  {
   "cell_type": "code",
   "execution_count": 10,
   "metadata": {},
   "outputs": [
    {
     "name": "stdout",
     "output_type": "stream",
     "text": [
      "Your Entered Number is 30\n",
      "Even Number\n",
      "The Number 30 is Divisible By 5\n"
     ]
    }
   ],
   "source": [
    "#Odd, Even and Divisiblity Check\n",
    "\n",
    "num = int(input(\"Enter the number : \"))\n",
    "print(f\"Your Entered Number is {num}\")\n",
    "\n",
    "if num % 2 == 0:\n",
    "    print(\"Even Number\")\n",
    "    if num % 5 == 0:\n",
    "        print(f\"The Number {num} is Divisible By 5\")\n",
    "else:\n",
    "    print(\"Odd Number\")"
   ]
  },
  {
   "cell_type": "code",
   "execution_count": 11,
   "metadata": {},
   "outputs": [
    {
     "name": "stdout",
     "output_type": "stream",
     "text": [
      "Your Grade is D\n"
     ]
    }
   ],
   "source": [
    "#Grading System\n",
    "\n",
    "marks = int(input(\"Enter Your Marks : \"))\n",
    "\n",
    "if marks >= 90:\n",
    "    print(\"Your Grade is A\")\n",
    "elif marks >= 80 and marks <= 89:\n",
    "    print(\"Your Grade is B\")\n",
    "elif marks >= 70 and marks <= 79:\n",
    "    print(\"Your Grade is C\")\n",
    "elif marks >= 60 and marks <= 69:\n",
    "    print(\"Your Grade is D\")\n",
    "else:\n",
    "    print(\"Fail\")\n"
   ]
  },
  {
   "cell_type": "code",
   "execution_count": 16,
   "metadata": {},
   "outputs": [
    {
     "name": "stdout",
     "output_type": "stream",
     "text": [
      "a entered value 5\n",
      "b entered value 7\n",
      "c entered value 9\n",
      "The Largest Number is 9\n"
     ]
    }
   ],
   "source": [
    "#Finding the Largest of three numbers\n",
    "\n",
    "a = int(input(\"Enter first numnber : \"))\n",
    "b = int(input(\"Enter second numnber : \"))\n",
    "c = int(input(\"Enter third numnber : \"))\n",
    "\n",
    "print(f'a entered value {a}')\n",
    "print(f'b entered value {b}')\n",
    "print(f'c entered value {c}')\n",
    "\n",
    "if a > b and a > c:\n",
    "    print(f\"The Largest Number is {a}\")\n",
    "elif b > a and b > c:\n",
    "    print(f\"The Largest Number is {b}\")\n",
    "elif c > a and c > b:\n",
    "    print(f\"The Largest Number is {c}\")\n"
   ]
  },
  {
   "cell_type": "code",
   "execution_count": 13,
   "metadata": {},
   "outputs": [
    {
     "name": "stdout",
     "output_type": "stream",
     "text": [
      "Withdrawal Successful! New Balance : 4500\n"
     ]
    }
   ],
   "source": [
    "#ATM Cash Withdrawl Logic\n",
    "balance = 5000\n",
    "withdraw = int(input(\"Enter the Amount You have to withdraw : \"))\n",
    "\n",
    "if withdraw <= balance: #if withdraw is less than or equals to balance\n",
    "    balance -= withdraw # balance = balance - withdraw\n",
    "    print(f\"Withdrawal Successful! New Balance : {balance}\")\n",
    "else:\n",
    "    print(\"Insufficient Balance\")"
   ]
  },
  {
   "cell_type": "code",
   "execution_count": 14,
   "metadata": {},
   "outputs": [
    {
     "name": "stdout",
     "output_type": "stream",
     "text": [
      "2024 is a Leap Year\n"
     ]
    }
   ],
   "source": [
    "#Leap year Checker\n",
    "\n",
    "# A year is a leap year if: Divisible by 400 or divisible by 4 but not 100\n",
    "\n",
    "year = int(input(\"Enter the year : \"))\n",
    "\n",
    "if year % 400 == 0 or (year % 4 == 0 and year % 100 != 0):\n",
    "    print(f\"{year} is a Leap Year\")\n",
    "else:\n",
    "    print(f\"{year} is not a Leap Year\")"
   ]
  },
  {
   "cell_type": "code",
   "execution_count": 15,
   "metadata": {},
   "outputs": [
    {
     "name": "stdout",
     "output_type": "stream",
     "text": [
      "It's Hot\n"
     ]
    }
   ],
   "source": [
    "#Temperature Checker:\n",
    "\n",
    "temp = int(input(\"Enter The Temperature : \"))\n",
    "\n",
    "if temp >= 30:\n",
    "    print(\"It's Hot\")\n",
    "elif temp <= 15:\n",
    "    print(\"It's Cold\")\n",
    "else:\n",
    "    print(\"Weather is Normal\")"
   ]
  }
 ],
 "metadata": {
  "kernelspec": {
   "display_name": "Python 3",
   "language": "python",
   "name": "python3"
  },
  "language_info": {
   "codemirror_mode": {
    "name": "ipython",
    "version": 3
   },
   "file_extension": ".py",
   "mimetype": "text/x-python",
   "name": "python",
   "nbconvert_exporter": "python",
   "pygments_lexer": "ipython3",
   "version": "3.10.11"
  }
 },
 "nbformat": 4,
 "nbformat_minor": 2
}
