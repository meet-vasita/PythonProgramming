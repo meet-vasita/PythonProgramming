{
 "cells": [
  {
   "cell_type": "markdown",
   "id": "7c99554e",
   "metadata": {},
   "source": [
    "# **Comparison Operators in Python**"
   ]
  },
  {
   "cell_type": "markdown",
   "id": "a5fb5011",
   "metadata": {},
   "source": [
    "### Comparison operators are used to compare two values. They return Boolean values: True or False."
   ]
  },
  {
   "cell_type": "markdown",
   "id": "2cb59a98",
   "metadata": {},
   "source": [
    "| Operator | Meaning               | Example  | Result |\n",
    "| -------- | --------------------- | -------- | ------ |\n",
    "| `==`     | Equal to              | `5 == 5` | `True` |\n",
    "| `!=`     | Not equal to          | `5 != 3` | `True` |\n",
    "| `>`      | Greater than          | `5 > 3`  | `True` |\n",
    "| `<`      | Less than             | `2 < 4`  | `True` |\n",
    "| `>=`     | Greater than or equal | `5 >= 5` | `True` |\n",
    "| `<=`     | Less than or equal    | `3 <= 5` | `True` |\n"
   ]
  },
  {
   "cell_type": "code",
   "execution_count": null,
   "id": "f93b39ef",
   "metadata": {},
   "outputs": [
    {
     "name": "stdout",
     "output_type": "stream",
     "text": [
      "False\n",
      "True\n",
      "False\n",
      "True\n",
      "True\n",
      "True\n"
     ]
    }
   ],
   "source": [
    "a = 10\n",
    "b = 20\n",
    "\n",
    "print(a==b)\n",
    "print(a!=b)\n",
    "print(a>b)\n",
    "print(a<b)\n",
    "print(a>=10)\n",
    "print(a<=15)"
   ]
  },
  {
   "cell_type": "markdown",
   "id": "7711753f",
   "metadata": {},
   "source": [
    "# **Logical Operators in Python**"
   ]
  },
  {
   "cell_type": "markdown",
   "id": "c8ec27c9",
   "metadata": {},
   "source": [
    "### Logical operators are used to combine multiple conditions."
   ]
  },
  {
   "cell_type": "markdown",
   "id": "86f12693",
   "metadata": {},
   "source": [
    "| Operator | Description                          | Example            | Result  |\n",
    "| -------- | ------------------------------------ | ------------------ | ------- |\n",
    "| `and`    | True if **both** conditions are True | `5 > 2 and 5 < 10` | `True`  |\n",
    "| `or`     | True if **at least one** is True     | `5 < 2 or 5 < 10`  | `True`  |\n",
    "| `not`    | Inverts the result                   | `not (5 > 2)`      | `False` |\n"
   ]
  },
  {
   "cell_type": "code",
   "execution_count": 4,
   "id": "b77baa2b",
   "metadata": {},
   "outputs": [
    {
     "name": "stdout",
     "output_type": "stream",
     "text": [
      "True\n",
      "True\n",
      "False\n"
     ]
    }
   ],
   "source": [
    "x = 7\n",
    "\n",
    "#AND operator \n",
    "print(x>5 and x<10)\n",
    "\n",
    "#OR operator\n",
    "print(x < 5 or x == 7)\n",
    "\n",
    "#NOT operator\n",
    "print(not(x==7))"
   ]
  },
  {
   "cell_type": "markdown",
   "id": "10792fc2",
   "metadata": {},
   "source": [
    "## **Using Both Together in Conditions**\n",
    "\n",
    "### You often combine comparison and logical operators in real programs:"
   ]
  },
  {
   "cell_type": "code",
   "execution_count": 5,
   "id": "53e97068",
   "metadata": {},
   "outputs": [
    {
     "name": "stdout",
     "output_type": "stream",
     "text": [
      "You Can Drive\n"
     ]
    }
   ],
   "source": [
    "age = 25\n",
    "has_licence = True\n",
    "\n",
    "if age >= 18 and has_licence:\n",
    "    print('You Can Drive')\n",
    "else:\n",
    "    print('You Cannot Drive')"
   ]
  },
  {
   "cell_type": "markdown",
   "id": "b5e8f989",
   "metadata": {},
   "source": [
    "### Common Mistakes to Avoid\n",
    "\n",
    "| Mistake                         | Why it's wrong                                                             | Correct Way                                            |\n",
    "| ------------------------------- | -------------------------------------------------------------------------- | ------------------------------------------------------ |\n",
    "| `if x = 5:`                     | `=` is assignment, not comparison                                          | `if x == 5:`                                           |\n",
    "| `if 5 > x > 10:`                | Chained comparison not valid for this logic                                | `if 5 > x and x > 10:`                                 |\n",
    "| `if x and y:`                   | Assumes `x` and `y` are Boolean — could fail if they’re numbers or strings | Use `if x == True and y == True:` or proper conditions |\n",
    "| Forgetting parentheses in `not` | Can cause incorrect results                                                | Use: `not (x > 5 and y < 10)`                          |\n"
   ]
  },
  {
   "cell_type": "markdown",
   "id": "3f4ca6ba",
   "metadata": {},
   "source": [
    "### **Practice Example**"
   ]
  },
  {
   "cell_type": "code",
   "execution_count": 6,
   "id": "d803505f",
   "metadata": {},
   "outputs": [
    {
     "name": "stdout",
     "output_type": "stream",
     "text": [
      "True\n",
      "True\n"
     ]
    }
   ],
   "source": [
    "x = 15\n",
    "print(x >= 10 and x <= 20) #If Both Conditions are true returns True\n",
    "\n",
    "a,b = 7,4\n",
    "\n",
    "print(a % 2 == 0 or b % 2 == 0)"
   ]
  },
  {
   "cell_type": "code",
   "execution_count": null,
   "id": "8c034656",
   "metadata": {},
   "outputs": [
    {
     "name": "stdout",
     "output_type": "stream",
     "text": [
      "False\n"
     ]
    }
   ],
   "source": [
    "#Verify if a person can vote (age >= 18) and has voter ID\n",
    "# In this case user age is 19 but dont have the voter id so he/she cant vote\n",
    "age = 19\n",
    "has_voter_id = False\n",
    "print(age >= 18 and has_voter_id)"
   ]
  },
  {
   "cell_type": "code",
   "execution_count": null,
   "id": "b9163723",
   "metadata": {},
   "outputs": [
    {
     "name": "stdout",
     "output_type": "stream",
     "text": [
      "True\n"
     ]
    }
   ],
   "source": [
    "#Check if a number is outside the range of 50 to 100\n",
    "\n",
    "number = 120\n",
    "print(number < 50 or number > 100) #The number 120 > 100"
   ]
  },
  {
   "cell_type": "code",
   "execution_count": 14,
   "id": "93a81d17",
   "metadata": {},
   "outputs": [
    {
     "name": "stdout",
     "output_type": "stream",
     "text": [
      "True\n"
     ]
    }
   ],
   "source": [
    "#Check if a use is not an admin\n",
    "\n",
    "is_admin = False\n",
    "print(not(is_admin))"
   ]
  }
 ],
 "metadata": {
  "kernelspec": {
   "display_name": "Python 3",
   "language": "python",
   "name": "python3"
  },
  "language_info": {
   "codemirror_mode": {
    "name": "ipython",
    "version": 3
   },
   "file_extension": ".py",
   "mimetype": "text/x-python",
   "name": "python",
   "nbconvert_exporter": "python",
   "pygments_lexer": "ipython3",
   "version": "3.10.11"
  }
 },
 "nbformat": 4,
 "nbformat_minor": 5
}
