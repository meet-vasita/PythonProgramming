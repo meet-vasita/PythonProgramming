{
 "cells": [
  {
   "cell_type": "markdown",
   "id": "0b8126ed",
   "metadata": {},
   "source": [
    "# **Functions in python**"
   ]
  },
  {
   "cell_type": "markdown",
   "id": "f31dfa3a",
   "metadata": {},
   "source": [
    "#### **What is a function in python?**\n",
    "\n",
    "##### Ans. A function is a reusable block of code that performs a specific task.\n",
    "\n",
    "##### We use functions to:\n",
    "##### Avoid repeating code (DRY principle).\n",
    "##### Break problems into smaller, manageable parts.\n",
    "##### Make code easier to read, debug, and maintain."
   ]
  },
  {
   "cell_type": "code",
   "execution_count": 1,
   "id": "6ef2c161",
   "metadata": {},
   "outputs": [
    {
     "name": "stdout",
     "output_type": "stream",
     "text": [
      "Hello, This is the demo of function in python\n"
     ]
    }
   ],
   "source": [
    "#Basic function syntax\n",
    "\n",
    "def greet():\n",
    "    print(\"Hello, This is the demo of function in python\")\n",
    "\n",
    "greet()"
   ]
  },
  {
   "cell_type": "code",
   "execution_count": 2,
   "id": "2cc146b6",
   "metadata": {},
   "outputs": [
    {
     "name": "stdout",
     "output_type": "stream",
     "text": [
      "Hello, Meet!\n"
     ]
    }
   ],
   "source": [
    "#Functions with parameters\n",
    "def greet_user(name):\n",
    "    print(f\"Hello, {name}!\")\n",
    "\n",
    "greet_user(\"Meet\")"
   ]
  },
  {
   "cell_type": "code",
   "execution_count": 3,
   "id": "7a81f03c",
   "metadata": {},
   "outputs": [
    {
     "name": "stdout",
     "output_type": "stream",
     "text": [
      "7\n",
      "The Sum : 7\n",
      "The Sum of 4 + 5 = 9\n"
     ]
    }
   ],
   "source": [
    "#Function with return value \n",
    "\n",
    "def add(a,b):\n",
    "    return a + b\n",
    "\n",
    "print(add(2,5))\n",
    "\n",
    "#another method with custom print statement\n",
    "\n",
    "result = add(2,5)\n",
    "print(f\"The Sum : {result}\")\n",
    "\n",
    "#Taking input from user\n",
    "c = int(input(\"Enter the number : \"))\n",
    "d = int(input(\"Enter the number : \"))\n",
    "\n",
    "mysum = add(c,d)\n",
    "print(f\"The Sum of {c} + {d} = {mysum}\")"
   ]
  },
  {
   "cell_type": "code",
   "execution_count": 4,
   "id": "a04b0b71",
   "metadata": {},
   "outputs": [
    {
     "name": "stdout",
     "output_type": "stream",
     "text": [
      "Hello, Guest!\n",
      "Hello, Meet!\n"
     ]
    }
   ],
   "source": [
    "#Default Parameter\n",
    "\n",
    "def greet(name=\"Guest\"):\n",
    "    print(f\"Hello, {name}!\")\n",
    "\n",
    "greet()\n",
    "greet(\"Meet\")"
   ]
  },
  {
   "cell_type": "code",
   "execution_count": 5,
   "id": "9690ddee",
   "metadata": {},
   "outputs": [
    {
     "name": "stdout",
     "output_type": "stream",
     "text": [
      "Name : Meet, Age : 21\n",
      "Name : Meet, Age : 21\n"
     ]
    }
   ],
   "source": [
    "#Keyword Arguements \n",
    "\n",
    "def profile(name, age):\n",
    "    print(f\"Name : {name}, Age : {age}\")\n",
    "\n",
    "profile(\"Meet\",21)\n",
    "profile(age=21,name=\"Meet\")"
   ]
  },
  {
   "cell_type": "code",
   "execution_count": 6,
   "id": "7c5459db",
   "metadata": {},
   "outputs": [
    {
     "name": "stdout",
     "output_type": "stream",
     "text": [
      "10\n"
     ]
    }
   ],
   "source": [
    "def total(*numbers):\n",
    "    return sum(numbers)\n",
    "\n",
    "print(total(1,2,3,4))  #O/P = 10"
   ]
  },
  {
   "cell_type": "code",
   "execution_count": 7,
   "id": "5cc1c0c9",
   "metadata": {},
   "outputs": [
    {
     "name": "stdout",
     "output_type": "stream",
     "text": [
      "name: meet\n",
      "age: 21\n",
      "dept: IT\n",
      "city: Ulhasnagar\n"
     ]
    }
   ],
   "source": [
    "def print_info(**info):\n",
    "    for key,value in info.items():\n",
    "        print(f\"{key}: {value}\")\n",
    "        \n",
    "print_info(name=\"meet\",age=21,dept=\"IT\",city =\"Ulhasnagar\")"
   ]
  },
  {
   "cell_type": "code",
   "execution_count": 8,
   "id": "851e2c73",
   "metadata": {},
   "outputs": [
    {
     "name": "stdout",
     "output_type": "stream",
     "text": [
      "(9, -1, 20, 0.8, 0, 1024)\n"
     ]
    }
   ],
   "source": [
    "#Functions Returning Multiple value\n",
    "\n",
    "def calc(a,b):\n",
    "    return a+b,a-b,a*b,a/b,a//b,a**b\n",
    "\n",
    "c = int(input(\"Enter the a value : \"))\n",
    "d = int(input(\"Enter the b value : \"))\n",
    "\n",
    "result = calc(c,d)\n",
    "print(result)"
   ]
  },
  {
   "cell_type": "code",
   "execution_count": 9,
   "id": "1f355093",
   "metadata": {},
   "outputs": [
    {
     "name": "stdout",
     "output_type": "stream",
     "text": [
      "25\n"
     ]
    }
   ],
   "source": [
    "#Lambda Functions (anonymous Functions)\n",
    "\n",
    "square = lambda x:x * x\n",
    "print(square(5))"
   ]
  },
  {
   "cell_type": "code",
   "execution_count": 10,
   "id": "2cd9cc43",
   "metadata": {},
   "outputs": [
    {
     "name": "stdout",
     "output_type": "stream",
     "text": [
      "Inside : 5\n",
      "Outside : 10\n"
     ]
    }
   ],
   "source": [
    "#Scope Local vs global variables\n",
    "\n",
    "x=10\n",
    "\n",
    "def show():\n",
    "    x = 5\n",
    "    print(\"Inside :\",x)\n",
    "\n",
    "show()\n",
    "\n",
    "print(\"Outside :\",x)"
   ]
  },
  {
   "cell_type": "code",
   "execution_count": 11,
   "id": "0aa05fec",
   "metadata": {},
   "outputs": [
    {
     "name": "stdout",
     "output_type": "stream",
     "text": [
      "120\n"
     ]
    }
   ],
   "source": [
    "# Recursion \n",
    "\n",
    "def factorial(n):\n",
    "    if n == 1:\n",
    "        return 1\n",
    "    return n * factorial(n-1)\n",
    "\n",
    "print(factorial(5))"
   ]
  },
  {
   "cell_type": "code",
   "execution_count": 12,
   "id": "26ef5c63",
   "metadata": {},
   "outputs": [
    {
     "data": {
      "text/plain": [
       "400"
      ]
     },
     "execution_count": 12,
     "metadata": {},
     "output_type": "execute_result"
    }
   ],
   "source": [
    "def sum():\n",
    "    num = 100\n",
    "    num2 = 300\n",
    "    num3 = num + num2\n",
    "    return num3\n",
    "\n",
    "\n",
    "sum()"
   ]
  },
  {
   "cell_type": "code",
   "execution_count": 13,
   "id": "7c8c97f7",
   "metadata": {},
   "outputs": [
    {
     "name": "stdout",
     "output_type": "stream",
     "text": [
      "300\n",
      "-100\n"
     ]
    }
   ],
   "source": [
    "def calculator():\n",
    "    num1 = 100\n",
    "    num2 = 200\n",
    "    return num1+num2,num1-num2\n",
    "\n",
    "addition,substraction = calculator()\n",
    "\n",
    "print(addition)\n",
    "print(substraction)"
   ]
  },
  {
   "cell_type": "code",
   "execution_count": 14,
   "id": "c8dbdf2e",
   "metadata": {},
   "outputs": [
    {
     "name": "stdout",
     "output_type": "stream",
     "text": [
      "(9, -1, 20, 0.8)\n"
     ]
    }
   ],
   "source": [
    "def calc(num1,num2):\n",
    "    \n",
    "    return num1+num2,num1-num2,num1*num2,num1 / num2\n",
    "\n",
    "\n",
    "a = int(input(\"Enter the input : \"))\n",
    "b = int(input(\"Enter the input : \"))\n",
    "\n",
    "c = calc(a,b)\n",
    "\n",
    "print(c)\n",
    "\n",
    "\n"
   ]
  },
  {
   "cell_type": "code",
   "execution_count": 15,
   "id": "e2d3bbba",
   "metadata": {},
   "outputs": [
    {
     "name": "stdout",
     "output_type": "stream",
     "text": [
      "0\n",
      "1\n",
      "1\n",
      "2\n",
      "3\n",
      "5\n",
      "8\n",
      "13\n",
      "21\n",
      "34\n",
      "55\n"
     ]
    }
   ],
   "source": [
    "def fib(n):\n",
    "    if n <= 1:\n",
    "        return n\n",
    "    return fib(n-1) + fib(n-2)\n",
    "\n",
    "for i in range(0,11):\n",
    "    print(fib(i))"
   ]
  },
  {
   "cell_type": "code",
   "execution_count": 21,
   "id": "5a3dcb09",
   "metadata": {},
   "outputs": [
    {
     "name": "stdout",
     "output_type": "stream",
     "text": [
      "0 = 1\n",
      "1 = 1\n",
      "2 = 2\n",
      "3 = 6\n",
      "4 = 24\n",
      "5 = 120\n"
     ]
    }
   ],
   "source": [
    "def fact(n):\n",
    "    if n == 0 or n == 1:\n",
    "        return 1\n",
    "    return n * fact(n - 1)\n",
    "\n",
    "for i in range(0, 6):\n",
    "    print(f\"{i} = {fact(i)}\")\n"
   ]
  },
  {
   "cell_type": "code",
   "execution_count": 17,
   "id": "98b007cf",
   "metadata": {},
   "outputs": [
    {
     "name": "stdout",
     "output_type": "stream",
     "text": [
      "0\n",
      "0\n",
      "1\n",
      "2\n",
      "3\n",
      "4\n",
      "1\n",
      "0\n",
      "1\n",
      "2\n",
      "3\n",
      "4\n",
      "2\n",
      "0\n",
      "1\n",
      "2\n",
      "3\n",
      "4\n",
      "3\n",
      "0\n",
      "1\n",
      "2\n",
      "3\n",
      "4\n",
      "4\n",
      "0\n",
      "1\n",
      "2\n",
      "3\n",
      "4\n",
      "5\n",
      "0\n",
      "1\n",
      "2\n",
      "3\n",
      "4\n",
      "6\n",
      "0\n",
      "1\n",
      "2\n",
      "3\n",
      "4\n",
      "7\n",
      "0\n",
      "1\n",
      "2\n",
      "3\n",
      "4\n",
      "8\n",
      "0\n",
      "1\n",
      "2\n",
      "3\n",
      "4\n"
     ]
    }
   ],
   "source": [
    "def outerloop():\n",
    "    for i in range(9):\n",
    "        print(i)\n",
    "        def innerloop():\n",
    "            for i in range(5):\n",
    "             print(i)\n",
    "        innerloop()\n",
    "\n",
    "outerloop()"
   ]
  },
  {
   "cell_type": "code",
   "execution_count": 19,
   "id": "cce28fd9",
   "metadata": {},
   "outputs": [
    {
     "name": "stdout",
     "output_type": "stream",
     "text": [
      "Python is fantastic\n"
     ]
    }
   ],
   "source": [
    "x = 'awesome'\n",
    "\n",
    "def my_fun():\n",
    "    global x\n",
    "    x = 'fantastic'\n",
    "\n",
    "my_fun()\n",
    "print('Python is '+x)\n"
   ]
  },
  {
   "cell_type": "code",
   "execution_count": 22,
   "id": "56c683c7",
   "metadata": {},
   "outputs": [
    {
     "name": "stdout",
     "output_type": "stream",
     "text": [
      "Meet is 21 years old.\n"
     ]
    }
   ],
   "source": [
    "# Key Word Arguments\n",
    "def display_info(name,age):\n",
    "    print(f'{name} is {age} years old.')\n",
    "\n",
    "\n",
    "display_info(age=21,name='Meet')"
   ]
  },
  {
   "cell_type": "code",
   "execution_count": 25,
   "id": "a58f2a0e",
   "metadata": {},
   "outputs": [
    {
     "name": "stdout",
     "output_type": "stream",
     "text": [
      "10\n"
     ]
    }
   ],
   "source": [
    "def sum_all(*numbers):\n",
    "    total = 0\n",
    "    for num in numbers:\n",
    "        total += num\n",
    "    return total\n",
    "\n",
    "print(sum_all(1, 2, 3, 4))  # Output: 10"
   ]
  },
  {
   "cell_type": "code",
   "execution_count": 31,
   "id": "6ed7b2e2",
   "metadata": {},
   "outputs": [
    {
     "name": "stdout",
     "output_type": "stream",
     "text": [
      "name: Alice\n",
      "age: 30\n",
      "city: Mumbai\n"
     ]
    }
   ],
   "source": [
    "def info(**details):\n",
    "    for key, value in details.items():\n",
    "        print(f\"{key}: {value}\")\n",
    "\n",
    "info(name=\"Alice\", age=30, city=\"Mumbai\")\n"
   ]
  },
  {
   "cell_type": "code",
   "execution_count": 32,
   "id": "e40c1799",
   "metadata": {},
   "outputs": [
    {
     "name": "stdout",
     "output_type": "stream",
     "text": [
      "15 5 50\n"
     ]
    }
   ],
   "source": [
    "#Returning Multiple Values:\n",
    "def calculate(x,y):\n",
    "    return x + y, x - y, x * y\n",
    "\n",
    "a,b,c = calculate(10,5)\n",
    "print(a,b,c)"
   ]
  },
  {
   "cell_type": "code",
   "execution_count": 35,
   "id": "44d848f7",
   "metadata": {},
   "outputs": [
    {
     "name": "stdout",
     "output_type": "stream",
     "text": [
      "This is Inner\n"
     ]
    }
   ],
   "source": [
    "#Nested Function:\n",
    "\n",
    "def outer():\n",
    "    def inner():\n",
    "        print('This is Inner')\n",
    "    inner()\n",
    "\n",
    "outer()"
   ]
  },
  {
   "cell_type": "code",
   "execution_count": 36,
   "id": "f3fea63c",
   "metadata": {},
   "outputs": [
    {
     "name": "stdout",
     "output_type": "stream",
     "text": [
      "25\n"
     ]
    }
   ],
   "source": [
    "#Lambda Function(Anonymous Functions)\n",
    "\n",
    "square = lambda x: x * x\n",
    "print(square(5))"
   ]
  },
  {
   "cell_type": "code",
   "execution_count": 38,
   "id": "3b1697b3",
   "metadata": {},
   "outputs": [
    {
     "name": "stdout",
     "output_type": "stream",
     "text": [
      "5\n",
      "10\n"
     ]
    }
   ],
   "source": [
    "x = 10  # Global\n",
    "\n",
    "def func():\n",
    "    x = 5  # Local\n",
    "    print(x)\n",
    "\n",
    "func()     # 5\n",
    "print(x)   # 10"
   ]
  },
  {
   "cell_type": "code",
   "execution_count": 39,
   "id": "5a08bb4b",
   "metadata": {},
   "outputs": [
    {
     "name": "stdout",
     "output_type": "stream",
     "text": [
      "20\n"
     ]
    }
   ],
   "source": [
    "x = 10\n",
    "def change():\n",
    "    global x\n",
    "    x = 20\n",
    "\n",
    "change()\n",
    "print(x)  # 20"
   ]
  },
  {
   "cell_type": "code",
   "execution_count": 40,
   "id": "e895fe6f",
   "metadata": {},
   "outputs": [
    {
     "name": "stdout",
     "output_type": "stream",
     "text": [
      "This function adds two numbers\n"
     ]
    }
   ],
   "source": [
    "def add(a, b):\n",
    "    \"\"\"This function adds two numbers\"\"\"\n",
    "    return a + b\n",
    "\n",
    "print(add.__doc__)"
   ]
  },
  {
   "cell_type": "code",
   "execution_count": 41,
   "id": "3427bd9a",
   "metadata": {},
   "outputs": [
    {
     "name": "stdout",
     "output_type": "stream",
     "text": [
      "120\n"
     ]
    }
   ],
   "source": [
    "def factorial(n):\n",
    "    if n == 1:\n",
    "        return 1\n",
    "    return n * factorial(n-1)\n",
    "\n",
    "print(factorial(5))"
   ]
  }
 ],
 "metadata": {
  "kernelspec": {
   "display_name": "Python 3",
   "language": "python",
   "name": "python3"
  },
  "language_info": {
   "codemirror_mode": {
    "name": "ipython",
    "version": 3
   },
   "file_extension": ".py",
   "mimetype": "text/x-python",
   "name": "python",
   "nbconvert_exporter": "python",
   "pygments_lexer": "ipython3",
   "version": "3.10.11"
  }
 },
 "nbformat": 4,
 "nbformat_minor": 5
}
