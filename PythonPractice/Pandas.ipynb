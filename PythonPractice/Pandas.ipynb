{
 "cells": [
  {
   "cell_type": "markdown",
   "id": "b4a77254",
   "metadata": {},
   "source": [
    "### **Pandas Library**"
   ]
  },
  {
   "cell_type": "code",
   "execution_count": 164,
   "id": "44b8abce",
   "metadata": {},
   "outputs": [],
   "source": [
    "import pandas as pd"
   ]
  },
  {
   "cell_type": "code",
   "execution_count": 165,
   "id": "bb23b40d",
   "metadata": {},
   "outputs": [
    {
     "name": "stdout",
     "output_type": "stream",
     "text": [
      "a    1\n",
      "b    2\n",
      "c    3\n",
      "d    4\n",
      "dtype: int64\n"
     ]
    }
   ],
   "source": [
    "#Series(1D)\n",
    "s = pd.Series([1,2,3,4], index=['a','b','c','d'])\n",
    "print(s)"
   ]
  },
  {
   "cell_type": "code",
   "execution_count": 166,
   "id": "cecf16e1",
   "metadata": {},
   "outputs": [
    {
     "name": "stdout",
     "output_type": "stream",
     "text": [
      "   StudentID     Name Department  Maths  Science  English  Attendance (%)  \\\n",
      "0        101    Alice         IT     85       89       78              92   \n",
      "1        102      Bob         CS     78       76       88              88   \n",
      "2        103  Charlie         IT     90       93       85              96   \n",
      "3        104    David       EXTC     88       84       75              85   \n",
      "4        105      Eva         CS     76       80       82              90   \n",
      "\n",
      "   Passed  \n",
      "0    True  \n",
      "1    True  \n",
      "2    True  \n",
      "3    True  \n",
      "4    True  \n"
     ]
    }
   ],
   "source": [
    "import pandas as pd\n",
    "\n",
    "data = {\n",
    "    'StudentID': [101, 102, 103, 104, 105],\n",
    "    'Name': ['Alice', 'Bob', 'Charlie', 'David', 'Eva'],\n",
    "    'Department': ['IT', 'CS', 'IT', 'EXTC', 'CS'],\n",
    "    'Maths': [85, 78, 90, 88, 76],\n",
    "    'Science': [89, 76, 93, 84, 80],\n",
    "    'English': [78, 88, 85, 75, 82],\n",
    "    'Attendance (%)': [92, 88, 96, 85, 90],\n",
    "    'Passed': [True, True, True, True, True]\n",
    "}\n",
    "\n",
    "df = pd.DataFrame(data)\n",
    "print(df)\n"
   ]
  },
  {
   "cell_type": "code",
   "execution_count": 167,
   "id": "8fcfdb56",
   "metadata": {},
   "outputs": [
    {
     "data": {
      "text/html": [
       "<div>\n",
       "<style scoped>\n",
       "    .dataframe tbody tr th:only-of-type {\n",
       "        vertical-align: middle;\n",
       "    }\n",
       "\n",
       "    .dataframe tbody tr th {\n",
       "        vertical-align: top;\n",
       "    }\n",
       "\n",
       "    .dataframe thead th {\n",
       "        text-align: right;\n",
       "    }\n",
       "</style>\n",
       "<table border=\"1\" class=\"dataframe\">\n",
       "  <thead>\n",
       "    <tr style=\"text-align: right;\">\n",
       "      <th></th>\n",
       "      <th>StudentID</th>\n",
       "      <th>Name</th>\n",
       "      <th>Department</th>\n",
       "      <th>Maths</th>\n",
       "      <th>Science</th>\n",
       "      <th>English</th>\n",
       "      <th>Attendance (%)</th>\n",
       "      <th>Passed</th>\n",
       "    </tr>\n",
       "  </thead>\n",
       "  <tbody>\n",
       "    <tr>\n",
       "      <th>0</th>\n",
       "      <td>101</td>\n",
       "      <td>Alice</td>\n",
       "      <td>IT</td>\n",
       "      <td>85</td>\n",
       "      <td>89</td>\n",
       "      <td>78</td>\n",
       "      <td>92</td>\n",
       "      <td>True</td>\n",
       "    </tr>\n",
       "    <tr>\n",
       "      <th>1</th>\n",
       "      <td>102</td>\n",
       "      <td>Bob</td>\n",
       "      <td>CS</td>\n",
       "      <td>78</td>\n",
       "      <td>76</td>\n",
       "      <td>88</td>\n",
       "      <td>88</td>\n",
       "      <td>True</td>\n",
       "    </tr>\n",
       "    <tr>\n",
       "      <th>2</th>\n",
       "      <td>103</td>\n",
       "      <td>Charlie</td>\n",
       "      <td>IT</td>\n",
       "      <td>90</td>\n",
       "      <td>93</td>\n",
       "      <td>85</td>\n",
       "      <td>96</td>\n",
       "      <td>True</td>\n",
       "    </tr>\n",
       "    <tr>\n",
       "      <th>3</th>\n",
       "      <td>104</td>\n",
       "      <td>David</td>\n",
       "      <td>EXTC</td>\n",
       "      <td>88</td>\n",
       "      <td>84</td>\n",
       "      <td>75</td>\n",
       "      <td>85</td>\n",
       "      <td>True</td>\n",
       "    </tr>\n",
       "    <tr>\n",
       "      <th>4</th>\n",
       "      <td>105</td>\n",
       "      <td>Eva</td>\n",
       "      <td>CS</td>\n",
       "      <td>76</td>\n",
       "      <td>80</td>\n",
       "      <td>82</td>\n",
       "      <td>90</td>\n",
       "      <td>True</td>\n",
       "    </tr>\n",
       "  </tbody>\n",
       "</table>\n",
       "</div>"
      ],
      "text/plain": [
       "   StudentID     Name Department  Maths  Science  English  Attendance (%)  \\\n",
       "0        101    Alice         IT     85       89       78              92   \n",
       "1        102      Bob         CS     78       76       88              88   \n",
       "2        103  Charlie         IT     90       93       85              96   \n",
       "3        104    David       EXTC     88       84       75              85   \n",
       "4        105      Eva         CS     76       80       82              90   \n",
       "\n",
       "   Passed  \n",
       "0    True  \n",
       "1    True  \n",
       "2    True  \n",
       "3    True  \n",
       "4    True  "
      ]
     },
     "execution_count": 167,
     "metadata": {},
     "output_type": "execute_result"
    }
   ],
   "source": [
    "df.tail()"
   ]
  },
  {
   "cell_type": "code",
   "execution_count": 168,
   "id": "4ad63866",
   "metadata": {},
   "outputs": [
    {
     "name": "stdout",
     "output_type": "stream",
     "text": [
      "<class 'pandas.core.frame.DataFrame'>\n",
      "RangeIndex: 5 entries, 0 to 4\n",
      "Data columns (total 8 columns):\n",
      " #   Column          Non-Null Count  Dtype \n",
      "---  ------          --------------  ----- \n",
      " 0   StudentID       5 non-null      int64 \n",
      " 1   Name            5 non-null      object\n",
      " 2   Department      5 non-null      object\n",
      " 3   Maths           5 non-null      int64 \n",
      " 4   Science         5 non-null      int64 \n",
      " 5   English         5 non-null      int64 \n",
      " 6   Attendance (%)  5 non-null      int64 \n",
      " 7   Passed          5 non-null      bool  \n",
      "dtypes: bool(1), int64(5), object(2)\n",
      "memory usage: 413.0+ bytes\n"
     ]
    }
   ],
   "source": [
    "#Chaekcing the information of the dataset\n",
    "df.info()"
   ]
  },
  {
   "cell_type": "code",
   "execution_count": 169,
   "id": "0264a65b",
   "metadata": {},
   "outputs": [
    {
     "data": {
      "text/html": [
       "<div>\n",
       "<style scoped>\n",
       "    .dataframe tbody tr th:only-of-type {\n",
       "        vertical-align: middle;\n",
       "    }\n",
       "\n",
       "    .dataframe tbody tr th {\n",
       "        vertical-align: top;\n",
       "    }\n",
       "\n",
       "    .dataframe thead th {\n",
       "        text-align: right;\n",
       "    }\n",
       "</style>\n",
       "<table border=\"1\" class=\"dataframe\">\n",
       "  <thead>\n",
       "    <tr style=\"text-align: right;\">\n",
       "      <th></th>\n",
       "      <th>StudentID</th>\n",
       "      <th>Maths</th>\n",
       "      <th>Science</th>\n",
       "      <th>English</th>\n",
       "      <th>Attendance (%)</th>\n",
       "    </tr>\n",
       "  </thead>\n",
       "  <tbody>\n",
       "    <tr>\n",
       "      <th>count</th>\n",
       "      <td>5.000000</td>\n",
       "      <td>5.00000</td>\n",
       "      <td>5.00000</td>\n",
       "      <td>5.00000</td>\n",
       "      <td>5.000000</td>\n",
       "    </tr>\n",
       "    <tr>\n",
       "      <th>mean</th>\n",
       "      <td>103.000000</td>\n",
       "      <td>83.40000</td>\n",
       "      <td>84.40000</td>\n",
       "      <td>81.60000</td>\n",
       "      <td>90.200000</td>\n",
       "    </tr>\n",
       "    <tr>\n",
       "      <th>std</th>\n",
       "      <td>1.581139</td>\n",
       "      <td>6.14817</td>\n",
       "      <td>6.80441</td>\n",
       "      <td>5.22494</td>\n",
       "      <td>4.147288</td>\n",
       "    </tr>\n",
       "    <tr>\n",
       "      <th>min</th>\n",
       "      <td>101.000000</td>\n",
       "      <td>76.00000</td>\n",
       "      <td>76.00000</td>\n",
       "      <td>75.00000</td>\n",
       "      <td>85.000000</td>\n",
       "    </tr>\n",
       "    <tr>\n",
       "      <th>25%</th>\n",
       "      <td>102.000000</td>\n",
       "      <td>78.00000</td>\n",
       "      <td>80.00000</td>\n",
       "      <td>78.00000</td>\n",
       "      <td>88.000000</td>\n",
       "    </tr>\n",
       "    <tr>\n",
       "      <th>50%</th>\n",
       "      <td>103.000000</td>\n",
       "      <td>85.00000</td>\n",
       "      <td>84.00000</td>\n",
       "      <td>82.00000</td>\n",
       "      <td>90.000000</td>\n",
       "    </tr>\n",
       "    <tr>\n",
       "      <th>75%</th>\n",
       "      <td>104.000000</td>\n",
       "      <td>88.00000</td>\n",
       "      <td>89.00000</td>\n",
       "      <td>85.00000</td>\n",
       "      <td>92.000000</td>\n",
       "    </tr>\n",
       "    <tr>\n",
       "      <th>max</th>\n",
       "      <td>105.000000</td>\n",
       "      <td>90.00000</td>\n",
       "      <td>93.00000</td>\n",
       "      <td>88.00000</td>\n",
       "      <td>96.000000</td>\n",
       "    </tr>\n",
       "  </tbody>\n",
       "</table>\n",
       "</div>"
      ],
      "text/plain": [
       "        StudentID     Maths   Science   English  Attendance (%)\n",
       "count    5.000000   5.00000   5.00000   5.00000        5.000000\n",
       "mean   103.000000  83.40000  84.40000  81.60000       90.200000\n",
       "std      1.581139   6.14817   6.80441   5.22494        4.147288\n",
       "min    101.000000  76.00000  76.00000  75.00000       85.000000\n",
       "25%    102.000000  78.00000  80.00000  78.00000       88.000000\n",
       "50%    103.000000  85.00000  84.00000  82.00000       90.000000\n",
       "75%    104.000000  88.00000  89.00000  85.00000       92.000000\n",
       "max    105.000000  90.00000  93.00000  88.00000       96.000000"
      ]
     },
     "execution_count": 169,
     "metadata": {},
     "output_type": "execute_result"
    }
   ],
   "source": [
    "#Checking the descriptive stats\n",
    "df.describe()"
   ]
  },
  {
   "cell_type": "code",
   "execution_count": 170,
   "id": "e7bce0ea",
   "metadata": {},
   "outputs": [
    {
     "data": {
      "text/plain": [
       "(5, 8)"
      ]
     },
     "execution_count": 170,
     "metadata": {},
     "output_type": "execute_result"
    }
   ],
   "source": [
    "#Checking the (rows,columns)\n",
    "df.shape"
   ]
  },
  {
   "cell_type": "code",
   "execution_count": 171,
   "id": "d02a1bc8",
   "metadata": {},
   "outputs": [
    {
     "data": {
      "text/plain": [
       "Index(['StudentID', 'Name', 'Department', 'Maths', 'Science', 'English',\n",
       "       'Attendance (%)', 'Passed'],\n",
       "      dtype='object')"
      ]
     },
     "execution_count": 171,
     "metadata": {},
     "output_type": "execute_result"
    }
   ],
   "source": [
    "df.columns"
   ]
  },
  {
   "cell_type": "code",
   "execution_count": 172,
   "id": "e558dc31",
   "metadata": {},
   "outputs": [
    {
     "data": {
      "text/plain": [
       "RangeIndex(start=0, stop=5, step=1)"
      ]
     },
     "execution_count": 172,
     "metadata": {},
     "output_type": "execute_result"
    }
   ],
   "source": [
    "df.index"
   ]
  },
  {
   "cell_type": "code",
   "execution_count": 173,
   "id": "3b428c7c",
   "metadata": {},
   "outputs": [
    {
     "data": {
      "text/plain": [
       "0      Alice\n",
       "1        Bob\n",
       "2    Charlie\n",
       "3      David\n",
       "4        Eva\n",
       "Name: Name, dtype: object"
      ]
     },
     "execution_count": 173,
     "metadata": {},
     "output_type": "execute_result"
    }
   ],
   "source": [
    "#Column Access\n",
    "df['Name']\n",
    "df.Name"
   ]
  },
  {
   "cell_type": "code",
   "execution_count": 174,
   "id": "b543f1e2",
   "metadata": {},
   "outputs": [
    {
     "data": {
      "text/plain": [
       "StudentID           101\n",
       "Name              Alice\n",
       "Department           IT\n",
       "Maths                85\n",
       "Science              89\n",
       "English              78\n",
       "Attendance (%)       92\n",
       "Passed             True\n",
       "Name: 0, dtype: object"
      ]
     },
     "execution_count": 174,
     "metadata": {},
     "output_type": "execute_result"
    }
   ],
   "source": [
    "#Row Access\n",
    "df.iloc[0]"
   ]
  },
  {
   "cell_type": "code",
   "execution_count": 175,
   "id": "d7d2c048",
   "metadata": {},
   "outputs": [
    {
     "data": {
      "text/plain": [
       "StudentID          102\n",
       "Name               Bob\n",
       "Department          CS\n",
       "Maths               78\n",
       "Science             76\n",
       "English             88\n",
       "Attendance (%)      88\n",
       "Passed            True\n",
       "Name: 1, dtype: object"
      ]
     },
     "execution_count": 175,
     "metadata": {},
     "output_type": "execute_result"
    }
   ],
   "source": [
    "df.loc[1]"
   ]
  },
  {
   "cell_type": "code",
   "execution_count": 176,
   "id": "2d7ab66a",
   "metadata": {},
   "outputs": [
    {
     "data": {
      "text/html": [
       "<div>\n",
       "<style scoped>\n",
       "    .dataframe tbody tr th:only-of-type {\n",
       "        vertical-align: middle;\n",
       "    }\n",
       "\n",
       "    .dataframe tbody tr th {\n",
       "        vertical-align: top;\n",
       "    }\n",
       "\n",
       "    .dataframe thead th {\n",
       "        text-align: right;\n",
       "    }\n",
       "</style>\n",
       "<table border=\"1\" class=\"dataframe\">\n",
       "  <thead>\n",
       "    <tr style=\"text-align: right;\">\n",
       "      <th></th>\n",
       "      <th>StudentID</th>\n",
       "      <th>Name</th>\n",
       "      <th>Department</th>\n",
       "      <th>Maths</th>\n",
       "      <th>Science</th>\n",
       "      <th>English</th>\n",
       "      <th>Attendance (%)</th>\n",
       "      <th>Passed</th>\n",
       "    </tr>\n",
       "  </thead>\n",
       "  <tbody>\n",
       "    <tr>\n",
       "      <th>0</th>\n",
       "      <td>101</td>\n",
       "      <td>Alice</td>\n",
       "      <td>IT</td>\n",
       "      <td>85</td>\n",
       "      <td>89</td>\n",
       "      <td>78</td>\n",
       "      <td>92</td>\n",
       "      <td>True</td>\n",
       "    </tr>\n",
       "    <tr>\n",
       "      <th>1</th>\n",
       "      <td>102</td>\n",
       "      <td>Bob</td>\n",
       "      <td>CS</td>\n",
       "      <td>78</td>\n",
       "      <td>76</td>\n",
       "      <td>88</td>\n",
       "      <td>88</td>\n",
       "      <td>True</td>\n",
       "    </tr>\n",
       "  </tbody>\n",
       "</table>\n",
       "</div>"
      ],
      "text/plain": [
       "   StudentID   Name Department  Maths  Science  English  Attendance (%)  \\\n",
       "0        101  Alice         IT     85       89       78              92   \n",
       "1        102    Bob         CS     78       76       88              88   \n",
       "\n",
       "   Passed  \n",
       "0    True  \n",
       "1    True  "
      ]
     },
     "execution_count": 176,
     "metadata": {},
     "output_type": "execute_result"
    }
   ],
   "source": [
    "df[0:2]"
   ]
  },
  {
   "cell_type": "code",
   "execution_count": 177,
   "id": "121fd22c",
   "metadata": {},
   "outputs": [
    {
     "data": {
      "text/plain": [
       "0      Alice\n",
       "1        Bob\n",
       "2    Charlie\n",
       "3      David\n",
       "4        Eva\n",
       "Name: Name, dtype: object"
      ]
     },
     "execution_count": 177,
     "metadata": {},
     "output_type": "execute_result"
    }
   ],
   "source": [
    "df['Name']"
   ]
  },
  {
   "cell_type": "code",
   "execution_count": 178,
   "id": "02ee5b6c",
   "metadata": {},
   "outputs": [
    {
     "data": {
      "text/html": [
       "<div>\n",
       "<style scoped>\n",
       "    .dataframe tbody tr th:only-of-type {\n",
       "        vertical-align: middle;\n",
       "    }\n",
       "\n",
       "    .dataframe tbody tr th {\n",
       "        vertical-align: top;\n",
       "    }\n",
       "\n",
       "    .dataframe thead th {\n",
       "        text-align: right;\n",
       "    }\n",
       "</style>\n",
       "<table border=\"1\" class=\"dataframe\">\n",
       "  <thead>\n",
       "    <tr style=\"text-align: right;\">\n",
       "      <th></th>\n",
       "      <th>StudentID</th>\n",
       "      <th>Maths</th>\n",
       "      <th>Science</th>\n",
       "    </tr>\n",
       "  </thead>\n",
       "  <tbody>\n",
       "    <tr>\n",
       "      <th>0</th>\n",
       "      <td>101</td>\n",
       "      <td>85</td>\n",
       "      <td>89</td>\n",
       "    </tr>\n",
       "    <tr>\n",
       "      <th>1</th>\n",
       "      <td>102</td>\n",
       "      <td>78</td>\n",
       "      <td>76</td>\n",
       "    </tr>\n",
       "    <tr>\n",
       "      <th>2</th>\n",
       "      <td>103</td>\n",
       "      <td>90</td>\n",
       "      <td>93</td>\n",
       "    </tr>\n",
       "    <tr>\n",
       "      <th>3</th>\n",
       "      <td>104</td>\n",
       "      <td>88</td>\n",
       "      <td>84</td>\n",
       "    </tr>\n",
       "    <tr>\n",
       "      <th>4</th>\n",
       "      <td>105</td>\n",
       "      <td>76</td>\n",
       "      <td>80</td>\n",
       "    </tr>\n",
       "  </tbody>\n",
       "</table>\n",
       "</div>"
      ],
      "text/plain": [
       "   StudentID  Maths  Science\n",
       "0        101     85       89\n",
       "1        102     78       76\n",
       "2        103     90       93\n",
       "3        104     88       84\n",
       "4        105     76       80"
      ]
     },
     "execution_count": 178,
     "metadata": {},
     "output_type": "execute_result"
    }
   ],
   "source": [
    "df[['StudentID','Maths','Science']]"
   ]
  },
  {
   "cell_type": "code",
   "execution_count": 179,
   "id": "6ca07c18",
   "metadata": {},
   "outputs": [
    {
     "data": {
      "text/html": [
       "<div>\n",
       "<style scoped>\n",
       "    .dataframe tbody tr th:only-of-type {\n",
       "        vertical-align: middle;\n",
       "    }\n",
       "\n",
       "    .dataframe tbody tr th {\n",
       "        vertical-align: top;\n",
       "    }\n",
       "\n",
       "    .dataframe thead th {\n",
       "        text-align: right;\n",
       "    }\n",
       "</style>\n",
       "<table border=\"1\" class=\"dataframe\">\n",
       "  <thead>\n",
       "    <tr style=\"text-align: right;\">\n",
       "      <th></th>\n",
       "      <th>StudentID</th>\n",
       "      <th>Name</th>\n",
       "      <th>Department</th>\n",
       "      <th>Maths</th>\n",
       "      <th>Science</th>\n",
       "      <th>English</th>\n",
       "      <th>Attendance (%)</th>\n",
       "      <th>Passed</th>\n",
       "    </tr>\n",
       "  </thead>\n",
       "  <tbody>\n",
       "    <tr>\n",
       "      <th>1</th>\n",
       "      <td>102</td>\n",
       "      <td>Bob</td>\n",
       "      <td>CS</td>\n",
       "      <td>78</td>\n",
       "      <td>76</td>\n",
       "      <td>88</td>\n",
       "      <td>88</td>\n",
       "      <td>True</td>\n",
       "    </tr>\n",
       "    <tr>\n",
       "      <th>2</th>\n",
       "      <td>103</td>\n",
       "      <td>Charlie</td>\n",
       "      <td>IT</td>\n",
       "      <td>90</td>\n",
       "      <td>93</td>\n",
       "      <td>85</td>\n",
       "      <td>96</td>\n",
       "      <td>True</td>\n",
       "    </tr>\n",
       "    <tr>\n",
       "      <th>3</th>\n",
       "      <td>104</td>\n",
       "      <td>David</td>\n",
       "      <td>EXTC</td>\n",
       "      <td>88</td>\n",
       "      <td>84</td>\n",
       "      <td>75</td>\n",
       "      <td>85</td>\n",
       "      <td>True</td>\n",
       "    </tr>\n",
       "  </tbody>\n",
       "</table>\n",
       "</div>"
      ],
      "text/plain": [
       "   StudentID     Name Department  Maths  Science  English  Attendance (%)  \\\n",
       "1        102      Bob         CS     78       76       88              88   \n",
       "2        103  Charlie         IT     90       93       85              96   \n",
       "3        104    David       EXTC     88       84       75              85   \n",
       "\n",
       "   Passed  \n",
       "1    True  \n",
       "2    True  \n",
       "3    True  "
      ]
     },
     "execution_count": 179,
     "metadata": {},
     "output_type": "execute_result"
    }
   ],
   "source": [
    "df[1:4]"
   ]
  },
  {
   "cell_type": "code",
   "execution_count": 180,
   "id": "1585d1ea",
   "metadata": {},
   "outputs": [
    {
     "data": {
      "text/html": [
       "<div>\n",
       "<style scoped>\n",
       "    .dataframe tbody tr th:only-of-type {\n",
       "        vertical-align: middle;\n",
       "    }\n",
       "\n",
       "    .dataframe tbody tr th {\n",
       "        vertical-align: top;\n",
       "    }\n",
       "\n",
       "    .dataframe thead th {\n",
       "        text-align: right;\n",
       "    }\n",
       "</style>\n",
       "<table border=\"1\" class=\"dataframe\">\n",
       "  <thead>\n",
       "    <tr style=\"text-align: right;\">\n",
       "      <th></th>\n",
       "      <th>StudentID</th>\n",
       "      <th>Name</th>\n",
       "      <th>Department</th>\n",
       "      <th>Maths</th>\n",
       "      <th>Science</th>\n",
       "      <th>English</th>\n",
       "      <th>Attendance (%)</th>\n",
       "      <th>Passed</th>\n",
       "    </tr>\n",
       "  </thead>\n",
       "  <tbody>\n",
       "    <tr>\n",
       "      <th>0</th>\n",
       "      <td>101</td>\n",
       "      <td>Alice</td>\n",
       "      <td>IT</td>\n",
       "      <td>85</td>\n",
       "      <td>89</td>\n",
       "      <td>78</td>\n",
       "      <td>92</td>\n",
       "      <td>True</td>\n",
       "    </tr>\n",
       "    <tr>\n",
       "      <th>2</th>\n",
       "      <td>103</td>\n",
       "      <td>Charlie</td>\n",
       "      <td>IT</td>\n",
       "      <td>90</td>\n",
       "      <td>93</td>\n",
       "      <td>85</td>\n",
       "      <td>96</td>\n",
       "      <td>True</td>\n",
       "    </tr>\n",
       "    <tr>\n",
       "      <th>3</th>\n",
       "      <td>104</td>\n",
       "      <td>David</td>\n",
       "      <td>EXTC</td>\n",
       "      <td>88</td>\n",
       "      <td>84</td>\n",
       "      <td>75</td>\n",
       "      <td>85</td>\n",
       "      <td>True</td>\n",
       "    </tr>\n",
       "  </tbody>\n",
       "</table>\n",
       "</div>"
      ],
      "text/plain": [
       "   StudentID     Name Department  Maths  Science  English  Attendance (%)  \\\n",
       "0        101    Alice         IT     85       89       78              92   \n",
       "2        103  Charlie         IT     90       93       85              96   \n",
       "3        104    David       EXTC     88       84       75              85   \n",
       "\n",
       "   Passed  \n",
       "0    True  \n",
       "2    True  \n",
       "3    True  "
      ]
     },
     "execution_count": 180,
     "metadata": {},
     "output_type": "execute_result"
    }
   ],
   "source": [
    "df[df['Maths'] > 80]"
   ]
  },
  {
   "cell_type": "code",
   "execution_count": 181,
   "id": "cf87f39f",
   "metadata": {},
   "outputs": [
    {
     "data": {
      "text/html": [
       "<div>\n",
       "<style scoped>\n",
       "    .dataframe tbody tr th:only-of-type {\n",
       "        vertical-align: middle;\n",
       "    }\n",
       "\n",
       "    .dataframe tbody tr th {\n",
       "        vertical-align: top;\n",
       "    }\n",
       "\n",
       "    .dataframe thead th {\n",
       "        text-align: right;\n",
       "    }\n",
       "</style>\n",
       "<table border=\"1\" class=\"dataframe\">\n",
       "  <thead>\n",
       "    <tr style=\"text-align: right;\">\n",
       "      <th></th>\n",
       "      <th>StudentID</th>\n",
       "      <th>Name</th>\n",
       "      <th>Department</th>\n",
       "      <th>Maths</th>\n",
       "      <th>Science</th>\n",
       "      <th>English</th>\n",
       "      <th>Attendance (%)</th>\n",
       "      <th>Passed</th>\n",
       "    </tr>\n",
       "  </thead>\n",
       "  <tbody>\n",
       "    <tr>\n",
       "      <th>0</th>\n",
       "      <td>101</td>\n",
       "      <td>Alice</td>\n",
       "      <td>IT</td>\n",
       "      <td>85</td>\n",
       "      <td>89</td>\n",
       "      <td>78</td>\n",
       "      <td>92</td>\n",
       "      <td>True</td>\n",
       "    </tr>\n",
       "    <tr>\n",
       "      <th>2</th>\n",
       "      <td>103</td>\n",
       "      <td>Charlie</td>\n",
       "      <td>IT</td>\n",
       "      <td>90</td>\n",
       "      <td>93</td>\n",
       "      <td>85</td>\n",
       "      <td>96</td>\n",
       "      <td>True</td>\n",
       "    </tr>\n",
       "  </tbody>\n",
       "</table>\n",
       "</div>"
      ],
      "text/plain": [
       "   StudentID     Name Department  Maths  Science  English  Attendance (%)  \\\n",
       "0        101    Alice         IT     85       89       78              92   \n",
       "2        103  Charlie         IT     90       93       85              96   \n",
       "\n",
       "   Passed  \n",
       "0    True  \n",
       "2    True  "
      ]
     },
     "execution_count": 181,
     "metadata": {},
     "output_type": "execute_result"
    }
   ],
   "source": [
    "df[(df['Maths'] > 80) & (df['Science'] > 85)]"
   ]
  },
  {
   "cell_type": "code",
   "execution_count": 182,
   "id": "d8438161",
   "metadata": {},
   "outputs": [
    {
     "name": "stdout",
     "output_type": "stream",
     "text": [
      "   StudentID     Name Department  Maths  Science  English  Attendance (%)  \\\n",
      "0        101    Alice         IT     85       89       78              92   \n",
      "1        102      Bob         CS     78       76       88              88   \n",
      "2        103  Charlie         IT     90       93       85              96   \n",
      "3        104    David       EXTC     88       84       75              85   \n",
      "4        105      Eva         CS     76       80       82              90   \n",
      "\n",
      "   Passed  Total  \n",
      "0    True    252  \n",
      "1    True    242  \n",
      "2    True    268  \n",
      "3    True    247  \n",
      "4    True    238  \n"
     ]
    }
   ],
   "source": [
    "df['Total'] = df['Maths'] + df['Science'] + df['English']\n",
    "print(df)"
   ]
  },
  {
   "cell_type": "code",
   "execution_count": 183,
   "id": "bea986a7",
   "metadata": {},
   "outputs": [
    {
     "data": {
      "text/html": [
       "<div>\n",
       "<style scoped>\n",
       "    .dataframe tbody tr th:only-of-type {\n",
       "        vertical-align: middle;\n",
       "    }\n",
       "\n",
       "    .dataframe tbody tr th {\n",
       "        vertical-align: top;\n",
       "    }\n",
       "\n",
       "    .dataframe thead th {\n",
       "        text-align: right;\n",
       "    }\n",
       "</style>\n",
       "<table border=\"1\" class=\"dataframe\">\n",
       "  <thead>\n",
       "    <tr style=\"text-align: right;\">\n",
       "      <th></th>\n",
       "      <th>StudentID</th>\n",
       "      <th>Name</th>\n",
       "      <th>Department</th>\n",
       "      <th>Maths</th>\n",
       "      <th>Science</th>\n",
       "      <th>English</th>\n",
       "      <th>Attendance (%)</th>\n",
       "      <th>Passed</th>\n",
       "      <th>Total</th>\n",
       "      <th>Grade</th>\n",
       "    </tr>\n",
       "  </thead>\n",
       "  <tbody>\n",
       "    <tr>\n",
       "      <th>0</th>\n",
       "      <td>101</td>\n",
       "      <td>Alice</td>\n",
       "      <td>IT</td>\n",
       "      <td>85</td>\n",
       "      <td>89</td>\n",
       "      <td>78</td>\n",
       "      <td>92</td>\n",
       "      <td>True</td>\n",
       "      <td>252</td>\n",
       "      <td>B</td>\n",
       "    </tr>\n",
       "    <tr>\n",
       "      <th>1</th>\n",
       "      <td>102</td>\n",
       "      <td>Bob</td>\n",
       "      <td>CS</td>\n",
       "      <td>78</td>\n",
       "      <td>76</td>\n",
       "      <td>88</td>\n",
       "      <td>88</td>\n",
       "      <td>True</td>\n",
       "      <td>242</td>\n",
       "      <td>B</td>\n",
       "    </tr>\n",
       "    <tr>\n",
       "      <th>2</th>\n",
       "      <td>103</td>\n",
       "      <td>Charlie</td>\n",
       "      <td>IT</td>\n",
       "      <td>90</td>\n",
       "      <td>93</td>\n",
       "      <td>85</td>\n",
       "      <td>96</td>\n",
       "      <td>True</td>\n",
       "      <td>268</td>\n",
       "      <td>A</td>\n",
       "    </tr>\n",
       "    <tr>\n",
       "      <th>3</th>\n",
       "      <td>104</td>\n",
       "      <td>David</td>\n",
       "      <td>EXTC</td>\n",
       "      <td>88</td>\n",
       "      <td>84</td>\n",
       "      <td>75</td>\n",
       "      <td>85</td>\n",
       "      <td>True</td>\n",
       "      <td>247</td>\n",
       "      <td>B</td>\n",
       "    </tr>\n",
       "    <tr>\n",
       "      <th>4</th>\n",
       "      <td>105</td>\n",
       "      <td>Eva</td>\n",
       "      <td>CS</td>\n",
       "      <td>76</td>\n",
       "      <td>80</td>\n",
       "      <td>82</td>\n",
       "      <td>90</td>\n",
       "      <td>True</td>\n",
       "      <td>238</td>\n",
       "      <td>B</td>\n",
       "    </tr>\n",
       "  </tbody>\n",
       "</table>\n",
       "</div>"
      ],
      "text/plain": [
       "   StudentID     Name Department  Maths  Science  English  Attendance (%)  \\\n",
       "0        101    Alice         IT     85       89       78              92   \n",
       "1        102      Bob         CS     78       76       88              88   \n",
       "2        103  Charlie         IT     90       93       85              96   \n",
       "3        104    David       EXTC     88       84       75              85   \n",
       "4        105      Eva         CS     76       80       82              90   \n",
       "\n",
       "   Passed  Total Grade  \n",
       "0    True    252     B  \n",
       "1    True    242     B  \n",
       "2    True    268     A  \n",
       "3    True    247     B  \n",
       "4    True    238     B  "
      ]
     },
     "execution_count": 183,
     "metadata": {},
     "output_type": "execute_result"
    }
   ],
   "source": [
    "df['Grade'] = df['Total'].apply(lambda x: 'A' if x >= 260 else 'B')\n",
    "df\n",
    "#Grades using np\n",
    "# import numpy as np\n",
    "# df['Grade'] = np.where(df['Total'] >= 260,'A','B')"
   ]
  },
  {
   "cell_type": "code",
   "execution_count": 184,
   "id": "c8385284",
   "metadata": {},
   "outputs": [
    {
     "data": {
      "text/html": [
       "<div>\n",
       "<style scoped>\n",
       "    .dataframe tbody tr th:only-of-type {\n",
       "        vertical-align: middle;\n",
       "    }\n",
       "\n",
       "    .dataframe tbody tr th {\n",
       "        vertical-align: top;\n",
       "    }\n",
       "\n",
       "    .dataframe thead th {\n",
       "        text-align: right;\n",
       "    }\n",
       "</style>\n",
       "<table border=\"1\" class=\"dataframe\">\n",
       "  <thead>\n",
       "    <tr style=\"text-align: right;\">\n",
       "      <th></th>\n",
       "      <th>StudentID</th>\n",
       "      <th>Name</th>\n",
       "      <th>Department</th>\n",
       "      <th>Maths</th>\n",
       "      <th>Science</th>\n",
       "      <th>English</th>\n",
       "      <th>Attendance (%)</th>\n",
       "      <th>Passed</th>\n",
       "      <th>Total</th>\n",
       "      <th>Grade</th>\n",
       "    </tr>\n",
       "  </thead>\n",
       "  <tbody>\n",
       "    <tr>\n",
       "      <th>2</th>\n",
       "      <td>103</td>\n",
       "      <td>Charlie</td>\n",
       "      <td>IT</td>\n",
       "      <td>90</td>\n",
       "      <td>93</td>\n",
       "      <td>85</td>\n",
       "      <td>96</td>\n",
       "      <td>True</td>\n",
       "      <td>268</td>\n",
       "      <td>A</td>\n",
       "    </tr>\n",
       "    <tr>\n",
       "      <th>3</th>\n",
       "      <td>104</td>\n",
       "      <td>David</td>\n",
       "      <td>EXTC</td>\n",
       "      <td>88</td>\n",
       "      <td>84</td>\n",
       "      <td>75</td>\n",
       "      <td>85</td>\n",
       "      <td>True</td>\n",
       "      <td>247</td>\n",
       "      <td>B</td>\n",
       "    </tr>\n",
       "    <tr>\n",
       "      <th>0</th>\n",
       "      <td>101</td>\n",
       "      <td>Alice</td>\n",
       "      <td>IT</td>\n",
       "      <td>85</td>\n",
       "      <td>89</td>\n",
       "      <td>78</td>\n",
       "      <td>92</td>\n",
       "      <td>True</td>\n",
       "      <td>252</td>\n",
       "      <td>B</td>\n",
       "    </tr>\n",
       "    <tr>\n",
       "      <th>1</th>\n",
       "      <td>102</td>\n",
       "      <td>Bob</td>\n",
       "      <td>CS</td>\n",
       "      <td>78</td>\n",
       "      <td>76</td>\n",
       "      <td>88</td>\n",
       "      <td>88</td>\n",
       "      <td>True</td>\n",
       "      <td>242</td>\n",
       "      <td>B</td>\n",
       "    </tr>\n",
       "    <tr>\n",
       "      <th>4</th>\n",
       "      <td>105</td>\n",
       "      <td>Eva</td>\n",
       "      <td>CS</td>\n",
       "      <td>76</td>\n",
       "      <td>80</td>\n",
       "      <td>82</td>\n",
       "      <td>90</td>\n",
       "      <td>True</td>\n",
       "      <td>238</td>\n",
       "      <td>B</td>\n",
       "    </tr>\n",
       "  </tbody>\n",
       "</table>\n",
       "</div>"
      ],
      "text/plain": [
       "   StudentID     Name Department  Maths  Science  English  Attendance (%)  \\\n",
       "2        103  Charlie         IT     90       93       85              96   \n",
       "3        104    David       EXTC     88       84       75              85   \n",
       "0        101    Alice         IT     85       89       78              92   \n",
       "1        102      Bob         CS     78       76       88              88   \n",
       "4        105      Eva         CS     76       80       82              90   \n",
       "\n",
       "   Passed  Total Grade  \n",
       "2    True    268     A  \n",
       "3    True    247     B  \n",
       "0    True    252     B  \n",
       "1    True    242     B  \n",
       "4    True    238     B  "
      ]
     },
     "execution_count": 184,
     "metadata": {},
     "output_type": "execute_result"
    }
   ],
   "source": [
    "df.sort_values(by='Maths',ascending=False)"
   ]
  },
  {
   "cell_type": "code",
   "execution_count": 185,
   "id": "cdf5e273",
   "metadata": {},
   "outputs": [
    {
     "data": {
      "text/html": [
       "<div>\n",
       "<style scoped>\n",
       "    .dataframe tbody tr th:only-of-type {\n",
       "        vertical-align: middle;\n",
       "    }\n",
       "\n",
       "    .dataframe tbody tr th {\n",
       "        vertical-align: top;\n",
       "    }\n",
       "\n",
       "    .dataframe thead th {\n",
       "        text-align: right;\n",
       "    }\n",
       "</style>\n",
       "<table border=\"1\" class=\"dataframe\">\n",
       "  <thead>\n",
       "    <tr style=\"text-align: right;\">\n",
       "      <th></th>\n",
       "      <th>StudentID</th>\n",
       "      <th>Maths</th>\n",
       "      <th>Science</th>\n",
       "      <th>English</th>\n",
       "      <th>Attendance (%)</th>\n",
       "      <th>Passed</th>\n",
       "      <th>Total</th>\n",
       "    </tr>\n",
       "    <tr>\n",
       "      <th>Department</th>\n",
       "      <th></th>\n",
       "      <th></th>\n",
       "      <th></th>\n",
       "      <th></th>\n",
       "      <th></th>\n",
       "      <th></th>\n",
       "      <th></th>\n",
       "    </tr>\n",
       "  </thead>\n",
       "  <tbody>\n",
       "    <tr>\n",
       "      <th>CS</th>\n",
       "      <td>103.5</td>\n",
       "      <td>77.0</td>\n",
       "      <td>78.0</td>\n",
       "      <td>85.0</td>\n",
       "      <td>89.0</td>\n",
       "      <td>1.0</td>\n",
       "      <td>240.0</td>\n",
       "    </tr>\n",
       "    <tr>\n",
       "      <th>EXTC</th>\n",
       "      <td>104.0</td>\n",
       "      <td>88.0</td>\n",
       "      <td>84.0</td>\n",
       "      <td>75.0</td>\n",
       "      <td>85.0</td>\n",
       "      <td>1.0</td>\n",
       "      <td>247.0</td>\n",
       "    </tr>\n",
       "    <tr>\n",
       "      <th>IT</th>\n",
       "      <td>102.0</td>\n",
       "      <td>87.5</td>\n",
       "      <td>91.0</td>\n",
       "      <td>81.5</td>\n",
       "      <td>94.0</td>\n",
       "      <td>1.0</td>\n",
       "      <td>260.0</td>\n",
       "    </tr>\n",
       "  </tbody>\n",
       "</table>\n",
       "</div>"
      ],
      "text/plain": [
       "            StudentID  Maths  Science  English  Attendance (%)  Passed  Total\n",
       "Department                                                                   \n",
       "CS              103.5   77.0     78.0     85.0            89.0     1.0  240.0\n",
       "EXTC            104.0   88.0     84.0     75.0            85.0     1.0  247.0\n",
       "IT              102.0   87.5     91.0     81.5            94.0     1.0  260.0"
      ]
     },
     "execution_count": 185,
     "metadata": {},
     "output_type": "execute_result"
    }
   ],
   "source": [
    "#Grouping and Aggregation\n",
    "df.groupby('Department').mean(numeric_only=True)"
   ]
  },
  {
   "cell_type": "code",
   "execution_count": 186,
   "id": "f2e85efe",
   "metadata": {},
   "outputs": [
    {
     "data": {
      "text/html": [
       "<div>\n",
       "<style scoped>\n",
       "    .dataframe tbody tr th:only-of-type {\n",
       "        vertical-align: middle;\n",
       "    }\n",
       "\n",
       "    .dataframe tbody tr th {\n",
       "        vertical-align: top;\n",
       "    }\n",
       "\n",
       "    .dataframe thead th {\n",
       "        text-align: right;\n",
       "    }\n",
       "</style>\n",
       "<table border=\"1\" class=\"dataframe\">\n",
       "  <thead>\n",
       "    <tr style=\"text-align: right;\">\n",
       "      <th></th>\n",
       "      <th>mean</th>\n",
       "      <th>max</th>\n",
       "      <th>min</th>\n",
       "    </tr>\n",
       "    <tr>\n",
       "      <th>Department</th>\n",
       "      <th></th>\n",
       "      <th></th>\n",
       "      <th></th>\n",
       "    </tr>\n",
       "  </thead>\n",
       "  <tbody>\n",
       "    <tr>\n",
       "      <th>CS</th>\n",
       "      <td>77.0</td>\n",
       "      <td>78</td>\n",
       "      <td>76</td>\n",
       "    </tr>\n",
       "    <tr>\n",
       "      <th>EXTC</th>\n",
       "      <td>88.0</td>\n",
       "      <td>88</td>\n",
       "      <td>88</td>\n",
       "    </tr>\n",
       "    <tr>\n",
       "      <th>IT</th>\n",
       "      <td>87.5</td>\n",
       "      <td>90</td>\n",
       "      <td>85</td>\n",
       "    </tr>\n",
       "  </tbody>\n",
       "</table>\n",
       "</div>"
      ],
      "text/plain": [
       "            mean  max  min\n",
       "Department                \n",
       "CS          77.0   78   76\n",
       "EXTC        88.0   88   88\n",
       "IT          87.5   90   85"
      ]
     },
     "execution_count": 186,
     "metadata": {},
     "output_type": "execute_result"
    }
   ],
   "source": [
    "df.groupby('Department')['Maths'].agg(['mean','max','min'])"
   ]
  },
  {
   "cell_type": "code",
   "execution_count": 187,
   "id": "afa99088",
   "metadata": {},
   "outputs": [
    {
     "data": {
      "text/plain": [
       "StudentID         0\n",
       "Name              0\n",
       "Department        0\n",
       "Maths             0\n",
       "Science           0\n",
       "English           0\n",
       "Attendance (%)    0\n",
       "Passed            0\n",
       "Total             0\n",
       "Grade             0\n",
       "dtype: int64"
      ]
     },
     "execution_count": 187,
     "metadata": {},
     "output_type": "execute_result"
    }
   ],
   "source": [
    "#For Handling Missing Value\n",
    "df.isnull().sum()"
   ]
  },
  {
   "cell_type": "code",
   "execution_count": null,
   "id": "dd58e7c3",
   "metadata": {},
   "outputs": [],
   "source": [
    "# df.fillna() :- For imputing with the mean, medain,mode or any constant value"
   ]
  },
  {
   "cell_type": "code",
   "execution_count": 192,
   "id": "95b5c953",
   "metadata": {},
   "outputs": [
    {
     "data": {
      "text/html": [
       "<div>\n",
       "<style scoped>\n",
       "    .dataframe tbody tr th:only-of-type {\n",
       "        vertical-align: middle;\n",
       "    }\n",
       "\n",
       "    .dataframe tbody tr th {\n",
       "        vertical-align: top;\n",
       "    }\n",
       "\n",
       "    .dataframe thead th {\n",
       "        text-align: right;\n",
       "    }\n",
       "</style>\n",
       "<table border=\"1\" class=\"dataframe\">\n",
       "  <thead>\n",
       "    <tr style=\"text-align: right;\">\n",
       "      <th></th>\n",
       "      <th>StudentID</th>\n",
       "      <th>Name</th>\n",
       "      <th>Department</th>\n",
       "      <th>Maths</th>\n",
       "      <th>Science</th>\n",
       "      <th>English</th>\n",
       "      <th>Attendance (%)</th>\n",
       "      <th>Passed</th>\n",
       "      <th>Total</th>\n",
       "      <th>Grade</th>\n",
       "      <th>ID</th>\n",
       "      <th>Club</th>\n",
       "    </tr>\n",
       "  </thead>\n",
       "  <tbody>\n",
       "    <tr>\n",
       "      <th>0</th>\n",
       "      <td>101</td>\n",
       "      <td>Alice</td>\n",
       "      <td>IT</td>\n",
       "      <td>85</td>\n",
       "      <td>89</td>\n",
       "      <td>78</td>\n",
       "      <td>92</td>\n",
       "      <td>True</td>\n",
       "      <td>252</td>\n",
       "      <td>B</td>\n",
       "      <td>101.0</td>\n",
       "      <td>Drama</td>\n",
       "    </tr>\n",
       "    <tr>\n",
       "      <th>1</th>\n",
       "      <td>102</td>\n",
       "      <td>Bob</td>\n",
       "      <td>CS</td>\n",
       "      <td>78</td>\n",
       "      <td>76</td>\n",
       "      <td>88</td>\n",
       "      <td>88</td>\n",
       "      <td>True</td>\n",
       "      <td>242</td>\n",
       "      <td>B</td>\n",
       "      <td>102.0</td>\n",
       "      <td>Music</td>\n",
       "    </tr>\n",
       "    <tr>\n",
       "      <th>2</th>\n",
       "      <td>103</td>\n",
       "      <td>Charlie</td>\n",
       "      <td>IT</td>\n",
       "      <td>90</td>\n",
       "      <td>93</td>\n",
       "      <td>85</td>\n",
       "      <td>96</td>\n",
       "      <td>True</td>\n",
       "      <td>268</td>\n",
       "      <td>A</td>\n",
       "      <td>NaN</td>\n",
       "      <td>NaN</td>\n",
       "    </tr>\n",
       "    <tr>\n",
       "      <th>3</th>\n",
       "      <td>104</td>\n",
       "      <td>David</td>\n",
       "      <td>EXTC</td>\n",
       "      <td>88</td>\n",
       "      <td>84</td>\n",
       "      <td>75</td>\n",
       "      <td>85</td>\n",
       "      <td>True</td>\n",
       "      <td>247</td>\n",
       "      <td>B</td>\n",
       "      <td>NaN</td>\n",
       "      <td>NaN</td>\n",
       "    </tr>\n",
       "    <tr>\n",
       "      <th>4</th>\n",
       "      <td>105</td>\n",
       "      <td>Eva</td>\n",
       "      <td>CS</td>\n",
       "      <td>76</td>\n",
       "      <td>80</td>\n",
       "      <td>82</td>\n",
       "      <td>90</td>\n",
       "      <td>True</td>\n",
       "      <td>238</td>\n",
       "      <td>B</td>\n",
       "      <td>NaN</td>\n",
       "      <td>NaN</td>\n",
       "    </tr>\n",
       "  </tbody>\n",
       "</table>\n",
       "</div>"
      ],
      "text/plain": [
       "   StudentID     Name Department  Maths  Science  English  Attendance (%)  \\\n",
       "0        101    Alice         IT     85       89       78              92   \n",
       "1        102      Bob         CS     78       76       88              88   \n",
       "2        103  Charlie         IT     90       93       85              96   \n",
       "3        104    David       EXTC     88       84       75              85   \n",
       "4        105      Eva         CS     76       80       82              90   \n",
       "\n",
       "   Passed  Total Grade     ID   Club  \n",
       "0    True    252     B  101.0  Drama  \n",
       "1    True    242     B  102.0  Music  \n",
       "2    True    268     A    NaN    NaN  \n",
       "3    True    247     B    NaN    NaN  \n",
       "4    True    238     B    NaN    NaN  "
      ]
     },
     "execution_count": 192,
     "metadata": {},
     "output_type": "execute_result"
    }
   ],
   "source": [
    "#Merging and Joining\n",
    "df1 = pd.DataFrame(\n",
    "    {'ID':[101,102],\n",
    "     'Club':['Drama','Music']\n",
    "    })\n",
    "\n",
    "df.merge(df1,left_on='StudentID', right_on='ID',how='left')"
   ]
  },
  {
   "cell_type": "code",
   "execution_count": 201,
   "id": "a03597b0",
   "metadata": {},
   "outputs": [
    {
     "data": {
      "text/plain": [
       "<Axes: >"
      ]
     },
     "execution_count": 201,
     "metadata": {},
     "output_type": "execute_result"
    },
    {
     "data": {
      "image/png": "[encoded data removed]",
      "text/plain": [
       "<Figure size 640x480 with 1 Axes>"
      ]
     },
     "metadata": {},
     "output_type": "display_data"
    }
   ],
   "source": [
    "#Data Visualization\n",
    "\n",
    "df[['Maths','Science','English']].plot(kind='bar',colormap='viridis')"
   ]
  },
  {
   "cell_type": "code",
   "execution_count": 205,
   "id": "3164602f",
   "metadata": {},
   "outputs": [
    {
     "data": {
      "text/plain": [
       "<Axes: xlabel='Department'>"
      ]
     },
     "execution_count": 205,
     "metadata": {},
     "output_type": "execute_result"
    },
    {
     "data": {
      "image/png": "[encoded data removed]",
      "text/plain": [
       "<Figure size 640x480 with 1 Axes>"
      ]
     },
     "metadata": {},
     "output_type": "display_data"
    }
   ],
   "source": [
    "df['Department'].value_counts().plot(kind='bar',colormap='viridis')"
   ]
  }
 ],
 "metadata": {
  "kernelspec": {
   "display_name": "Python 3",
   "language": "python",
   "name": "python3"
  },
  "language_info": {
   "codemirror_mode": {
    "name": "ipython",
    "version": 3
   },
   "file_extension": ".py",
   "mimetype": "text/x-python",
   "name": "python",
   "nbconvert_exporter": "python",
   "pygments_lexer": "ipython3",
   "version": "3.10.11"
  }
 },
 "nbformat": 4,
 "nbformat_minor": 5
}
