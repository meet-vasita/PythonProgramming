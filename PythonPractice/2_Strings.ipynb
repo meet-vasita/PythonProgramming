{
 "cells": [
  {
   "cell_type": "markdown",
   "metadata": {},
   "source": [
    "# **Strings in Python**"
   ]
  },
  {
   "cell_type": "markdown",
   "metadata": {},
   "source": [
    "# **What is a String in Python?**\n",
    "\n",
    "### A string is a sequence of characters enclosed in single (') or double (\") quotes."
   ]
  },
  {
   "cell_type": "code",
   "execution_count": 3,
   "metadata": {},
   "outputs": [
    {
     "name": "stdout",
     "output_type": "stream",
     "text": [
      "Meet\n",
      "Hello World!\n",
      "\n"
     ]
    }
   ],
   "source": [
    "name = 'Meet'\n",
    "greetings = 'Hello World!'\n",
    "empty = ''\n",
    "\n",
    "print(name)\n",
    "print(greetings)\n",
    "print(empty)"
   ]
  },
  {
   "cell_type": "markdown",
   "metadata": {},
   "source": [
    "# **String Creation**\n",
    "\n",
    "### You can create strings using:\n",
    "### Single quotes: 'hello'\n",
    "### Double quotes: \"hello\"\n",
    "### Triple quotes: '''hello''' or \"\"\"hello\"\"\" (used for multi-line strings)"
   ]
  },
  {
   "cell_type": "code",
   "execution_count": 4,
   "metadata": {},
   "outputs": [
    {
     "name": "stdout",
     "output_type": "stream",
     "text": [
      "\n",
      "this\n",
      "is \n",
      "the \n",
      "multiline \n",
      "string\n",
      "\n"
     ]
    }
   ],
   "source": [
    "multi_line= '''\n",
    "this\n",
    "is \n",
    "the \n",
    "multiline \n",
    "string\n",
    "'''\n",
    "\n",
    "print(multi_line)"
   ]
  },
  {
   "cell_type": "code",
   "execution_count": 9,
   "metadata": {},
   "outputs": [
    {
     "name": "stdout",
     "output_type": "stream",
     "text": [
      "P\n",
      "y\n",
      "n\n"
     ]
    }
   ],
   "source": [
    "#Accessing Characters\n",
    "\n",
    "text = 'Python'\n",
    "\n",
    "print(text[0])\n",
    "print(text[1])\n",
    "print(text[-1])"
   ]
  },
  {
   "cell_type": "code",
   "execution_count": 13,
   "metadata": {},
   "outputs": [
    {
     "name": "stdout",
     "output_type": "stream",
     "text": [
      "He\n",
      "ello Python\n",
      "Hel\n"
     ]
    }
   ],
   "source": [
    "#Slicing Strings\n",
    "text = 'Hello Python'\n",
    "\n",
    "print(text[0:2])\n",
    "print(text[1:])\n",
    "print(text[:3])"
   ]
  },
  {
   "cell_type": "code",
   "execution_count": 14,
   "metadata": {},
   "outputs": [
    {
     "name": "stdout",
     "output_type": "stream",
     "text": [
      "H\n",
      "e\n",
      "l\n",
      "l\n",
      "o\n",
      " \n",
      "P\n",
      "y\n",
      "t\n",
      "h\n",
      "o\n",
      "n\n"
     ]
    }
   ],
   "source": [
    "#Looping through Strings\n",
    "\n",
    "str = 'Hello Python'\n",
    "\n",
    "for char in str:\n",
    "    print(char)"
   ]
  },
  {
   "cell_type": "code",
   "execution_count": 19,
   "metadata": {},
   "outputs": [
    {
     "name": "stdout",
     "output_type": "stream",
     "text": [
      "Hello World\n",
      "HaHaHaHaHa\n"
     ]
    }
   ],
   "source": [
    "#String Concatenation & Repetition\n",
    "\n",
    "print('Hello' + ' ' +'World')\n",
    "print('Ha'*5)"
   ]
  },
  {
   "cell_type": "markdown",
   "metadata": {},
   "source": [
    "| Method                    | Description                         |\n",
    "| ------------------------- | ----------------------------------- |\n",
    "| `lower()`                 | Converts to lowercase               |\n",
    "| `upper()`                 | Converts to uppercase               |\n",
    "| `strip()`                 | Removes leading/trailing whitespace |\n",
    "| `replace(old, new)`       | Replaces substring                  |\n",
    "| `split(separator)`        | Splits into list                    |\n",
    "| `join(list)`              | Joins list into string              |\n",
    "| `find(sub)`               | Finds position of substring         |\n",
    "| `count(sub)`              | Counts occurrences                  |\n",
    "| `startswith()/endswith()` | Checks prefix/suffix                |\n"
   ]
  },
  {
   "cell_type": "code",
   "execution_count": 24,
   "metadata": {},
   "outputs": [
    {
     "name": "stdout",
     "output_type": "stream",
     "text": [
      "Hello World\n",
      " hello world \n",
      " Hello Meet \n",
      "['Hello', 'World']\n"
     ]
    }
   ],
   "source": [
    "s = ' Hello World '\n",
    "print(s.strip())\n",
    "print(s.lower())\n",
    "print(s.replace('World','Meet'))\n",
    "print(s.split())"
   ]
  },
  {
   "cell_type": "code",
   "execution_count": null,
   "metadata": {},
   "outputs": [
    {
     "ename": "TypeError",
     "evalue": "'str' object does not support item assignment",
     "output_type": "error",
     "traceback": [
      "\u001b[0;31m---------------------------------------------------------------------------\u001b[0m",
      "\u001b[0;31mTypeError\u001b[0m                                 Traceback (most recent call last)",
      "Cell \u001b[0;32mIn[26], line 3\u001b[0m\n\u001b[1;32m      1\u001b[0m \u001b[38;5;66;03m#String Immutablity\u001b[39;00m\n\u001b[1;32m      2\u001b[0m s \u001b[38;5;241m=\u001b[39m \u001b[38;5;124m'\u001b[39m\u001b[38;5;124mHello\u001b[39m\u001b[38;5;124m'\u001b[39m\n\u001b[0;32m----> 3\u001b[0m \u001b[43ms\u001b[49m\u001b[43m[\u001b[49m\u001b[38;5;241;43m0\u001b[39;49m\u001b[43m]\u001b[49m \u001b[38;5;241m=\u001b[39m \u001b[38;5;124m'\u001b[39m\u001b[38;5;124mh\u001b[39m\u001b[38;5;124m'\u001b[39m \u001b[38;5;66;03m#Error\u001b[39;00m\n\u001b[1;32m      4\u001b[0m \u001b[38;5;28mprint\u001b[39m(s)\n",
      "\u001b[0;31mTypeError\u001b[0m: 'str' object does not support item assignment"
     ]
    }
   ],
   "source": [
    "#String Immutablity\n",
    "s = 'Hello'\n",
    "s[0] = 'h' #Error"
   ]
  },
  {
   "cell_type": "code",
   "execution_count": 27,
   "metadata": {},
   "outputs": [
    {
     "name": "stdout",
     "output_type": "stream",
     "text": [
      "6\n"
     ]
    }
   ],
   "source": [
    "#Length of a string\n",
    "s = 'Python'\n",
    "print(len(s))"
   ]
  },
  {
   "cell_type": "code",
   "execution_count": 28,
   "metadata": {},
   "outputs": [
    {
     "name": "stdout",
     "output_type": "stream",
     "text": [
      "Python\n",
      "Python\n",
      "Programming\n",
      "Programming\n",
      "Pto rgamn\n"
     ]
    }
   ],
   "source": [
    "#Slicing: Extracting the parts of the string \n",
    "\n",
    "new_text = \"Python Programming\"\n",
    "\n",
    "print(new_text[0:6])\n",
    "print(new_text[:6])\n",
    "print(new_text[7:])\n",
    "print(new_text[-11:])  #'Programming' (-11 to -1) or (-11 to -2)\n",
    "print(new_text[::2])   #'Pto rgamn' (every second char)\n"
   ]
  },
  {
   "cell_type": "code",
   "execution_count": null,
   "metadata": {},
   "outputs": [
    {
     "name": "stdout",
     "output_type": "stream",
     "text": [
      "HELLO WORLD\n",
      "hello world\n",
      "Hello World\n",
      "Hello world\n",
      "hello world\n",
      "hi world\n",
      "2\n",
      "True\n",
      "True\n"
     ]
    }
   ],
   "source": [
    "#String Methods\n",
    "another_new_text = \"hello world\"\n",
    "\n",
    "print(another_new_text.upper()) \n",
    "print(another_new_text.lower())\n",
    "print(another_new_text.title()) #Capitalize the starting character \n",
    "print(another_new_text.capitalize()) #Only Capitalize the starting char of the word\n",
    "print(another_new_text.strip()) #Remove the extra spaces\n",
    "print(another_new_text.replace(\"hello\",\"hi\"))\n",
    "print(another_new_text.count('o')) #Count the occurences of 'o'\n",
    "print(another_new_text.startswith(\"he\"))\n",
    "print(another_new_text.endswith(\"ld\"))\n"
   ]
  },
  {
   "cell_type": "code",
   "execution_count": 30,
   "metadata": {},
   "outputs": [
    {
     "name": "stdout",
     "output_type": "stream",
     "text": [
      "My name is Meet and Iam 20 years old.\n"
     ]
    }
   ],
   "source": [
    "#String Formatting \n",
    "\n",
    "name = 'Meet'\n",
    "age = '20'\n",
    "print(f\"My name is {name} and Iam {age} years old.\")"
   ]
  },
  {
   "cell_type": "code",
   "execution_count": 31,
   "metadata": {},
   "outputs": [
    {
     "name": "stdout",
     "output_type": "stream",
     "text": [
      "My Name is Meet and Iam 20 Years Old.\n"
     ]
    }
   ],
   "source": [
    "print(\"My Name is {} and Iam {} Years Old.\".format(name,age))"
   ]
  },
  {
   "cell_type": "code",
   "execution_count": 32,
   "metadata": {},
   "outputs": [
    {
     "name": "stdout",
     "output_type": "stream",
     "text": [
      "True\n",
      "True\n",
      "False\n"
     ]
    }
   ],
   "source": [
    "#Checking Substring\n",
    "\n",
    "text = \"Python Programming\"\n",
    "print(\"Python\" in text)\n",
    "print(\"Java\" not in text)\n",
    "print(\"Java\" in text)"
   ]
  },
  {
   "cell_type": "code",
   "execution_count": 33,
   "metadata": {},
   "outputs": [
    {
     "name": "stdout",
     "output_type": "stream",
     "text": [
      "nohtyP\n"
     ]
    }
   ],
   "source": [
    "#Reversing The String\n",
    "text = \"Python\"\n",
    "print(text[::-1])"
   ]
  },
  {
   "cell_type": "code",
   "execution_count": 34,
   "metadata": {},
   "outputs": [
    {
     "name": "stdout",
     "output_type": "stream",
     "text": [
      "['apple', 'banana', 'orange']\n",
      "apple banana orange\n"
     ]
    }
   ],
   "source": [
    "#Splitting and Joining Strings\n",
    "text = \"apple,banana,orange\"\n",
    "words = text.split(\",\") #Prints the list\n",
    "\n",
    "print(words)\n",
    "\n",
    "sentence = \" \".join(words) #Write it as a sentence\n",
    "print(sentence)"
   ]
  },
  {
   "cell_type": "code",
   "execution_count": 36,
   "metadata": {},
   "outputs": [
    {
     "name": "stdout",
     "output_type": "stream",
     "text": [
      "['Meet', 'Vinod', 'Vasita']\n"
     ]
    }
   ],
   "source": [
    "text = \"Meet,Vinod,Vasita\"\n",
    "name = text.split(\",\")\n",
    "print(name)"
   ]
  },
  {
   "cell_type": "code",
   "execution_count": 37,
   "metadata": {},
   "outputs": [
    {
     "name": "stdout",
     "output_type": "stream",
     "text": [
      "Meet Vinod Vasita\n"
     ]
    }
   ],
   "source": [
    "sentence = \" \".join(name)\n",
    "print(sentence)"
   ]
  },
  {
   "cell_type": "code",
   "execution_count": 38,
   "metadata": {},
   "outputs": [
    {
     "name": "stdout",
     "output_type": "stream",
     "text": [
      "Hello\n",
      "World\n",
      "Tab\tSpace\n",
      "He Said : \"Python is Great\"\n",
      "It's a beautiful day\n"
     ]
    }
   ],
   "source": [
    "#Escape Characters\n",
    "\n",
    "print(\"Hello\\nWorld\") #Prints on new line\n",
    "print(\"Tab\\tSpace\")\n",
    "print(\"He Said : \\\"Python is Great\\\"\")  #Prints the string in the double quotes\n",
    "print('It\\'s a beautiful day')"
   ]
  },
  {
   "cell_type": "code",
   "execution_count": null,
   "metadata": {},
   "outputs": [
    {
     "name": "stdout",
     "output_type": "stream",
     "text": [
      "True\n",
      "True\n",
      "True\n"
     ]
    }
   ],
   "source": [
    "#Checking if string is alphabetic, numeric, or alphanumeric\n",
    "s1 = \"Python123\"\n",
    "s2 = \"Python\"\n",
    "s3 = \"12345\"\n",
    "\n",
    "print(s1.isalnum())   #True (alphanumeric)\n",
    "print(s2.isalpha())   #True (alphabetic)\n",
    "print(s3.isnumeric()) #True (numeric)\n"
   ]
  },
  {
   "cell_type": "code",
   "execution_count": 40,
   "metadata": {},
   "outputs": [
    {
     "name": "stdout",
     "output_type": "stream",
     "text": [
      "11\n"
     ]
    }
   ],
   "source": [
    "text = \"Hello World\"\n",
    "print(len(text))"
   ]
  },
  {
   "cell_type": "code",
   "execution_count": 41,
   "metadata": {},
   "outputs": [
    {
     "name": "stdout",
     "output_type": "stream",
     "text": [
      "True\n"
     ]
    }
   ],
   "source": [
    "#check palindrome\n",
    "\n",
    "s = 'madam'\n",
    "print(s == s[::-1])"
   ]
  },
  {
   "cell_type": "markdown",
   "metadata": {},
   "source": [
    "### ⚠️ Common Mistakes to Avoid"
   ]
  },
  {
   "cell_type": "code",
   "execution_count": 42,
   "metadata": {},
   "outputs": [
    {
     "ename": "IndexError",
     "evalue": "string index out of range",
     "output_type": "error",
     "traceback": [
      "\u001b[0;31m---------------------------------------------------------------------------\u001b[0m",
      "\u001b[0;31mIndexError\u001b[0m                                Traceback (most recent call last)",
      "Cell \u001b[0;32mIn[42], line 3\u001b[0m\n\u001b[1;32m      1\u001b[0m \u001b[38;5;66;03m#Index Out of range:\u001b[39;00m\n\u001b[1;32m      2\u001b[0m s \u001b[38;5;241m=\u001b[39m \u001b[38;5;124m\"\u001b[39m\u001b[38;5;124mabc\u001b[39m\u001b[38;5;124m\"\u001b[39m\n\u001b[0;32m----> 3\u001b[0m \u001b[38;5;28mprint\u001b[39m(\u001b[43ms\u001b[49m\u001b[43m[\u001b[49m\u001b[38;5;241;43m5\u001b[39;49m\u001b[43m]\u001b[49m)  \u001b[38;5;66;03m# ❌ Error\u001b[39;00m\n",
      "\u001b[0;31mIndexError\u001b[0m: string index out of range"
     ]
    }
   ],
   "source": [
    "#Index Out of range:\n",
    "s = \"abc\"\n",
    "print(s[5])  # ❌ Error"
   ]
  },
  {
   "cell_type": "code",
   "execution_count": 46,
   "metadata": {},
   "outputs": [
    {
     "name": "stdout",
     "output_type": "stream",
     "text": [
      "PYTHON\n"
     ]
    }
   ],
   "source": [
    "#Wrong usage of methods:\n",
    "s = \"Python\"\n",
    "s.upper()  # Does nothing if not stored or printed\n",
    "print(s.upper())  # ✅"
   ]
  },
  {
   "cell_type": "code",
   "execution_count": null,
   "metadata": {},
   "outputs": [],
   "source": [
    "#Trying to change a string (immutable!):\n",
    "s = \"hello\"\n",
    "# s[0] = 'H' ❌ Not allowed"
   ]
  },
  {
   "cell_type": "code",
   "execution_count": 51,
   "metadata": {},
   "outputs": [
    {
     "name": "stdout",
     "output_type": "stream",
     "text": [
      " Hi There\n"
     ]
    }
   ],
   "source": [
    "# Using + in a loop inefficiently:\n",
    "result = \"\"\n",
    "\n",
    "word = ['Hi','There']\n",
    "\n",
    "for char in word:\n",
    "    result = result + ' ' + char\n",
    "\n",
    "print(result)"
   ]
  },
  {
   "cell_type": "code",
   "execution_count": 56,
   "metadata": {},
   "outputs": [
    {
     "name": "stdout",
     "output_type": "stream",
     "text": [
      "----Meet---\n",
      "Meet......\n",
      "******Meet\n"
     ]
    }
   ],
   "source": [
    "#String Alignment Methods\n",
    "\n",
    "s = 'Meet'\n",
    "\n",
    "print(s.center(11,'-'))\n",
    "print(s.ljust(10,'.'))\n",
    "print(s.rjust(10,'*'))"
   ]
  },
  {
   "cell_type": "code",
   "execution_count": 64,
   "metadata": {},
   "outputs": [
    {
     "name": "stdout",
     "output_type": "stream",
     "text": [
      "2\n",
      "-1\n",
      "0\n"
     ]
    },
    {
     "ename": "ValueError",
     "evalue": "substring not found",
     "output_type": "error",
     "traceback": [
      "\u001b[0;31m---------------------------------------------------------------------------\u001b[0m",
      "\u001b[0;31mValueError\u001b[0m                                Traceback (most recent call last)",
      "Cell \u001b[0;32mIn[64], line 10\u001b[0m\n\u001b[1;32m      8\u001b[0m \u001b[38;5;28mprint\u001b[39m(s\u001b[38;5;241m.\u001b[39mfind(\u001b[38;5;124m'\u001b[39m\u001b[38;5;124mx\u001b[39m\u001b[38;5;124m'\u001b[39m))\n\u001b[1;32m      9\u001b[0m \u001b[38;5;28mprint\u001b[39m(s\u001b[38;5;241m.\u001b[39mindex(\u001b[38;5;124m'\u001b[39m\u001b[38;5;124mb\u001b[39m\u001b[38;5;124m'\u001b[39m))\n\u001b[0;32m---> 10\u001b[0m \u001b[38;5;28mprint\u001b[39m(\u001b[43ms\u001b[49m\u001b[38;5;241;43m.\u001b[39;49m\u001b[43mindex\u001b[49m\u001b[43m(\u001b[49m\u001b[38;5;124;43m'\u001b[39;49m\u001b[38;5;124;43mx\u001b[39;49m\u001b[38;5;124;43m'\u001b[39;49m\u001b[43m)\u001b[49m) \u001b[38;5;66;03m#❌ Error!\u001b[39;00m\n",
      "\u001b[0;31mValueError\u001b[0m: substring not found"
     ]
    }
   ],
   "source": [
    "#Use of find() and index()\n",
    "\n",
    "#find() returns -1 if not found.\n",
    "#index() raises an error if not found.\n",
    "\n",
    "s = 'banana'\n",
    "print(s.find('n'))\n",
    "print(s.find('x'))\n",
    "print(s.index('b'))\n",
    "print(s.index('x')) #❌ Error!\n"
   ]
  },
  {
   "cell_type": "code",
   "execution_count": null,
   "metadata": {},
   "outputs": [
    {
     "name": "stdout",
     "output_type": "stream",
     "text": [
      "['apple', 'banana', 'orange']\n"
     ]
    }
   ],
   "source": [
    "#Split() vs Join()\n",
    "#split() – breaks a string into a list\n",
    "\n",
    "s = 'apple,banana,orange'\n",
    "fruits = s.split(',')\n",
    "print(fruits)"
   ]
  },
  {
   "cell_type": "code",
   "execution_count": 66,
   "metadata": {},
   "outputs": [
    {
     "name": "stdout",
     "output_type": "stream",
     "text": [
      "apple,banana,orange\n"
     ]
    }
   ],
   "source": [
    "#join() – joins a list into a string\n",
    "print(','.join(fruits))"
   ]
  },
  {
   "cell_type": "code",
   "execution_count": 67,
   "metadata": {},
   "outputs": [
    {
     "name": "stdout",
     "output_type": "stream",
     "text": [
      "9\n"
     ]
    }
   ],
   "source": [
    "#Count digit in a string\n",
    "\n",
    "s = 'abc123def456ghi789'\n",
    "count = 0\n",
    "\n",
    "for char in s:\n",
    "    if char.isdigit():\n",
    "        count = count + 1\n",
    "\n",
    "print(count)"
   ]
  },
  {
   "cell_type": "code",
   "execution_count": 68,
   "metadata": {},
   "outputs": [
    {
     "name": "stdout",
     "output_type": "stream",
     "text": [
      "2\n"
     ]
    }
   ],
   "source": [
    "#Count how many times a character appears\n",
    "\n",
    "s = 'programming'\n",
    "count = s.count('g')\n",
    "print(count)"
   ]
  },
  {
   "cell_type": "code",
   "execution_count": null,
   "metadata": {},
   "outputs": [
    {
     "name": "stdout",
     "output_type": "stream",
     "text": [
      "e : True\n",
      "d : False\n",
      "u : True\n",
      "c : False\n",
      "a : True\n",
      "t : False\n",
      "i : True\n",
      "o : True\n",
      "n : False\n",
      "Final Result: dctn\n"
     ]
    }
   ],
   "source": [
    "#removing vowels from a string\n",
    "\n",
    "str = 'education'\n",
    "vowels = 'aeiou'\n",
    "result = ''\n",
    "\n",
    "for i in str:\n",
    "    is_vowel = i in vowels\n",
    "    print(i,':',is_vowel)\n",
    "    if i not in vowels:\n",
    "        result = result + i\n",
    "\n",
    "print('Final Result:',result)"
   ]
  }
 ],
 "metadata": {
  "kernelspec": {
   "display_name": "Python 3",
   "language": "python",
   "name": "python3"
  },
  "language_info": {
   "codemirror_mode": {
    "name": "ipython",
    "version": 3
   },
   "file_extension": ".py",
   "mimetype": "text/x-python",
   "name": "python",
   "nbconvert_exporter": "python",
   "pygments_lexer": "ipython3",
   "version": "3.10.11"
  }
 },
 "nbformat": 4,
 "nbformat_minor": 2
}
